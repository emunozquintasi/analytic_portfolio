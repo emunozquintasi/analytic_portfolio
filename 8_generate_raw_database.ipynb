{
 "cells": [
  {
   "cell_type": "markdown",
   "metadata": {},
   "source": [
    "IMPORT LIBRARIES"
   ]
  },
  {
   "cell_type": "code",
   "execution_count": 1,
   "metadata": {},
   "outputs": [],
   "source": [
    "#Import necessary packages\n",
    "import pandas as pd\n",
    "import numpy as np #delete if i am not using the library"
   ]
  },
  {
   "cell_type": "markdown",
   "metadata": {},
   "source": [
    "LOAD PLAYER INFORMATION DATASET"
   ]
  },
  {
   "cell_type": "code",
   "execution_count": 2,
   "metadata": {},
   "outputs": [
    {
     "data": {
      "text/html": [
       "<div>\n",
       "<style scoped>\n",
       "    .dataframe tbody tr th:only-of-type {\n",
       "        vertical-align: middle;\n",
       "    }\n",
       "\n",
       "    .dataframe tbody tr th {\n",
       "        vertical-align: top;\n",
       "    }\n",
       "\n",
       "    .dataframe thead th {\n",
       "        text-align: right;\n",
       "    }\n",
       "</style>\n",
       "<table border=\"1\" class=\"dataframe\">\n",
       "  <thead>\n",
       "    <tr style=\"text-align: right;\">\n",
       "      <th></th>\n",
       "      <th>CLUB_NAME</th>\n",
       "      <th>PLAYER_NAME</th>\n",
       "      <th>PLAYER_VALUE</th>\n",
       "      <th>PLAYER_HREF</th>\n",
       "      <th>CLUB_HREF</th>\n",
       "      <th>LEAGUE_NAME</th>\n",
       "      <th>LEAGUE_COUNTRY</th>\n",
       "    </tr>\n",
       "  </thead>\n",
       "  <tbody>\n",
       "    <tr>\n",
       "      <th>0</th>\n",
       "      <td>Manchester City</td>\n",
       "      <td>Ederson</td>\n",
       "      <td>€40.00m</td>\n",
       "      <td>/ederson/profil/spieler/238223</td>\n",
       "      <td>https://www.transfermarkt.us/manchester-city/s...</td>\n",
       "      <td>Premier League</td>\n",
       "      <td>England</td>\n",
       "    </tr>\n",
       "    <tr>\n",
       "      <th>1</th>\n",
       "      <td>Manchester City</td>\n",
       "      <td>S. Ortega</td>\n",
       "      <td>€9.00m</td>\n",
       "      <td>/stefan-ortega/profil/spieler/85941</td>\n",
       "      <td>https://www.transfermarkt.us/manchester-city/s...</td>\n",
       "      <td>Premier League</td>\n",
       "      <td>England</td>\n",
       "    </tr>\n",
       "  </tbody>\n",
       "</table>\n",
       "</div>"
      ],
      "text/plain": [
       "         CLUB_NAME PLAYER_NAME PLAYER_VALUE  \\\n",
       "0  Manchester City     Ederson      €40.00m   \n",
       "1  Manchester City   S. Ortega       €9.00m   \n",
       "\n",
       "                           PLAYER_HREF  \\\n",
       "0       /ederson/profil/spieler/238223   \n",
       "1  /stefan-ortega/profil/spieler/85941   \n",
       "\n",
       "                                           CLUB_HREF     LEAGUE_NAME  \\\n",
       "0  https://www.transfermarkt.us/manchester-city/s...  Premier League   \n",
       "1  https://www.transfermarkt.us/manchester-city/s...  Premier League   \n",
       "\n",
       "  LEAGUE_COUNTRY  \n",
       "0        England  \n",
       "1        England  "
      ]
     },
     "execution_count": 2,
     "metadata": {},
     "output_type": "execute_result"
    }
   ],
   "source": [
    "#Load 2_players_information_2223_season.csv file\n",
    "main_data = pd.read_csv(\"datasets/2_players_information_2223_season.csv\")\n",
    "main_data.head(2)"
   ]
  },
  {
   "cell_type": "code",
   "execution_count": 3,
   "metadata": {},
   "outputs": [
    {
     "name": "stdout",
     "output_type": "stream",
     "text": [
      "<class 'pandas.core.frame.DataFrame'>\n",
      "RangeIndex: 3792 entries, 0 to 3791\n",
      "Data columns (total 7 columns):\n",
      " #   Column          Non-Null Count  Dtype \n",
      "---  ------          --------------  ----- \n",
      " 0   CLUB_NAME       3792 non-null   object\n",
      " 1   PLAYER_NAME     3792 non-null   object\n",
      " 2   PLAYER_VALUE    3638 non-null   object\n",
      " 3   PLAYER_HREF     3792 non-null   object\n",
      " 4   CLUB_HREF       3792 non-null   object\n",
      " 5   LEAGUE_NAME     3792 non-null   object\n",
      " 6   LEAGUE_COUNTRY  3792 non-null   object\n",
      "dtypes: object(7)\n",
      "memory usage: 207.5+ KB\n"
     ]
    }
   ],
   "source": [
    "#what is the used of this command, what that code explains\n",
    "main_data.info()"
   ]
  },
  {
   "cell_type": "code",
   "execution_count": 4,
   "metadata": {},
   "outputs": [
    {
     "data": {
      "text/plain": [
       "Index(['CLUB_NAME', 'PLAYER_NAME', 'PLAYER_VALUE', 'PLAYER_HREF', 'CLUB_HREF',\n",
       "       'LEAGUE_NAME', 'LEAGUE_COUNTRY'],\n",
       "      dtype='object')"
      ]
     },
     "execution_count": 4,
     "metadata": {},
     "output_type": "execute_result"
    }
   ],
   "source": [
    "#this code gives me the features information\n",
    "main_data.columns"
   ]
  },
  {
   "cell_type": "code",
   "execution_count": 5,
   "metadata": {},
   "outputs": [],
   "source": [
    "#I am needing this base url to concatenate to the Player's link\n",
    "base_URL = \"https://www.transfermarkt.com\""
   ]
  },
  {
   "cell_type": "code",
   "execution_count": 6,
   "metadata": {},
   "outputs": [],
   "source": [
    "main_data['PLAYER_HREF'] = base_URL + main_data['PLAYER_HREF']"
   ]
  },
  {
   "cell_type": "code",
   "execution_count": 7,
   "metadata": {},
   "outputs": [
    {
     "data": {
      "text/html": [
       "<div>\n",
       "<style scoped>\n",
       "    .dataframe tbody tr th:only-of-type {\n",
       "        vertical-align: middle;\n",
       "    }\n",
       "\n",
       "    .dataframe tbody tr th {\n",
       "        vertical-align: top;\n",
       "    }\n",
       "\n",
       "    .dataframe thead th {\n",
       "        text-align: right;\n",
       "    }\n",
       "</style>\n",
       "<table border=\"1\" class=\"dataframe\">\n",
       "  <thead>\n",
       "    <tr style=\"text-align: right;\">\n",
       "      <th></th>\n",
       "      <th>CLUB_NAME</th>\n",
       "      <th>PLAYER_NAME</th>\n",
       "      <th>PLAYER_VALUE</th>\n",
       "      <th>PLAYER_HREF</th>\n",
       "      <th>CLUB_HREF</th>\n",
       "      <th>LEAGUE_NAME</th>\n",
       "      <th>LEAGUE_COUNTRY</th>\n",
       "    </tr>\n",
       "  </thead>\n",
       "  <tbody>\n",
       "    <tr>\n",
       "      <th>0</th>\n",
       "      <td>Manchester City</td>\n",
       "      <td>Ederson</td>\n",
       "      <td>€40.00m</td>\n",
       "      <td>https://www.transfermarkt.com/ederson/profil/s...</td>\n",
       "      <td>https://www.transfermarkt.us/manchester-city/s...</td>\n",
       "      <td>Premier League</td>\n",
       "      <td>England</td>\n",
       "    </tr>\n",
       "    <tr>\n",
       "      <th>1</th>\n",
       "      <td>Manchester City</td>\n",
       "      <td>S. Ortega</td>\n",
       "      <td>€9.00m</td>\n",
       "      <td>https://www.transfermarkt.com/stefan-ortega/pr...</td>\n",
       "      <td>https://www.transfermarkt.us/manchester-city/s...</td>\n",
       "      <td>Premier League</td>\n",
       "      <td>England</td>\n",
       "    </tr>\n",
       "  </tbody>\n",
       "</table>\n",
       "</div>"
      ],
      "text/plain": [
       "         CLUB_NAME PLAYER_NAME PLAYER_VALUE  \\\n",
       "0  Manchester City     Ederson      €40.00m   \n",
       "1  Manchester City   S. Ortega       €9.00m   \n",
       "\n",
       "                                         PLAYER_HREF  \\\n",
       "0  https://www.transfermarkt.com/ederson/profil/s...   \n",
       "1  https://www.transfermarkt.com/stefan-ortega/pr...   \n",
       "\n",
       "                                           CLUB_HREF     LEAGUE_NAME  \\\n",
       "0  https://www.transfermarkt.us/manchester-city/s...  Premier League   \n",
       "1  https://www.transfermarkt.us/manchester-city/s...  Premier League   \n",
       "\n",
       "  LEAGUE_COUNTRY  \n",
       "0        England  \n",
       "1        England  "
      ]
     },
     "execution_count": 7,
     "metadata": {},
     "output_type": "execute_result"
    }
   ],
   "source": [
    "main_data.head(2)"
   ]
  },
  {
   "cell_type": "markdown",
   "metadata": {},
   "source": [
    "ADD URL FBREF TO DATASET"
   ]
  },
  {
   "cell_type": "code",
   "execution_count": 8,
   "metadata": {},
   "outputs": [
    {
     "name": "stdout",
     "output_type": "stream",
     "text": [
      "      PlayerFBref                                           UrlFBref  \\\n",
      "0  A.J. DeLaGarza  https://fbref.com/en/players/171b3c37/AJ-DeLaG...   \n",
      "1     AJ Marcucci  https://fbref.com/en/players/20c86a38/AJ-Marcucci   \n",
      "\n",
      "                                           UrlTmarkt       TmPos  \n",
      "0  https://www.transfermarkt.com/a-j-delagarza/pr...  Right-Back  \n",
      "1  https://www.transfermarkt.com/aj-marcucci/prof...  Goalkeeper  \n",
      "Player mapping data shape is: (14250, 4)\n"
     ]
    }
   ],
   "source": [
    "#Load 5_FBref_Transfermarkt_mapping.csv file\n",
    "player_mapping = pd.read_csv(\"datasets/5_FBref_Transfermarkt_mapping.csv\", encoding=\"latin1\")\n",
    "print(player_mapping.head(2))\n",
    "print(\"Player mapping data shape is:\", player_mapping.shape)"
   ]
  },
  {
   "cell_type": "code",
   "execution_count": 9,
   "metadata": {},
   "outputs": [
    {
     "name": "stdout",
     "output_type": "stream",
     "text": [
      "<class 'pandas.core.frame.DataFrame'>\n",
      "RangeIndex: 14250 entries, 0 to 14249\n",
      "Data columns (total 4 columns):\n",
      " #   Column       Non-Null Count  Dtype \n",
      "---  ------       --------------  ----- \n",
      " 0   PlayerFBref  14250 non-null  object\n",
      " 1   UrlFBref     14250 non-null  object\n",
      " 2   UrlTmarkt    14250 non-null  object\n",
      " 3   TmPos        14239 non-null  object\n",
      "dtypes: object(4)\n",
      "memory usage: 445.4+ KB\n"
     ]
    }
   ],
   "source": [
    "player_mapping.info()"
   ]
  },
  {
   "cell_type": "code",
   "execution_count": 10,
   "metadata": {},
   "outputs": [
    {
     "name": "stdout",
     "output_type": "stream",
     "text": [
      "<class 'pandas.core.frame.DataFrame'>\n",
      "Int64Index: 3792 entries, 0 to 3791\n",
      "Data columns (total 8 columns):\n",
      " #   Column          Non-Null Count  Dtype \n",
      "---  ------          --------------  ----- \n",
      " 0   CLUB_NAME       3792 non-null   object\n",
      " 1   PLAYER_NAME     3792 non-null   object\n",
      " 2   PLAYER_VALUE    3638 non-null   object\n",
      " 3   PLAYER_HREF     3792 non-null   object\n",
      " 4   CLUB_HREF       3792 non-null   object\n",
      " 5   LEAGUE_NAME     3792 non-null   object\n",
      " 6   LEAGUE_COUNTRY  3792 non-null   object\n",
      " 7   UrlFBref        3207 non-null   object\n",
      "dtypes: object(8)\n",
      "memory usage: 266.6+ KB\n"
     ]
    }
   ],
   "source": [
    "# Perform left join to merge player_main_data and player_mapping based on PLAYER_HREF column\n",
    "main_data_2 = main_data.merge(player_mapping[['UrlFBref','UrlTmarkt']],\n",
    "                                     left_on='PLAYER_HREF', right_on='UrlTmarkt', how='left')\n",
    "\n",
    "# Delete the \"CLUB\" column from the merged_data dataframe\n",
    "main_data_2.drop(\"UrlTmarkt\", axis=1, inplace=True)\n",
    "\n",
    "# Print the merged dataframe\n",
    "main_data_2.info()"
   ]
  },
  {
   "cell_type": "code",
   "execution_count": 11,
   "metadata": {},
   "outputs": [
    {
     "data": {
      "text/html": [
       "<div>\n",
       "<style scoped>\n",
       "    .dataframe tbody tr th:only-of-type {\n",
       "        vertical-align: middle;\n",
       "    }\n",
       "\n",
       "    .dataframe tbody tr th {\n",
       "        vertical-align: top;\n",
       "    }\n",
       "\n",
       "    .dataframe thead th {\n",
       "        text-align: right;\n",
       "    }\n",
       "</style>\n",
       "<table border=\"1\" class=\"dataframe\">\n",
       "  <thead>\n",
       "    <tr style=\"text-align: right;\">\n",
       "      <th></th>\n",
       "      <th>CLUB_NAME</th>\n",
       "      <th>PLAYER_NAME</th>\n",
       "      <th>PLAYER_VALUE</th>\n",
       "      <th>PLAYER_HREF</th>\n",
       "      <th>CLUB_HREF</th>\n",
       "      <th>LEAGUE_NAME</th>\n",
       "      <th>LEAGUE_COUNTRY</th>\n",
       "      <th>UrlFBref</th>\n",
       "    </tr>\n",
       "  </thead>\n",
       "  <tbody>\n",
       "    <tr>\n",
       "      <th>0</th>\n",
       "      <td>Manchester City</td>\n",
       "      <td>Ederson</td>\n",
       "      <td>€40.00m</td>\n",
       "      <td>https://www.transfermarkt.com/ederson/profil/s...</td>\n",
       "      <td>https://www.transfermarkt.us/manchester-city/s...</td>\n",
       "      <td>Premier League</td>\n",
       "      <td>England</td>\n",
       "      <td>https://fbref.com/en/players/3bb7b8b4/Ederson</td>\n",
       "    </tr>\n",
       "    <tr>\n",
       "      <th>1</th>\n",
       "      <td>Manchester City</td>\n",
       "      <td>S. Ortega</td>\n",
       "      <td>€9.00m</td>\n",
       "      <td>https://www.transfermarkt.com/stefan-ortega/pr...</td>\n",
       "      <td>https://www.transfermarkt.us/manchester-city/s...</td>\n",
       "      <td>Premier League</td>\n",
       "      <td>England</td>\n",
       "      <td>https://fbref.com/en/players/c1242d4e/Stefan-O...</td>\n",
       "    </tr>\n",
       "    <tr>\n",
       "      <th>2</th>\n",
       "      <td>Manchester City</td>\n",
       "      <td>Z. Steffen</td>\n",
       "      <td>€3.50m</td>\n",
       "      <td>https://www.transfermarkt.com/zack-steffen/pro...</td>\n",
       "      <td>https://www.transfermarkt.us/manchester-city/s...</td>\n",
       "      <td>Premier League</td>\n",
       "      <td>England</td>\n",
       "      <td>https://fbref.com/en/players/42130443/Zack-Ste...</td>\n",
       "    </tr>\n",
       "    <tr>\n",
       "      <th>3</th>\n",
       "      <td>Manchester City</td>\n",
       "      <td>S. Carson</td>\n",
       "      <td>€200k</td>\n",
       "      <td>https://www.transfermarkt.com/scott-carson/pro...</td>\n",
       "      <td>https://www.transfermarkt.us/manchester-city/s...</td>\n",
       "      <td>Premier League</td>\n",
       "      <td>England</td>\n",
       "      <td>https://fbref.com/en/players/3e1550ee/Scott-Ca...</td>\n",
       "    </tr>\n",
       "    <tr>\n",
       "      <th>4</th>\n",
       "      <td>Manchester City</td>\n",
       "      <td>R. Dias</td>\n",
       "      <td>€80.00m</td>\n",
       "      <td>https://www.transfermarkt.com/ruben-dias/profi...</td>\n",
       "      <td>https://www.transfermarkt.us/manchester-city/s...</td>\n",
       "      <td>Premier League</td>\n",
       "      <td>England</td>\n",
       "      <td>https://fbref.com/en/players/31c69ef1/Ruben-Dias</td>\n",
       "    </tr>\n",
       "  </tbody>\n",
       "</table>\n",
       "</div>"
      ],
      "text/plain": [
       "         CLUB_NAME PLAYER_NAME PLAYER_VALUE  \\\n",
       "0  Manchester City     Ederson      €40.00m   \n",
       "1  Manchester City   S. Ortega       €9.00m   \n",
       "2  Manchester City  Z. Steffen       €3.50m   \n",
       "3  Manchester City   S. Carson        €200k   \n",
       "4  Manchester City     R. Dias      €80.00m   \n",
       "\n",
       "                                         PLAYER_HREF  \\\n",
       "0  https://www.transfermarkt.com/ederson/profil/s...   \n",
       "1  https://www.transfermarkt.com/stefan-ortega/pr...   \n",
       "2  https://www.transfermarkt.com/zack-steffen/pro...   \n",
       "3  https://www.transfermarkt.com/scott-carson/pro...   \n",
       "4  https://www.transfermarkt.com/ruben-dias/profi...   \n",
       "\n",
       "                                           CLUB_HREF     LEAGUE_NAME  \\\n",
       "0  https://www.transfermarkt.us/manchester-city/s...  Premier League   \n",
       "1  https://www.transfermarkt.us/manchester-city/s...  Premier League   \n",
       "2  https://www.transfermarkt.us/manchester-city/s...  Premier League   \n",
       "3  https://www.transfermarkt.us/manchester-city/s...  Premier League   \n",
       "4  https://www.transfermarkt.us/manchester-city/s...  Premier League   \n",
       "\n",
       "  LEAGUE_COUNTRY                                           UrlFBref  \n",
       "0        England      https://fbref.com/en/players/3bb7b8b4/Ederson  \n",
       "1        England  https://fbref.com/en/players/c1242d4e/Stefan-O...  \n",
       "2        England  https://fbref.com/en/players/42130443/Zack-Ste...  \n",
       "3        England  https://fbref.com/en/players/3e1550ee/Scott-Ca...  \n",
       "4        England   https://fbref.com/en/players/31c69ef1/Ruben-Dias  "
      ]
     },
     "execution_count": 11,
     "metadata": {},
     "output_type": "execute_result"
    }
   ],
   "source": [
    "main_data_2.head(5)"
   ]
  },
  {
   "cell_type": "code",
   "execution_count": 12,
   "metadata": {},
   "outputs": [
    {
     "data": {
      "text/plain": [
       "Index(['CLUB_NAME', 'PLAYER_NAME', 'PLAYER_VALUE', 'PLAYER_HREF', 'CLUB_HREF',\n",
       "       'LEAGUE_NAME', 'LEAGUE_COUNTRY', 'UrlFBref'],\n",
       "      dtype='object')"
      ]
     },
     "execution_count": 12,
     "metadata": {},
     "output_type": "execute_result"
    }
   ],
   "source": [
    "main_data_2.columns"
   ]
  },
  {
   "cell_type": "markdown",
   "metadata": {},
   "source": [
    "ADD NATIONALITY"
   ]
  },
  {
   "cell_type": "code",
   "execution_count": 13,
   "metadata": {},
   "outputs": [
    {
     "name": "stdout",
     "output_type": "stream",
     "text": [
      "<class 'pandas.core.frame.DataFrame'>\n",
      "RangeIndex: 3579 entries, 0 to 3578\n",
      "Data columns (total 3 columns):\n",
      " #   Column                 Non-Null Count  Dtype \n",
      "---  ------                 --------------  ----- \n",
      " 0   URL                    3579 non-null   object\n",
      " 1   CURRENT_INTERNATIONAL  3579 non-null   object\n",
      " 2   CURRENT_MARKET_VALUE   3442 non-null   object\n",
      "dtypes: object(3)\n",
      "memory usage: 84.0+ KB\n"
     ]
    }
   ],
   "source": [
    "#Load 3_players_main_info_2223_season.csv file\n",
    "player_nationality = pd.read_csv(\"datasets/3_players_main_info_2223_season.csv\")\n",
    "player_nationality.info()"
   ]
  },
  {
   "cell_type": "code",
   "execution_count": 14,
   "metadata": {},
   "outputs": [
    {
     "data": {
      "text/html": [
       "<div>\n",
       "<style scoped>\n",
       "    .dataframe tbody tr th:only-of-type {\n",
       "        vertical-align: middle;\n",
       "    }\n",
       "\n",
       "    .dataframe tbody tr th {\n",
       "        vertical-align: top;\n",
       "    }\n",
       "\n",
       "    .dataframe thead th {\n",
       "        text-align: right;\n",
       "    }\n",
       "</style>\n",
       "<table border=\"1\" class=\"dataframe\">\n",
       "  <thead>\n",
       "    <tr style=\"text-align: right;\">\n",
       "      <th></th>\n",
       "      <th>URL</th>\n",
       "      <th>CURRENT_INTERNATIONAL</th>\n",
       "      <th>CURRENT_MARKET_VALUE</th>\n",
       "    </tr>\n",
       "  </thead>\n",
       "  <tbody>\n",
       "    <tr>\n",
       "      <th>0</th>\n",
       "      <td>https://www.transfermarkt.com/ederson/profil/s...</td>\n",
       "      <td>Brazil</td>\n",
       "      <td>€40.00m</td>\n",
       "    </tr>\n",
       "    <tr>\n",
       "      <th>1</th>\n",
       "      <td>https://www.transfermarkt.com/stefan-ortega/pr...</td>\n",
       "      <td>Germany</td>\n",
       "      <td>€9.00m</td>\n",
       "    </tr>\n",
       "  </tbody>\n",
       "</table>\n",
       "</div>"
      ],
      "text/plain": [
       "                                                 URL CURRENT_INTERNATIONAL  \\\n",
       "0  https://www.transfermarkt.com/ederson/profil/s...                Brazil   \n",
       "1  https://www.transfermarkt.com/stefan-ortega/pr...               Germany   \n",
       "\n",
       "  CURRENT_MARKET_VALUE  \n",
       "0              €40.00m  \n",
       "1               €9.00m  "
      ]
     },
     "execution_count": 14,
     "metadata": {},
     "output_type": "execute_result"
    }
   ],
   "source": [
    "player_nationality.head(2)"
   ]
  },
  {
   "cell_type": "code",
   "execution_count": 15,
   "metadata": {},
   "outputs": [
    {
     "data": {
      "text/plain": [
       "Index(['URL', 'CURRENT_INTERNATIONAL', 'CURRENT_MARKET_VALUE'], dtype='object')"
      ]
     },
     "execution_count": 15,
     "metadata": {},
     "output_type": "execute_result"
    }
   ],
   "source": [
    "player_nationality.columns"
   ]
  },
  {
   "cell_type": "code",
   "execution_count": 16,
   "metadata": {},
   "outputs": [
    {
     "name": "stdout",
     "output_type": "stream",
     "text": [
      "<class 'pandas.core.frame.DataFrame'>\n",
      "Int64Index: 3792 entries, 0 to 3791\n",
      "Data columns (total 9 columns):\n",
      " #   Column                 Non-Null Count  Dtype \n",
      "---  ------                 --------------  ----- \n",
      " 0   CLUB_NAME              3792 non-null   object\n",
      " 1   PLAYER_NAME            3792 non-null   object\n",
      " 2   PLAYER_VALUE           3638 non-null   object\n",
      " 3   PLAYER_HREF            3792 non-null   object\n",
      " 4   CLUB_HREF              3792 non-null   object\n",
      " 5   LEAGUE_NAME            3792 non-null   object\n",
      " 6   LEAGUE_COUNTRY         3792 non-null   object\n",
      " 7   UrlFBref               3207 non-null   object\n",
      " 8   CURRENT_INTERNATIONAL  3792 non-null   object\n",
      "dtypes: object(9)\n",
      "memory usage: 296.2+ KB\n"
     ]
    }
   ],
   "source": [
    "# Perform left join to merge player_main_data and player_mapping based on PLAYER_HREF column\n",
    "main_data_3 = main_data_2.merge(player_nationality[['CURRENT_INTERNATIONAL', 'URL']],\n",
    "                                     left_on='PLAYER_HREF', right_on='URL', how='left')\n",
    "\n",
    "# Delete the \"CLUB\" column from the merged_data dataframe\n",
    "main_data_3.drop(\"URL\", axis=1, inplace=True)\n",
    "\n",
    "# Print the merged dataframe\n",
    "main_data_3.info()"
   ]
  },
  {
   "cell_type": "markdown",
   "metadata": {},
   "source": [
    "ADD PLAYER FACTS TO DATASET"
   ]
  },
  {
   "cell_type": "code",
   "execution_count": 17,
   "metadata": {},
   "outputs": [
    {
     "data": {
      "text/html": [
       "<div>\n",
       "<style scoped>\n",
       "    .dataframe tbody tr th:only-of-type {\n",
       "        vertical-align: middle;\n",
       "    }\n",
       "\n",
       "    .dataframe tbody tr th {\n",
       "        vertical-align: top;\n",
       "    }\n",
       "\n",
       "    .dataframe thead th {\n",
       "        text-align: right;\n",
       "    }\n",
       "</style>\n",
       "<table border=\"1\" class=\"dataframe\">\n",
       "  <thead>\n",
       "    <tr style=\"text-align: right;\">\n",
       "      <th></th>\n",
       "      <th>INDEX</th>\n",
       "      <th>PLAYER_NAME</th>\n",
       "      <th>DATE_OF_BIRTH</th>\n",
       "      <th>AGE</th>\n",
       "      <th>HEIGHT</th>\n",
       "      <th>CITIZENSHIP</th>\n",
       "      <th>CURRENT_CLUB</th>\n",
       "      <th>JOINED</th>\n",
       "      <th>POSITION</th>\n",
       "      <th>FOOT</th>\n",
       "      <th>PLAYER_AGENT</th>\n",
       "      <th>OUTFITTER</th>\n",
       "      <th>INSTAGRAM</th>\n",
       "      <th>MAX_PLAYER_VALUATION</th>\n",
       "      <th>MAX_PLAYER_VALUATION_DATE</th>\n",
       "      <th>URL</th>\n",
       "      <th>SHORT_NAME</th>\n",
       "    </tr>\n",
       "  </thead>\n",
       "  <tbody>\n",
       "    <tr>\n",
       "      <th>0</th>\n",
       "      <td>0</td>\n",
       "      <td>Ederson</td>\n",
       "      <td>1993-08-17</td>\n",
       "      <td>29.0</td>\n",
       "      <td>1.88</td>\n",
       "      <td>Brazil Portugal</td>\n",
       "      <td>Manchester City</td>\n",
       "      <td>2017-07-01</td>\n",
       "      <td>Goalkeeper</td>\n",
       "      <td>left</td>\n",
       "      <td>Gestifute</td>\n",
       "      <td>Puma</td>\n",
       "      <td>http://instagram.com/ederson93/</td>\n",
       "      <td>70000000.0</td>\n",
       "      <td>2019-06-13</td>\n",
       "      <td>https://www.transfermarkt.com/ederson/profil/s...</td>\n",
       "      <td>Manchester City</td>\n",
       "    </tr>\n",
       "    <tr>\n",
       "      <th>1</th>\n",
       "      <td>0</td>\n",
       "      <td>Stefan Ortega</td>\n",
       "      <td>1992-11-06</td>\n",
       "      <td>30.0</td>\n",
       "      <td>1.85</td>\n",
       "      <td>Germany Spain</td>\n",
       "      <td>Manchester City</td>\n",
       "      <td>2022-07-01</td>\n",
       "      <td>Goalkeeper</td>\n",
       "      <td>right</td>\n",
       "      <td>neblung ...</td>\n",
       "      <td>NaN</td>\n",
       "      <td>http://instagram.com/stefan.ortega1/</td>\n",
       "      <td>9000000.0</td>\n",
       "      <td>2023-06-20</td>\n",
       "      <td>https://www.transfermarkt.com/stefan-ortega/pr...</td>\n",
       "      <td>Manchester City</td>\n",
       "    </tr>\n",
       "  </tbody>\n",
       "</table>\n",
       "</div>"
      ],
      "text/plain": [
       "   INDEX    PLAYER_NAME DATE_OF_BIRTH   AGE  HEIGHT      CITIZENSHIP  \\\n",
       "0      0        Ederson    1993-08-17  29.0    1.88  Brazil Portugal   \n",
       "1      0  Stefan Ortega    1992-11-06  30.0    1.85    Germany Spain   \n",
       "\n",
       "      CURRENT_CLUB      JOINED    POSITION   FOOT PLAYER_AGENT OUTFITTER  \\\n",
       "0  Manchester City  2017-07-01  Goalkeeper   left    Gestifute      Puma   \n",
       "1  Manchester City  2022-07-01  Goalkeeper  right  neblung ...       NaN   \n",
       "\n",
       "                              INSTAGRAM  MAX_PLAYER_VALUATION  \\\n",
       "0       http://instagram.com/ederson93/            70000000.0   \n",
       "1  http://instagram.com/stefan.ortega1/             9000000.0   \n",
       "\n",
       "  MAX_PLAYER_VALUATION_DATE  \\\n",
       "0                2019-06-13   \n",
       "1                2023-06-20   \n",
       "\n",
       "                                                 URL       SHORT_NAME  \n",
       "0  https://www.transfermarkt.com/ederson/profil/s...  Manchester City  \n",
       "1  https://www.transfermarkt.com/stefan-ortega/pr...  Manchester City  "
      ]
     },
     "execution_count": 17,
     "metadata": {},
     "output_type": "execute_result"
    }
   ],
   "source": [
    "#Load 4_players_complete_info_2223_season_v2.csv file\n",
    "player_complete = pd.read_csv(\"datasets/4_players_complete_info_2223_season_v3.csv\")\n",
    "player_complete.head(2)"
   ]
  },
  {
   "cell_type": "code",
   "execution_count": 18,
   "metadata": {},
   "outputs": [
    {
     "name": "stdout",
     "output_type": "stream",
     "text": [
      "<class 'pandas.core.frame.DataFrame'>\n",
      "RangeIndex: 3792 entries, 0 to 3791\n",
      "Data columns (total 17 columns):\n",
      " #   Column                     Non-Null Count  Dtype  \n",
      "---  ------                     --------------  -----  \n",
      " 0   INDEX                      3792 non-null   int64  \n",
      " 1   PLAYER_NAME                3792 non-null   object \n",
      " 2   DATE_OF_BIRTH              3779 non-null   object \n",
      " 3   AGE                        3791 non-null   float64\n",
      " 4   HEIGHT                     3570 non-null   float64\n",
      " 5   CITIZENSHIP                3792 non-null   object \n",
      " 6   CURRENT_CLUB               3792 non-null   object \n",
      " 7   JOINED                     3771 non-null   object \n",
      " 8   POSITION                   3792 non-null   object \n",
      " 9   FOOT                       3583 non-null   object \n",
      " 10  PLAYER_AGENT               3338 non-null   object \n",
      " 11  OUTFITTER                  1264 non-null   object \n",
      " 12  INSTAGRAM                  2858 non-null   object \n",
      " 13  MAX_PLAYER_VALUATION       2890 non-null   float64\n",
      " 14  MAX_PLAYER_VALUATION_DATE  3656 non-null   object \n",
      " 15  URL                        3792 non-null   object \n",
      " 16  SHORT_NAME                 3792 non-null   object \n",
      "dtypes: float64(3), int64(1), object(13)\n",
      "memory usage: 503.8+ KB\n"
     ]
    }
   ],
   "source": [
    "player_complete.info()"
   ]
  },
  {
   "cell_type": "code",
   "execution_count": 19,
   "metadata": {},
   "outputs": [
    {
     "data": {
      "text/plain": [
       "Index(['INDEX', 'PLAYER_NAME', 'DATE_OF_BIRTH', 'AGE', 'HEIGHT', 'CITIZENSHIP',\n",
       "       'CURRENT_CLUB', 'JOINED', 'POSITION', 'FOOT', 'PLAYER_AGENT',\n",
       "       'OUTFITTER', 'INSTAGRAM', 'MAX_PLAYER_VALUATION',\n",
       "       'MAX_PLAYER_VALUATION_DATE', 'URL', 'SHORT_NAME'],\n",
       "      dtype='object')"
      ]
     },
     "execution_count": 19,
     "metadata": {},
     "output_type": "execute_result"
    }
   ],
   "source": [
    "player_complete.columns"
   ]
  },
  {
   "cell_type": "code",
   "execution_count": 20,
   "metadata": {},
   "outputs": [
    {
     "name": "stdout",
     "output_type": "stream",
     "text": [
      "<class 'pandas.core.frame.DataFrame'>\n",
      "Int64Index: 4220 entries, 0 to 4219\n",
      "Data columns (total 20 columns):\n",
      " #   Column                     Non-Null Count  Dtype  \n",
      "---  ------                     --------------  -----  \n",
      " 0   CLUB_NAME                  4220 non-null   object \n",
      " 1   PLAYER_NAME                4220 non-null   object \n",
      " 2   PLAYER_VALUE               4066 non-null   object \n",
      " 3   PLAYER_HREF                4220 non-null   object \n",
      " 4   CLUB_HREF                  4220 non-null   object \n",
      " 5   LEAGUE_NAME                4220 non-null   object \n",
      " 6   LEAGUE_COUNTRY             4220 non-null   object \n",
      " 7   UrlFBref                   3635 non-null   object \n",
      " 8   CURRENT_INTERNATIONAL      4220 non-null   object \n",
      " 9   DATE_OF_BIRTH              4205 non-null   object \n",
      " 10  AGE                        4219 non-null   float64\n",
      " 11  HEIGHT                     3998 non-null   float64\n",
      " 12  CURRENT_CLUB               4220 non-null   object \n",
      " 13  JOINED                     4199 non-null   object \n",
      " 14  POSITION                   4220 non-null   object \n",
      " 15  FOOT                       4011 non-null   object \n",
      " 16  PLAYER_AGENT               3742 non-null   object \n",
      " 17  OUTFITTER                  1440 non-null   object \n",
      " 18  MAX_PLAYER_VALUATION       3318 non-null   float64\n",
      " 19  MAX_PLAYER_VALUATION_DATE  4084 non-null   object \n",
      "dtypes: float64(3), object(17)\n",
      "memory usage: 692.3+ KB\n"
     ]
    }
   ],
   "source": [
    "# Perform left join to merge player_main_data and player_mapping based on PLAYER_HREF column\n",
    "main_data_4 = main_data_3.merge(player_complete[['DATE_OF_BIRTH', 'AGE', 'HEIGHT', 'CITIZENSHIP', \n",
    "                                                      'CURRENT_CLUB', 'JOINED', 'POSITION', 'FOOT', 'PLAYER_AGENT', \n",
    "                                                      'OUTFITTER', 'MAX_PLAYER_VALUATION', 'MAX_PLAYER_VALUATION_DATE', 'URL']],\n",
    "                                     left_on='PLAYER_HREF', right_on='URL', how='left')\n",
    "\n",
    "# Delete the \"CLUB\" column from the merged_data dataframe\n",
    "main_data_4.drop(columns=[\"URL\", \"CITIZENSHIP\"], axis=1, inplace=True)\n",
    "\n",
    "# Print the merged dataframe\n",
    "main_data_4.info()"
   ]
  },
  {
   "cell_type": "code",
   "execution_count": 21,
   "metadata": {},
   "outputs": [],
   "source": [
    "main_data_4.to_csv('datasets/temp/test.csv', index=False)"
   ]
  },
  {
   "cell_type": "code",
   "execution_count": 22,
   "metadata": {},
   "outputs": [],
   "source": [
    "main_data_4.drop_duplicates(subset=['CLUB_NAME','PLAYER_HREF'], keep='first', inplace=True)"
   ]
  },
  {
   "cell_type": "code",
   "execution_count": 23,
   "metadata": {},
   "outputs": [],
   "source": [
    "# Identify the duplicates based on \"PLAYER_HREF\"\n",
    "duplicates = main_data_4[main_data_4.duplicated(subset='PLAYER_HREF', keep=False)]\n",
    "\n",
    "# Filter out the duplicates where \"CLUB_NAME\" is different from \"CURRENT_CLUB\"\n",
    "main_data_5 = main_data_4[~((main_data_4['PLAYER_HREF'].isin(duplicates['PLAYER_HREF'])) &\n",
    "                            (main_data_4['CLUB_NAME'] != main_data_4['CURRENT_CLUB']))]"
   ]
  },
  {
   "cell_type": "code",
   "execution_count": 24,
   "metadata": {},
   "outputs": [
    {
     "name": "stdout",
     "output_type": "stream",
     "text": [
      "<class 'pandas.core.frame.DataFrame'>\n",
      "Int64Index: 3555 entries, 0 to 4219\n",
      "Data columns (total 20 columns):\n",
      " #   Column                     Non-Null Count  Dtype  \n",
      "---  ------                     --------------  -----  \n",
      " 0   CLUB_NAME                  3555 non-null   object \n",
      " 1   PLAYER_NAME                3555 non-null   object \n",
      " 2   PLAYER_VALUE               3401 non-null   object \n",
      " 3   PLAYER_HREF                3555 non-null   object \n",
      " 4   CLUB_HREF                  3555 non-null   object \n",
      " 5   LEAGUE_NAME                3555 non-null   object \n",
      " 6   LEAGUE_COUNTRY             3555 non-null   object \n",
      " 7   UrlFBref                   2970 non-null   object \n",
      " 8   CURRENT_INTERNATIONAL      3555 non-null   object \n",
      " 9   DATE_OF_BIRTH              3543 non-null   object \n",
      " 10  AGE                        3554 non-null   float64\n",
      " 11  HEIGHT                     3333 non-null   float64\n",
      " 12  CURRENT_CLUB               3555 non-null   object \n",
      " 13  JOINED                     3534 non-null   object \n",
      " 14  POSITION                   3555 non-null   object \n",
      " 15  FOOT                       3346 non-null   object \n",
      " 16  PLAYER_AGENT               3114 non-null   object \n",
      " 17  OUTFITTER                  1164 non-null   object \n",
      " 18  MAX_PLAYER_VALUATION       2653 non-null   float64\n",
      " 19  MAX_PLAYER_VALUATION_DATE  3419 non-null   object \n",
      "dtypes: float64(3), object(17)\n",
      "memory usage: 583.2+ KB\n"
     ]
    }
   ],
   "source": [
    "main_data_5.info()"
   ]
  },
  {
   "cell_type": "markdown",
   "metadata": {},
   "source": [
    "ADD STATS TO DATASET"
   ]
  },
  {
   "cell_type": "code",
   "execution_count": 25,
   "metadata": {},
   "outputs": [],
   "source": [
    "# Stats were aggregated in the 7_aggregate_stats notebook\n",
    "# Load aggregated stats\n",
    "    #agg_standard_stats.csv\n",
    "    #agg_shooting_stats.csv\n",
    "    #agg_possession_stats.csv\n",
    "    #agg_playing_time_stats.csv\n",
    "    #agg_pass_stats.csv\n",
    "    #agg_misc_stats.csv\n",
    "    #agg_keeper_stats.csv\n",
    "    #agg_gca_stats.csv\n",
    "    #agg_defense_stats.csv"
   ]
  },
  {
   "cell_type": "code",
   "execution_count": 26,
   "metadata": {},
   "outputs": [],
   "source": [
    "def create_raw_final_dataset(): \n",
    "    # Define the list of aggregated stats datasets\n",
    "    aggregated_stats_files = ['agg_standard_stats.csv',\n",
    "                            'agg_shooting_stats.csv',\n",
    "                            'agg_possession_stats.csv',\n",
    "                            'agg_playing_time_stats.csv',\n",
    "                            'agg_pass_stats.csv',\n",
    "                            'agg_misc_stats.csv',\n",
    "                            'agg_keeper_stats.csv',\n",
    "                            'agg_gca_stats.csv',\n",
    "                            'agg_defense_stats.csv']\n",
    "    \n",
    "    #Define input directory\n",
    "    input_directory = \"datasets/aggregated/\"\n",
    "    \n",
    "    # Define the output directory and filename\n",
    "    output_directory = \"datasets/raw_data_final/\"\n",
    "    output_filename = \"raw_final_dataset.csv\"\n",
    "    \n",
    "    # Merge aggregated stats datasets with player_main_data_5\n",
    "    final_dataset = main_data_5.copy()  # Create a copy of player_main_data_5 as the starting point\n",
    "    \n",
    "    for file in aggregated_stats_files:\n",
    "        # Load the aggregated stats dataset\n",
    "        file_input_name = input_directory + file\n",
    "        aggregated_stats = pd.read_csv(file_input_name)\n",
    "        \n",
    "        # Merge the aggregated stats with final_dataset using the \"PLAYER_HREF\" column\n",
    "        final_dataset = final_dataset.merge(aggregated_stats, \n",
    "                                            left_on=\"UrlFBref\", right_on=\"URL\", how=\"left\")\n",
    "        \n",
    "        # Delete the \"Url\" column from the merged_data dataframe\n",
    "        final_dataset.drop(\"URL\", axis=1, inplace=True)\n",
    "    \n",
    "    # Save the final dataset as raw_final_dataset.csv\n",
    "    output_path = output_directory + output_filename\n",
    "    final_dataset.to_csv(output_path, index=False)\n",
    "    \n",
    "    print(\"Raw final dataset saved to:\", output_path)\n"
   ]
  },
  {
   "cell_type": "code",
   "execution_count": 27,
   "metadata": {},
   "outputs": [
    {
     "name": "stdout",
     "output_type": "stream",
     "text": [
      "Raw final dataset saved to: datasets/raw_data_final/raw_final_dataset.csv\n"
     ]
    }
   ],
   "source": [
    "create_raw_final_dataset()"
   ]
  },
  {
   "cell_type": "markdown",
   "metadata": {},
   "source": [
    "RAW DATASET CREATED"
   ]
  }
 ],
 "metadata": {
  "kernelspec": {
   "display_name": "base",
   "language": "python",
   "name": "python3"
  },
  "language_info": {
   "codemirror_mode": {
    "name": "ipython",
    "version": 3
   },
   "file_extension": ".py",
   "mimetype": "text/x-python",
   "name": "python",
   "nbconvert_exporter": "python",
   "pygments_lexer": "ipython3",
   "version": "3.9.13"
  },
  "orig_nbformat": 4
 },
 "nbformat": 4,
 "nbformat_minor": 2
}
