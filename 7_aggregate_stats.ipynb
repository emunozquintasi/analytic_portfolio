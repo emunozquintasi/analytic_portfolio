{
 "cells": [
  {
   "cell_type": "markdown",
   "metadata": {},
   "source": [
    "This script aggregates statistical data for players in the Big 5 Leagues across various stats type files. It addresses the challenge of players who have played for multiple teams. The script retrieves player stats type files, select important variables, aggregates based on the URL of the player, saves them as CSV files, and provides a confirmation message for each file."
   ]
  },
  {
   "cell_type": "code",
   "execution_count": 113,
   "metadata": {},
   "outputs": [],
   "source": [
    "import pandas as pd\n",
    "import numpy as np"
   ]
  },
  {
   "cell_type": "markdown",
   "metadata": {},
   "source": [
    "STANDARD STATS"
   ]
  },
  {
   "cell_type": "code",
   "execution_count": 114,
   "metadata": {},
   "outputs": [
    {
     "data": {
      "text/html": [
       "<div>\n",
       "<style scoped>\n",
       "    .dataframe tbody tr th:only-of-type {\n",
       "        vertical-align: middle;\n",
       "    }\n",
       "\n",
       "    .dataframe tbody tr th {\n",
       "        vertical-align: top;\n",
       "    }\n",
       "\n",
       "    .dataframe thead th {\n",
       "        text-align: right;\n",
       "    }\n",
       "</style>\n",
       "<table border=\"1\" class=\"dataframe\">\n",
       "  <thead>\n",
       "    <tr style=\"text-align: right;\">\n",
       "      <th></th>\n",
       "      <th>Season_End_Year</th>\n",
       "      <th>Squad</th>\n",
       "      <th>Comp</th>\n",
       "      <th>Player</th>\n",
       "      <th>Nation</th>\n",
       "      <th>Pos</th>\n",
       "      <th>Age</th>\n",
       "      <th>Born</th>\n",
       "      <th>MP_Playing</th>\n",
       "      <th>Starts_Playing</th>\n",
       "      <th>...</th>\n",
       "      <th>Ast_Per</th>\n",
       "      <th>G+A_Per</th>\n",
       "      <th>G_minus_PK_Per</th>\n",
       "      <th>G+A_minus_PK_Per</th>\n",
       "      <th>xG_Per</th>\n",
       "      <th>xAG_Per</th>\n",
       "      <th>xG+xAG_Per</th>\n",
       "      <th>npxG_Per</th>\n",
       "      <th>npxG+xAG_Per</th>\n",
       "      <th>Url</th>\n",
       "    </tr>\n",
       "  </thead>\n",
       "  <tbody>\n",
       "    <tr>\n",
       "      <th>0</th>\n",
       "      <td>2023</td>\n",
       "      <td>Ajaccio</td>\n",
       "      <td>Ligue 1</td>\n",
       "      <td>Mickaël Alphonse</td>\n",
       "      <td>GLP</td>\n",
       "      <td>DF</td>\n",
       "      <td>33</td>\n",
       "      <td>1989</td>\n",
       "      <td>26</td>\n",
       "      <td>14</td>\n",
       "      <td>...</td>\n",
       "      <td>0.0</td>\n",
       "      <td>0.00</td>\n",
       "      <td>0.00</td>\n",
       "      <td>0.00</td>\n",
       "      <td>0.03</td>\n",
       "      <td>0.04</td>\n",
       "      <td>0.08</td>\n",
       "      <td>0.03</td>\n",
       "      <td>0.08</td>\n",
       "      <td>https://fbref.com/en/players/0a63446f/Mickael-...</td>\n",
       "    </tr>\n",
       "    <tr>\n",
       "      <th>1</th>\n",
       "      <td>2023</td>\n",
       "      <td>Ajaccio</td>\n",
       "      <td>Ligue 1</td>\n",
       "      <td>Cédric Avinel</td>\n",
       "      <td>GLP</td>\n",
       "      <td>DF</td>\n",
       "      <td>35</td>\n",
       "      <td>1986</td>\n",
       "      <td>24</td>\n",
       "      <td>19</td>\n",
       "      <td>...</td>\n",
       "      <td>0.0</td>\n",
       "      <td>0.05</td>\n",
       "      <td>0.05</td>\n",
       "      <td>0.05</td>\n",
       "      <td>0.05</td>\n",
       "      <td>0.00</td>\n",
       "      <td>0.05</td>\n",
       "      <td>0.05</td>\n",
       "      <td>0.05</td>\n",
       "      <td>https://fbref.com/en/players/a94d93be/Cedric-A...</td>\n",
       "    </tr>\n",
       "  </tbody>\n",
       "</table>\n",
       "<p>2 rows × 38 columns</p>\n",
       "</div>"
      ],
      "text/plain": [
       "   Season_End_Year    Squad     Comp            Player Nation Pos  Age  Born  \\\n",
       "0             2023  Ajaccio  Ligue 1  Mickaël Alphonse    GLP  DF   33  1989   \n",
       "1             2023  Ajaccio  Ligue 1     Cédric Avinel    GLP  DF   35  1986   \n",
       "\n",
       "   MP_Playing  Starts_Playing  ...  Ast_Per  G+A_Per  G_minus_PK_Per  \\\n",
       "0          26              14  ...      0.0     0.00            0.00   \n",
       "1          24              19  ...      0.0     0.05            0.05   \n",
       "\n",
       "   G+A_minus_PK_Per  xG_Per  xAG_Per  xG+xAG_Per  npxG_Per  npxG+xAG_Per  \\\n",
       "0              0.00    0.03     0.04        0.08      0.03          0.08   \n",
       "1              0.05    0.05     0.00        0.05      0.05          0.05   \n",
       "\n",
       "                                                 Url  \n",
       "0  https://fbref.com/en/players/0a63446f/Mickael-...  \n",
       "1  https://fbref.com/en/players/a94d93be/Cedric-A...  \n",
       "\n",
       "[2 rows x 38 columns]"
      ]
     },
     "execution_count": 114,
     "metadata": {},
     "output_type": "execute_result"
    }
   ],
   "source": [
    "# Load the player statistics dataset\n",
    "standard_stats = pd.read_csv(\"datasets/6_big5_player_standard_stats.csv\")\n",
    "standard_stats.head(2)\n"
   ]
  },
  {
   "cell_type": "code",
   "execution_count": 115,
   "metadata": {},
   "outputs": [
    {
     "name": "stdout",
     "output_type": "stream",
     "text": [
      "<class 'pandas.core.frame.DataFrame'>\n",
      "RangeIndex: 2889 entries, 0 to 2888\n",
      "Data columns (total 38 columns):\n",
      " #   Column               Non-Null Count  Dtype  \n",
      "---  ------               --------------  -----  \n",
      " 0   Season_End_Year      2889 non-null   int64  \n",
      " 1   Squad                2889 non-null   object \n",
      " 2   Comp                 2889 non-null   object \n",
      " 3   Player               2889 non-null   object \n",
      " 4   Nation               2888 non-null   object \n",
      " 5   Pos                  2889 non-null   object \n",
      " 6   Age                  2889 non-null   int64  \n",
      " 7   Born                 2889 non-null   int64  \n",
      " 8   MP_Playing           2889 non-null   int64  \n",
      " 9   Starts_Playing       2889 non-null   int64  \n",
      " 10  Min_Playing          2889 non-null   int64  \n",
      " 11  Mins_Per_90_Playing  2889 non-null   float64\n",
      " 12  Gls                  2889 non-null   int64  \n",
      " 13  Ast                  2889 non-null   int64  \n",
      " 14  G+A                  2889 non-null   int64  \n",
      " 15  G_minus_PK           2889 non-null   int64  \n",
      " 16  PK                   2889 non-null   int64  \n",
      " 17  PKatt                2889 non-null   int64  \n",
      " 18  CrdY                 2889 non-null   int64  \n",
      " 19  CrdR                 2889 non-null   int64  \n",
      " 20  xG_Expected          2884 non-null   float64\n",
      " 21  npxG_Expected        2884 non-null   float64\n",
      " 22  xAG_Expected         2884 non-null   float64\n",
      " 23  npxG+xAG_Expected    2884 non-null   float64\n",
      " 24  PrgC_Progression     2884 non-null   float64\n",
      " 25  PrgP_Progression     2884 non-null   float64\n",
      " 26  PrgR_Progression     2884 non-null   float64\n",
      " 27  Gls_Per              2889 non-null   float64\n",
      " 28  Ast_Per              2889 non-null   float64\n",
      " 29  G+A_Per              2889 non-null   float64\n",
      " 30  G_minus_PK_Per       2889 non-null   float64\n",
      " 31  G+A_minus_PK_Per     2889 non-null   float64\n",
      " 32  xG_Per               2884 non-null   float64\n",
      " 33  xAG_Per              2884 non-null   float64\n",
      " 34  xG+xAG_Per           2884 non-null   float64\n",
      " 35  npxG_Per             2884 non-null   float64\n",
      " 36  npxG+xAG_Per         2884 non-null   float64\n",
      " 37  Url                  2889 non-null   object \n",
      "dtypes: float64(18), int64(14), object(6)\n",
      "memory usage: 857.8+ KB\n"
     ]
    }
   ],
   "source": [
    "standard_stats.info()"
   ]
  },
  {
   "cell_type": "code",
   "execution_count": 116,
   "metadata": {},
   "outputs": [
    {
     "data": {
      "text/plain": [
       "Index(['Season_End_Year', 'Squad', 'Comp', 'Player', 'Nation', 'Pos', 'Age',\n",
       "       'Born', 'MP_Playing', 'Starts_Playing', 'Min_Playing',\n",
       "       'Mins_Per_90_Playing', 'Gls', 'Ast', 'G+A', 'G_minus_PK', 'PK', 'PKatt',\n",
       "       'CrdY', 'CrdR', 'xG_Expected', 'npxG_Expected', 'xAG_Expected',\n",
       "       'npxG+xAG_Expected', 'PrgC_Progression', 'PrgP_Progression',\n",
       "       'PrgR_Progression', 'Gls_Per', 'Ast_Per', 'G+A_Per', 'G_minus_PK_Per',\n",
       "       'G+A_minus_PK_Per', 'xG_Per', 'xAG_Per', 'xG+xAG_Per', 'npxG_Per',\n",
       "       'npxG+xAG_Per', 'Url'],\n",
       "      dtype='object')"
      ]
     },
     "execution_count": 116,
     "metadata": {},
     "output_type": "execute_result"
    }
   ],
   "source": [
    "standard_stats.columns"
   ]
  },
  {
   "cell_type": "code",
   "execution_count": 117,
   "metadata": {},
   "outputs": [],
   "source": [
    "standard_col_selection = ['Url', 'MP_Playing', 'Starts_Playing', 'Min_Playing', 'Gls', 'Ast', 'G+A', 'G_minus_PK', \n",
    "                          'PK', 'PKatt', 'CrdY', 'CrdR', 'PrgC_Progression', 'PrgP_Progression', 'PrgR_Progression']"
   ]
  },
  {
   "cell_type": "code",
   "execution_count": 118,
   "metadata": {},
   "outputs": [
    {
     "name": "stdout",
     "output_type": "stream",
     "text": [
      "<class 'pandas.core.frame.DataFrame'>\n",
      "RangeIndex: 2889 entries, 0 to 2888\n",
      "Data columns (total 15 columns):\n",
      " #   Column            Non-Null Count  Dtype  \n",
      "---  ------            --------------  -----  \n",
      " 0   Url               2889 non-null   object \n",
      " 1   MP_Playing        2889 non-null   int64  \n",
      " 2   Starts_Playing    2889 non-null   int64  \n",
      " 3   Min_Playing       2889 non-null   int64  \n",
      " 4   Gls               2889 non-null   int64  \n",
      " 5   Ast               2889 non-null   int64  \n",
      " 6   G+A               2889 non-null   int64  \n",
      " 7   G_minus_PK        2889 non-null   int64  \n",
      " 8   PK                2889 non-null   int64  \n",
      " 9   PKatt             2889 non-null   int64  \n",
      " 10  CrdY              2889 non-null   int64  \n",
      " 11  CrdR              2889 non-null   int64  \n",
      " 12  PrgC_Progression  2884 non-null   float64\n",
      " 13  PrgP_Progression  2884 non-null   float64\n",
      " 14  PrgR_Progression  2884 non-null   float64\n",
      "dtypes: float64(3), int64(11), object(1)\n",
      "memory usage: 338.7+ KB\n"
     ]
    }
   ],
   "source": [
    "new_standard_stats = standard_stats[standard_col_selection]\n",
    "new_standard_stats.info()"
   ]
  },
  {
   "cell_type": "code",
   "execution_count": 119,
   "metadata": {},
   "outputs": [],
   "source": [
    "# Group the data by the \"Url\" column and sum the statistics\n",
    "new_standard_stats = new_standard_stats.groupby(\"Url\").sum().reset_index()\n",
    "\n",
    "# Uppercase the column names of a DataFrame\n",
    "new_standard_stats.columns = new_standard_stats.columns.str.upper()\n",
    "\n",
    "# Save the DataFrame to a CSV file\n",
    "new_standard_stats.to_csv(\"datasets/aggregated/agg_standard_stats.csv\", index=False)"
   ]
  },
  {
   "cell_type": "markdown",
   "metadata": {},
   "source": [
    "SHOOTING STATS"
   ]
  },
  {
   "cell_type": "code",
   "execution_count": 120,
   "metadata": {},
   "outputs": [
    {
     "data": {
      "text/html": [
       "<div>\n",
       "<style scoped>\n",
       "    .dataframe tbody tr th:only-of-type {\n",
       "        vertical-align: middle;\n",
       "    }\n",
       "\n",
       "    .dataframe tbody tr th {\n",
       "        vertical-align: top;\n",
       "    }\n",
       "\n",
       "    .dataframe thead th {\n",
       "        text-align: right;\n",
       "    }\n",
       "</style>\n",
       "<table border=\"1\" class=\"dataframe\">\n",
       "  <thead>\n",
       "    <tr style=\"text-align: right;\">\n",
       "      <th></th>\n",
       "      <th>Season_End_Year</th>\n",
       "      <th>Squad</th>\n",
       "      <th>Comp</th>\n",
       "      <th>Player</th>\n",
       "      <th>Nation</th>\n",
       "      <th>Pos</th>\n",
       "      <th>Age</th>\n",
       "      <th>Born</th>\n",
       "      <th>Mins_Per_90</th>\n",
       "      <th>Gls_Standard</th>\n",
       "      <th>...</th>\n",
       "      <th>Dist_Standard</th>\n",
       "      <th>FK_Standard</th>\n",
       "      <th>PK_Standard</th>\n",
       "      <th>PKatt_Standard</th>\n",
       "      <th>xG_Expected</th>\n",
       "      <th>npxG_Expected</th>\n",
       "      <th>npxG_per_Sh_Expected</th>\n",
       "      <th>G_minus_xG_Expected</th>\n",
       "      <th>np:G_minus_xG_Expected</th>\n",
       "      <th>Url</th>\n",
       "    </tr>\n",
       "  </thead>\n",
       "  <tbody>\n",
       "    <tr>\n",
       "      <th>0</th>\n",
       "      <td>2023</td>\n",
       "      <td>Ajaccio</td>\n",
       "      <td>Ligue 1</td>\n",
       "      <td>Mickaël Alphonse</td>\n",
       "      <td>GLP</td>\n",
       "      <td>DF</td>\n",
       "      <td>33</td>\n",
       "      <td>1989</td>\n",
       "      <td>15.1</td>\n",
       "      <td>0</td>\n",
       "      <td>...</td>\n",
       "      <td>16.3</td>\n",
       "      <td>0.0</td>\n",
       "      <td>0</td>\n",
       "      <td>0</td>\n",
       "      <td>0.5</td>\n",
       "      <td>0.5</td>\n",
       "      <td>0.05</td>\n",
       "      <td>-0.5</td>\n",
       "      <td>-0.5</td>\n",
       "      <td>https://fbref.com/en/players/0a63446f/Mickael-...</td>\n",
       "    </tr>\n",
       "    <tr>\n",
       "      <th>1</th>\n",
       "      <td>2023</td>\n",
       "      <td>Ajaccio</td>\n",
       "      <td>Ligue 1</td>\n",
       "      <td>Cédric Avinel</td>\n",
       "      <td>GLP</td>\n",
       "      <td>DF</td>\n",
       "      <td>35</td>\n",
       "      <td>1986</td>\n",
       "      <td>19.9</td>\n",
       "      <td>1</td>\n",
       "      <td>...</td>\n",
       "      <td>4.1</td>\n",
       "      <td>0.0</td>\n",
       "      <td>0</td>\n",
       "      <td>0</td>\n",
       "      <td>1.0</td>\n",
       "      <td>1.0</td>\n",
       "      <td>0.41</td>\n",
       "      <td>0.0</td>\n",
       "      <td>0.0</td>\n",
       "      <td>https://fbref.com/en/players/a94d93be/Cedric-A...</td>\n",
       "    </tr>\n",
       "  </tbody>\n",
       "</table>\n",
       "<p>2 rows × 27 columns</p>\n",
       "</div>"
      ],
      "text/plain": [
       "   Season_End_Year    Squad     Comp            Player Nation Pos  Age  Born  \\\n",
       "0             2023  Ajaccio  Ligue 1  Mickaël Alphonse    GLP  DF   33  1989   \n",
       "1             2023  Ajaccio  Ligue 1     Cédric Avinel    GLP  DF   35  1986   \n",
       "\n",
       "   Mins_Per_90  Gls_Standard  ...  Dist_Standard  FK_Standard  PK_Standard  \\\n",
       "0         15.1             0  ...           16.3          0.0            0   \n",
       "1         19.9             1  ...            4.1          0.0            0   \n",
       "\n",
       "   PKatt_Standard  xG_Expected  npxG_Expected  npxG_per_Sh_Expected  \\\n",
       "0               0          0.5            0.5                  0.05   \n",
       "1               0          1.0            1.0                  0.41   \n",
       "\n",
       "   G_minus_xG_Expected  np:G_minus_xG_Expected  \\\n",
       "0                 -0.5                    -0.5   \n",
       "1                  0.0                     0.0   \n",
       "\n",
       "                                                 Url  \n",
       "0  https://fbref.com/en/players/0a63446f/Mickael-...  \n",
       "1  https://fbref.com/en/players/a94d93be/Cedric-A...  \n",
       "\n",
       "[2 rows x 27 columns]"
      ]
     },
     "execution_count": 120,
     "metadata": {},
     "output_type": "execute_result"
    }
   ],
   "source": [
    "# Load the player statistics dataset\n",
    "shooting_stats = pd.read_csv(\"datasets/7_big5_player_shooting_stats.csv\")\n",
    "shooting_stats.head(2)"
   ]
  },
  {
   "cell_type": "code",
   "execution_count": 121,
   "metadata": {},
   "outputs": [
    {
     "name": "stdout",
     "output_type": "stream",
     "text": [
      "<class 'pandas.core.frame.DataFrame'>\n",
      "RangeIndex: 2889 entries, 0 to 2888\n",
      "Data columns (total 27 columns):\n",
      " #   Column                  Non-Null Count  Dtype  \n",
      "---  ------                  --------------  -----  \n",
      " 0   Season_End_Year         2889 non-null   int64  \n",
      " 1   Squad                   2889 non-null   object \n",
      " 2   Comp                    2889 non-null   object \n",
      " 3   Player                  2889 non-null   object \n",
      " 4   Nation                  2888 non-null   object \n",
      " 5   Pos                     2889 non-null   object \n",
      " 6   Age                     2889 non-null   int64  \n",
      " 7   Born                    2889 non-null   int64  \n",
      " 8   Mins_Per_90             2889 non-null   float64\n",
      " 9   Gls_Standard            2889 non-null   int64  \n",
      " 10  Sh_Standard             2889 non-null   int64  \n",
      " 11  SoT_Standard            2889 non-null   int64  \n",
      " 12  SoT_percent_Standard    2361 non-null   float64\n",
      " 13  Sh_per_90_Standard      2889 non-null   float64\n",
      " 14  SoT_per_90_Standard     2889 non-null   float64\n",
      " 15  G_per_Sh_Standard       2361 non-null   float64\n",
      " 16  G_per_SoT_Standard      1996 non-null   float64\n",
      " 17  Dist_Standard           2359 non-null   float64\n",
      " 18  FK_Standard             2884 non-null   float64\n",
      " 19  PK_Standard             2889 non-null   int64  \n",
      " 20  PKatt_Standard          2889 non-null   int64  \n",
      " 21  xG_Expected             2884 non-null   float64\n",
      " 22  npxG_Expected           2884 non-null   float64\n",
      " 23  npxG_per_Sh_Expected    2359 non-null   float64\n",
      " 24  G_minus_xG_Expected     2884 non-null   float64\n",
      " 25  np:G_minus_xG_Expected  2884 non-null   float64\n",
      " 26  Url                     2889 non-null   object \n",
      "dtypes: float64(13), int64(8), object(6)\n",
      "memory usage: 609.5+ KB\n"
     ]
    }
   ],
   "source": [
    "shooting_stats.info()"
   ]
  },
  {
   "cell_type": "code",
   "execution_count": 122,
   "metadata": {},
   "outputs": [
    {
     "data": {
      "text/plain": [
       "Index(['Season_End_Year', 'Squad', 'Comp', 'Player', 'Nation', 'Pos', 'Age',\n",
       "       'Born', 'Mins_Per_90', 'Gls_Standard', 'Sh_Standard', 'SoT_Standard',\n",
       "       'SoT_percent_Standard', 'Sh_per_90_Standard', 'SoT_per_90_Standard',\n",
       "       'G_per_Sh_Standard', 'G_per_SoT_Standard', 'Dist_Standard',\n",
       "       'FK_Standard', 'PK_Standard', 'PKatt_Standard', 'xG_Expected',\n",
       "       'npxG_Expected', 'npxG_per_Sh_Expected', 'G_minus_xG_Expected',\n",
       "       'np:G_minus_xG_Expected', 'Url'],\n",
       "      dtype='object')"
      ]
     },
     "execution_count": 122,
     "metadata": {},
     "output_type": "execute_result"
    }
   ],
   "source": [
    "shooting_stats.columns"
   ]
  },
  {
   "cell_type": "code",
   "execution_count": 123,
   "metadata": {},
   "outputs": [],
   "source": [
    "shooting_col_selection = ['Url', 'Sh_Standard', 'SoT_Standard', 'Dist_Standard', 'FK_Standard']"
   ]
  },
  {
   "cell_type": "code",
   "execution_count": 124,
   "metadata": {},
   "outputs": [
    {
     "name": "stdout",
     "output_type": "stream",
     "text": [
      "<class 'pandas.core.frame.DataFrame'>\n",
      "RangeIndex: 2889 entries, 0 to 2888\n",
      "Data columns (total 5 columns):\n",
      " #   Column         Non-Null Count  Dtype  \n",
      "---  ------         --------------  -----  \n",
      " 0   Url            2889 non-null   object \n",
      " 1   Sh_Standard    2889 non-null   int64  \n",
      " 2   SoT_Standard   2889 non-null   int64  \n",
      " 3   Dist_Standard  2359 non-null   float64\n",
      " 4   FK_Standard    2884 non-null   float64\n",
      "dtypes: float64(2), int64(2), object(1)\n",
      "memory usage: 113.0+ KB\n"
     ]
    }
   ],
   "source": [
    "new_shooting_stats = shooting_stats[shooting_col_selection]\n",
    "new_shooting_stats.info()"
   ]
  },
  {
   "cell_type": "code",
   "execution_count": 125,
   "metadata": {},
   "outputs": [],
   "source": [
    "# Define the aggregation methods for each column\n",
    "aggregation_methods_shooting = {\n",
    "    \"Sh_Standard\": \"sum\",\n",
    "    \"SoT_Standard\": \"sum\",\n",
    "    \"Dist_Standard\": \"mean\",\n",
    "    \"FK_Standard\": \"sum\"\n",
    "    # Add more columns and corresponding aggregation methods as needed\n",
    "}\n",
    "\n",
    "# Group the data by the \"Url\" column and apply the aggregation methods\n",
    "new_shooting_stats = new_shooting_stats.groupby(\"Url\").agg(aggregation_methods_shooting).reset_index()\n",
    "\n",
    "# Uppercase the column names of a DataFrame\n",
    "new_shooting_stats.columns = new_shooting_stats.columns.str.upper()\n",
    "\n",
    "# Save the DataFrame to a CSV file\n",
    "new_shooting_stats.to_csv(\"datasets/aggregated/agg_shooting_stats.csv\", index=False)"
   ]
  },
  {
   "cell_type": "markdown",
   "metadata": {},
   "source": [
    "PASSING STATS"
   ]
  },
  {
   "cell_type": "code",
   "execution_count": 126,
   "metadata": {},
   "outputs": [
    {
     "data": {
      "text/html": [
       "<div>\n",
       "<style scoped>\n",
       "    .dataframe tbody tr th:only-of-type {\n",
       "        vertical-align: middle;\n",
       "    }\n",
       "\n",
       "    .dataframe tbody tr th {\n",
       "        vertical-align: top;\n",
       "    }\n",
       "\n",
       "    .dataframe thead th {\n",
       "        text-align: right;\n",
       "    }\n",
       "</style>\n",
       "<table border=\"1\" class=\"dataframe\">\n",
       "  <thead>\n",
       "    <tr style=\"text-align: right;\">\n",
       "      <th></th>\n",
       "      <th>Season_End_Year</th>\n",
       "      <th>Squad</th>\n",
       "      <th>Comp</th>\n",
       "      <th>Player</th>\n",
       "      <th>Nation</th>\n",
       "      <th>Pos</th>\n",
       "      <th>Age</th>\n",
       "      <th>Born</th>\n",
       "      <th>Mins_Per_90</th>\n",
       "      <th>Cmp_Total</th>\n",
       "      <th>...</th>\n",
       "      <th>Ast</th>\n",
       "      <th>xAG</th>\n",
       "      <th>xA</th>\n",
       "      <th>A_minus_xAG</th>\n",
       "      <th>KP</th>\n",
       "      <th>Final_Third</th>\n",
       "      <th>PPA</th>\n",
       "      <th>CrsPA</th>\n",
       "      <th>PrgP</th>\n",
       "      <th>Url</th>\n",
       "    </tr>\n",
       "  </thead>\n",
       "  <tbody>\n",
       "    <tr>\n",
       "      <th>0</th>\n",
       "      <td>2023</td>\n",
       "      <td>Ajaccio</td>\n",
       "      <td>Ligue 1</td>\n",
       "      <td>Mickaël Alphonse</td>\n",
       "      <td>GLP</td>\n",
       "      <td>DF</td>\n",
       "      <td>33</td>\n",
       "      <td>1989</td>\n",
       "      <td>15.1</td>\n",
       "      <td>448.0</td>\n",
       "      <td>...</td>\n",
       "      <td>0</td>\n",
       "      <td>0.7</td>\n",
       "      <td>0.9</td>\n",
       "      <td>-0.7</td>\n",
       "      <td>11.0</td>\n",
       "      <td>43.0</td>\n",
       "      <td>10.0</td>\n",
       "      <td>5.0</td>\n",
       "      <td>51.0</td>\n",
       "      <td>https://fbref.com/en/players/0a63446f/Mickael-...</td>\n",
       "    </tr>\n",
       "    <tr>\n",
       "      <th>1</th>\n",
       "      <td>2023</td>\n",
       "      <td>Ajaccio</td>\n",
       "      <td>Ligue 1</td>\n",
       "      <td>Cédric Avinel</td>\n",
       "      <td>GLP</td>\n",
       "      <td>DF</td>\n",
       "      <td>35</td>\n",
       "      <td>1986</td>\n",
       "      <td>19.9</td>\n",
       "      <td>607.0</td>\n",
       "      <td>...</td>\n",
       "      <td>0</td>\n",
       "      <td>0.0</td>\n",
       "      <td>0.1</td>\n",
       "      <td>0.0</td>\n",
       "      <td>0.0</td>\n",
       "      <td>13.0</td>\n",
       "      <td>0.0</td>\n",
       "      <td>0.0</td>\n",
       "      <td>31.0</td>\n",
       "      <td>https://fbref.com/en/players/a94d93be/Cedric-A...</td>\n",
       "    </tr>\n",
       "  </tbody>\n",
       "</table>\n",
       "<p>2 rows × 33 columns</p>\n",
       "</div>"
      ],
      "text/plain": [
       "   Season_End_Year    Squad     Comp            Player Nation Pos  Age  Born  \\\n",
       "0             2023  Ajaccio  Ligue 1  Mickaël Alphonse    GLP  DF   33  1989   \n",
       "1             2023  Ajaccio  Ligue 1     Cédric Avinel    GLP  DF   35  1986   \n",
       "\n",
       "   Mins_Per_90  Cmp_Total  ...  Ast  xAG   xA  A_minus_xAG    KP  Final_Third  \\\n",
       "0         15.1      448.0  ...    0  0.7  0.9         -0.7  11.0         43.0   \n",
       "1         19.9      607.0  ...    0  0.0  0.1          0.0   0.0         13.0   \n",
       "\n",
       "    PPA  CrsPA  PrgP                                                Url  \n",
       "0  10.0    5.0  51.0  https://fbref.com/en/players/0a63446f/Mickael-...  \n",
       "1   0.0    0.0  31.0  https://fbref.com/en/players/a94d93be/Cedric-A...  \n",
       "\n",
       "[2 rows x 33 columns]"
      ]
     },
     "execution_count": 126,
     "metadata": {},
     "output_type": "execute_result"
    }
   ],
   "source": [
    "# Load the player statistics dataset\n",
    "pass_stats = pd.read_csv(\"datasets/8_big5_player_passing_stats.csv\")\n",
    "pass_stats.head(2)"
   ]
  },
  {
   "cell_type": "code",
   "execution_count": 127,
   "metadata": {},
   "outputs": [
    {
     "name": "stdout",
     "output_type": "stream",
     "text": [
      "<class 'pandas.core.frame.DataFrame'>\n",
      "RangeIndex: 2889 entries, 0 to 2888\n",
      "Data columns (total 33 columns):\n",
      " #   Column              Non-Null Count  Dtype  \n",
      "---  ------              --------------  -----  \n",
      " 0   Season_End_Year     2889 non-null   int64  \n",
      " 1   Squad               2889 non-null   object \n",
      " 2   Comp                2889 non-null   object \n",
      " 3   Player              2889 non-null   object \n",
      " 4   Nation              2888 non-null   object \n",
      " 5   Pos                 2889 non-null   object \n",
      " 6   Age                 2889 non-null   int64  \n",
      " 7   Born                2889 non-null   int64  \n",
      " 8   Mins_Per_90         2889 non-null   float64\n",
      " 9   Cmp_Total           2884 non-null   float64\n",
      " 10  Att_Total           2884 non-null   float64\n",
      " 11  Cmp_percent_Total   2860 non-null   float64\n",
      " 12  TotDist_Total       2884 non-null   float64\n",
      " 13  PrgDist_Total       2884 non-null   float64\n",
      " 14  Cmp_Short           2884 non-null   float64\n",
      " 15  Att_Short           2884 non-null   float64\n",
      " 16  Cmp_percent_Short   2834 non-null   float64\n",
      " 17  Cmp_Medium          2884 non-null   float64\n",
      " 18  Att_Medium          2884 non-null   float64\n",
      " 19  Cmp_percent_Medium  2812 non-null   float64\n",
      " 20  Cmp_Long            2884 non-null   float64\n",
      " 21  Att_Long            2884 non-null   float64\n",
      " 22  Cmp_percent_Long    2706 non-null   float64\n",
      " 23  Ast                 2889 non-null   int64  \n",
      " 24  xAG                 2884 non-null   float64\n",
      " 25  xA                  2884 non-null   float64\n",
      " 26  A_minus_xAG         2884 non-null   float64\n",
      " 27  KP                  2884 non-null   float64\n",
      " 28  Final_Third         2884 non-null   float64\n",
      " 29  PPA                 2884 non-null   float64\n",
      " 30  CrsPA               2884 non-null   float64\n",
      " 31  PrgP                2884 non-null   float64\n",
      " 32  Url                 2889 non-null   object \n",
      "dtypes: float64(23), int64(4), object(6)\n",
      "memory usage: 744.9+ KB\n"
     ]
    }
   ],
   "source": [
    "pass_stats.info()"
   ]
  },
  {
   "cell_type": "code",
   "execution_count": 128,
   "metadata": {},
   "outputs": [
    {
     "data": {
      "text/plain": [
       "Index(['Season_End_Year', 'Squad', 'Comp', 'Player', 'Nation', 'Pos', 'Age',\n",
       "       'Born', 'Mins_Per_90', 'Cmp_Total', 'Att_Total', 'Cmp_percent_Total',\n",
       "       'TotDist_Total', 'PrgDist_Total', 'Cmp_Short', 'Att_Short',\n",
       "       'Cmp_percent_Short', 'Cmp_Medium', 'Att_Medium', 'Cmp_percent_Medium',\n",
       "       'Cmp_Long', 'Att_Long', 'Cmp_percent_Long', 'Ast', 'xAG', 'xA',\n",
       "       'A_minus_xAG', 'KP', 'Final_Third', 'PPA', 'CrsPA', 'PrgP', 'Url'],\n",
       "      dtype='object')"
      ]
     },
     "execution_count": 128,
     "metadata": {},
     "output_type": "execute_result"
    }
   ],
   "source": [
    "pass_stats.columns"
   ]
  },
  {
   "cell_type": "code",
   "execution_count": 129,
   "metadata": {},
   "outputs": [],
   "source": [
    "pass_col_selection = ['Url', 'Cmp_Total', 'Att_Total', 'TotDist_Total', 'PrgDist_Total', 'KP', 'Final_Third', 'PPA', 'CrsPA']"
   ]
  },
  {
   "cell_type": "code",
   "execution_count": 130,
   "metadata": {},
   "outputs": [
    {
     "name": "stdout",
     "output_type": "stream",
     "text": [
      "<class 'pandas.core.frame.DataFrame'>\n",
      "RangeIndex: 2889 entries, 0 to 2888\n",
      "Data columns (total 9 columns):\n",
      " #   Column         Non-Null Count  Dtype  \n",
      "---  ------         --------------  -----  \n",
      " 0   Url            2889 non-null   object \n",
      " 1   Cmp_Total      2884 non-null   float64\n",
      " 2   Att_Total      2884 non-null   float64\n",
      " 3   TotDist_Total  2884 non-null   float64\n",
      " 4   PrgDist_Total  2884 non-null   float64\n",
      " 5   KP             2884 non-null   float64\n",
      " 6   Final_Third    2884 non-null   float64\n",
      " 7   PPA            2884 non-null   float64\n",
      " 8   CrsPA          2884 non-null   float64\n",
      "dtypes: float64(8), object(1)\n",
      "memory usage: 203.3+ KB\n"
     ]
    }
   ],
   "source": [
    "new_pass_stats = pass_stats[pass_col_selection]\n",
    "new_pass_stats.info()"
   ]
  },
  {
   "cell_type": "code",
   "execution_count": 131,
   "metadata": {},
   "outputs": [],
   "source": [
    "# Group the data by the \"Url\" column and sum the statistics\n",
    "new_pass_stats = new_pass_stats.groupby(\"Url\").sum().reset_index()\n",
    "\n",
    "# Uppercase the column names of a DataFrame\n",
    "new_pass_stats.columns = new_pass_stats.columns.str.upper()\n",
    "\n",
    "# Save the DataFrame to a CSV file\n",
    "new_pass_stats.to_csv(\"datasets/aggregated/agg_pass_stats.csv\", index=False)"
   ]
  },
  {
   "cell_type": "markdown",
   "metadata": {},
   "source": [
    "GCA STATS"
   ]
  },
  {
   "cell_type": "code",
   "execution_count": 132,
   "metadata": {},
   "outputs": [
    {
     "data": {
      "text/html": [
       "<div>\n",
       "<style scoped>\n",
       "    .dataframe tbody tr th:only-of-type {\n",
       "        vertical-align: middle;\n",
       "    }\n",
       "\n",
       "    .dataframe tbody tr th {\n",
       "        vertical-align: top;\n",
       "    }\n",
       "\n",
       "    .dataframe thead th {\n",
       "        text-align: right;\n",
       "    }\n",
       "</style>\n",
       "<table border=\"1\" class=\"dataframe\">\n",
       "  <thead>\n",
       "    <tr style=\"text-align: right;\">\n",
       "      <th></th>\n",
       "      <th>Season_End_Year</th>\n",
       "      <th>Squad</th>\n",
       "      <th>Comp</th>\n",
       "      <th>Player</th>\n",
       "      <th>Nation</th>\n",
       "      <th>Pos</th>\n",
       "      <th>Age</th>\n",
       "      <th>Born</th>\n",
       "      <th>Mins_Per_90</th>\n",
       "      <th>SCA_SCA</th>\n",
       "      <th>...</th>\n",
       "      <th>Def_SCA</th>\n",
       "      <th>GCA_GCA</th>\n",
       "      <th>GCA90_GCA</th>\n",
       "      <th>PassLive_GCA</th>\n",
       "      <th>PassDead_GCA</th>\n",
       "      <th>TO_GCA</th>\n",
       "      <th>Sh_GCA</th>\n",
       "      <th>Fld_GCA</th>\n",
       "      <th>Def_GCA</th>\n",
       "      <th>Url</th>\n",
       "    </tr>\n",
       "  </thead>\n",
       "  <tbody>\n",
       "    <tr>\n",
       "      <th>0</th>\n",
       "      <td>2023</td>\n",
       "      <td>Ajaccio</td>\n",
       "      <td>Ligue 1</td>\n",
       "      <td>Mickaël Alphonse</td>\n",
       "      <td>GLP</td>\n",
       "      <td>DF</td>\n",
       "      <td>33</td>\n",
       "      <td>1989</td>\n",
       "      <td>15.1</td>\n",
       "      <td>19.0</td>\n",
       "      <td>...</td>\n",
       "      <td>1.0</td>\n",
       "      <td>0.0</td>\n",
       "      <td>0.00</td>\n",
       "      <td>0.0</td>\n",
       "      <td>0.0</td>\n",
       "      <td>0.0</td>\n",
       "      <td>0.0</td>\n",
       "      <td>0.0</td>\n",
       "      <td>0.0</td>\n",
       "      <td>https://fbref.com/en/players/0a63446f/Mickael-...</td>\n",
       "    </tr>\n",
       "    <tr>\n",
       "      <th>1</th>\n",
       "      <td>2023</td>\n",
       "      <td>Ajaccio</td>\n",
       "      <td>Ligue 1</td>\n",
       "      <td>Cédric Avinel</td>\n",
       "      <td>GLP</td>\n",
       "      <td>DF</td>\n",
       "      <td>35</td>\n",
       "      <td>1986</td>\n",
       "      <td>19.9</td>\n",
       "      <td>3.0</td>\n",
       "      <td>...</td>\n",
       "      <td>0.0</td>\n",
       "      <td>1.0</td>\n",
       "      <td>0.05</td>\n",
       "      <td>0.0</td>\n",
       "      <td>0.0</td>\n",
       "      <td>0.0</td>\n",
       "      <td>1.0</td>\n",
       "      <td>0.0</td>\n",
       "      <td>0.0</td>\n",
       "      <td>https://fbref.com/en/players/a94d93be/Cedric-A...</td>\n",
       "    </tr>\n",
       "  </tbody>\n",
       "</table>\n",
       "<p>2 rows × 26 columns</p>\n",
       "</div>"
      ],
      "text/plain": [
       "   Season_End_Year    Squad     Comp            Player Nation Pos  Age  Born  \\\n",
       "0             2023  Ajaccio  Ligue 1  Mickaël Alphonse    GLP  DF   33  1989   \n",
       "1             2023  Ajaccio  Ligue 1     Cédric Avinel    GLP  DF   35  1986   \n",
       "\n",
       "   Mins_Per_90  SCA_SCA  ...  Def_SCA  GCA_GCA  GCA90_GCA  PassLive_GCA  \\\n",
       "0         15.1     19.0  ...      1.0      0.0       0.00           0.0   \n",
       "1         19.9      3.0  ...      0.0      1.0       0.05           0.0   \n",
       "\n",
       "   PassDead_GCA  TO_GCA  Sh_GCA  Fld_GCA  Def_GCA  \\\n",
       "0           0.0     0.0     0.0      0.0      0.0   \n",
       "1           0.0     0.0     1.0      0.0      0.0   \n",
       "\n",
       "                                                 Url  \n",
       "0  https://fbref.com/en/players/0a63446f/Mickael-...  \n",
       "1  https://fbref.com/en/players/a94d93be/Cedric-A...  \n",
       "\n",
       "[2 rows x 26 columns]"
      ]
     },
     "execution_count": 132,
     "metadata": {},
     "output_type": "execute_result"
    }
   ],
   "source": [
    "# Load the player statistics dataset\n",
    "gca_stats = pd.read_csv(\"datasets/10_big5_player_gca_stats.csv\")\n",
    "gca_stats.head(2)"
   ]
  },
  {
   "cell_type": "code",
   "execution_count": 133,
   "metadata": {},
   "outputs": [
    {
     "name": "stdout",
     "output_type": "stream",
     "text": [
      "<class 'pandas.core.frame.DataFrame'>\n",
      "RangeIndex: 2889 entries, 0 to 2888\n",
      "Data columns (total 26 columns):\n",
      " #   Column           Non-Null Count  Dtype  \n",
      "---  ------           --------------  -----  \n",
      " 0   Season_End_Year  2889 non-null   int64  \n",
      " 1   Squad            2889 non-null   object \n",
      " 2   Comp             2889 non-null   object \n",
      " 3   Player           2889 non-null   object \n",
      " 4   Nation           2888 non-null   object \n",
      " 5   Pos              2889 non-null   object \n",
      " 6   Age              2889 non-null   int64  \n",
      " 7   Born             2889 non-null   int64  \n",
      " 8   Mins_Per_90      2889 non-null   float64\n",
      " 9   SCA_SCA          2884 non-null   float64\n",
      " 10  SCA90_SCA        2884 non-null   float64\n",
      " 11  PassLive_SCA     2884 non-null   float64\n",
      " 12  PassDead_SCA     2884 non-null   float64\n",
      " 13  TO_SCA           2884 non-null   float64\n",
      " 14  Sh_SCA           2884 non-null   float64\n",
      " 15  Fld_SCA          2884 non-null   float64\n",
      " 16  Def_SCA          2884 non-null   float64\n",
      " 17  GCA_GCA          2884 non-null   float64\n",
      " 18  GCA90_GCA        2884 non-null   float64\n",
      " 19  PassLive_GCA     2884 non-null   float64\n",
      " 20  PassDead_GCA     2884 non-null   float64\n",
      " 21  TO_GCA           2884 non-null   float64\n",
      " 22  Sh_GCA           2884 non-null   float64\n",
      " 23  Fld_GCA          2884 non-null   float64\n",
      " 24  Def_GCA          2884 non-null   float64\n",
      " 25  Url              2889 non-null   object \n",
      "dtypes: float64(17), int64(3), object(6)\n",
      "memory usage: 587.0+ KB\n"
     ]
    }
   ],
   "source": [
    "gca_stats.info()"
   ]
  },
  {
   "cell_type": "code",
   "execution_count": 134,
   "metadata": {},
   "outputs": [
    {
     "data": {
      "text/plain": [
       "Index(['Season_End_Year', 'Squad', 'Comp', 'Player', 'Nation', 'Pos', 'Age',\n",
       "       'Born', 'Mins_Per_90', 'SCA_SCA', 'SCA90_SCA', 'PassLive_SCA',\n",
       "       'PassDead_SCA', 'TO_SCA', 'Sh_SCA', 'Fld_SCA', 'Def_SCA', 'GCA_GCA',\n",
       "       'GCA90_GCA', 'PassLive_GCA', 'PassDead_GCA', 'TO_GCA', 'Sh_GCA',\n",
       "       'Fld_GCA', 'Def_GCA', 'Url'],\n",
       "      dtype='object')"
      ]
     },
     "execution_count": 134,
     "metadata": {},
     "output_type": "execute_result"
    }
   ],
   "source": [
    "gca_stats.columns"
   ]
  },
  {
   "cell_type": "code",
   "execution_count": 135,
   "metadata": {},
   "outputs": [],
   "source": [
    "gca_col_selection = ['Url', 'SCA_SCA', 'GCA_GCA']"
   ]
  },
  {
   "cell_type": "code",
   "execution_count": 136,
   "metadata": {},
   "outputs": [
    {
     "name": "stdout",
     "output_type": "stream",
     "text": [
      "<class 'pandas.core.frame.DataFrame'>\n",
      "RangeIndex: 2889 entries, 0 to 2888\n",
      "Data columns (total 3 columns):\n",
      " #   Column   Non-Null Count  Dtype  \n",
      "---  ------   --------------  -----  \n",
      " 0   Url      2889 non-null   object \n",
      " 1   SCA_SCA  2884 non-null   float64\n",
      " 2   GCA_GCA  2884 non-null   float64\n",
      "dtypes: float64(2), object(1)\n",
      "memory usage: 67.8+ KB\n"
     ]
    }
   ],
   "source": [
    "new_gca_stats = gca_stats[gca_col_selection]\n",
    "new_gca_stats.info()"
   ]
  },
  {
   "cell_type": "code",
   "execution_count": 137,
   "metadata": {},
   "outputs": [],
   "source": [
    "# Group the data by the \"Url\" column and sum the statistics\n",
    "new_gca_stats = new_gca_stats.groupby(\"Url\").sum().reset_index()\n",
    "\n",
    "# Uppercase the column names of a DataFrame\n",
    "new_gca_stats.columns = new_gca_stats.columns.str.upper()\n",
    "\n",
    "# Save the DataFrame to a CSV file\n",
    "new_gca_stats.to_csv(\"datasets/aggregated/agg_gca_stats.csv\", index=False)"
   ]
  },
  {
   "cell_type": "markdown",
   "metadata": {},
   "source": [
    "DEFENSE STATS"
   ]
  },
  {
   "cell_type": "code",
   "execution_count": 138,
   "metadata": {},
   "outputs": [
    {
     "data": {
      "text/html": [
       "<div>\n",
       "<style scoped>\n",
       "    .dataframe tbody tr th:only-of-type {\n",
       "        vertical-align: middle;\n",
       "    }\n",
       "\n",
       "    .dataframe tbody tr th {\n",
       "        vertical-align: top;\n",
       "    }\n",
       "\n",
       "    .dataframe thead th {\n",
       "        text-align: right;\n",
       "    }\n",
       "</style>\n",
       "<table border=\"1\" class=\"dataframe\">\n",
       "  <thead>\n",
       "    <tr style=\"text-align: right;\">\n",
       "      <th></th>\n",
       "      <th>Season_End_Year</th>\n",
       "      <th>Squad</th>\n",
       "      <th>Comp</th>\n",
       "      <th>Player</th>\n",
       "      <th>Nation</th>\n",
       "      <th>Pos</th>\n",
       "      <th>Age</th>\n",
       "      <th>Born</th>\n",
       "      <th>Mins_Per_90</th>\n",
       "      <th>Tkl_Tackles</th>\n",
       "      <th>...</th>\n",
       "      <th>Tkl_percent_Challenges</th>\n",
       "      <th>Lost_Challenges</th>\n",
       "      <th>Blocks_Blocks</th>\n",
       "      <th>Sh_Blocks</th>\n",
       "      <th>Pass_Blocks</th>\n",
       "      <th>Int</th>\n",
       "      <th>Tkl+Int</th>\n",
       "      <th>Clr</th>\n",
       "      <th>Err</th>\n",
       "      <th>Url</th>\n",
       "    </tr>\n",
       "  </thead>\n",
       "  <tbody>\n",
       "    <tr>\n",
       "      <th>0</th>\n",
       "      <td>2023</td>\n",
       "      <td>Ajaccio</td>\n",
       "      <td>Ligue 1</td>\n",
       "      <td>Mickaël Alphonse</td>\n",
       "      <td>GLP</td>\n",
       "      <td>DF</td>\n",
       "      <td>33</td>\n",
       "      <td>1989</td>\n",
       "      <td>15.1</td>\n",
       "      <td>35.0</td>\n",
       "      <td>...</td>\n",
       "      <td>60.6</td>\n",
       "      <td>13.0</td>\n",
       "      <td>17.0</td>\n",
       "      <td>5.0</td>\n",
       "      <td>12.0</td>\n",
       "      <td>35</td>\n",
       "      <td>70.0</td>\n",
       "      <td>44.0</td>\n",
       "      <td>1.0</td>\n",
       "      <td>https://fbref.com/en/players/0a63446f/Mickael-...</td>\n",
       "    </tr>\n",
       "    <tr>\n",
       "      <th>1</th>\n",
       "      <td>2023</td>\n",
       "      <td>Ajaccio</td>\n",
       "      <td>Ligue 1</td>\n",
       "      <td>Cédric Avinel</td>\n",
       "      <td>GLP</td>\n",
       "      <td>DF</td>\n",
       "      <td>35</td>\n",
       "      <td>1986</td>\n",
       "      <td>19.9</td>\n",
       "      <td>13.0</td>\n",
       "      <td>...</td>\n",
       "      <td>66.7</td>\n",
       "      <td>4.0</td>\n",
       "      <td>20.0</td>\n",
       "      <td>13.0</td>\n",
       "      <td>7.0</td>\n",
       "      <td>15</td>\n",
       "      <td>28.0</td>\n",
       "      <td>91.0</td>\n",
       "      <td>1.0</td>\n",
       "      <td>https://fbref.com/en/players/a94d93be/Cedric-A...</td>\n",
       "    </tr>\n",
       "  </tbody>\n",
       "</table>\n",
       "<p>2 rows × 26 columns</p>\n",
       "</div>"
      ],
      "text/plain": [
       "   Season_End_Year    Squad     Comp            Player Nation Pos  Age  Born  \\\n",
       "0             2023  Ajaccio  Ligue 1  Mickaël Alphonse    GLP  DF   33  1989   \n",
       "1             2023  Ajaccio  Ligue 1     Cédric Avinel    GLP  DF   35  1986   \n",
       "\n",
       "   Mins_Per_90  Tkl_Tackles  ...  Tkl_percent_Challenges  Lost_Challenges  \\\n",
       "0         15.1         35.0  ...                    60.6             13.0   \n",
       "1         19.9         13.0  ...                    66.7              4.0   \n",
       "\n",
       "   Blocks_Blocks  Sh_Blocks  Pass_Blocks  Int  Tkl+Int   Clr  Err  \\\n",
       "0           17.0        5.0         12.0   35     70.0  44.0  1.0   \n",
       "1           20.0       13.0          7.0   15     28.0  91.0  1.0   \n",
       "\n",
       "                                                 Url  \n",
       "0  https://fbref.com/en/players/0a63446f/Mickael-...  \n",
       "1  https://fbref.com/en/players/a94d93be/Cedric-A...  \n",
       "\n",
       "[2 rows x 26 columns]"
      ]
     },
     "execution_count": 138,
     "metadata": {},
     "output_type": "execute_result"
    }
   ],
   "source": [
    "# Load the player statistics dataset\n",
    "defense_stats = pd.read_csv(\"datasets/11_big5_player_defense_stats.csv\")\n",
    "defense_stats.head(2)"
   ]
  },
  {
   "cell_type": "code",
   "execution_count": 139,
   "metadata": {},
   "outputs": [
    {
     "name": "stdout",
     "output_type": "stream",
     "text": [
      "<class 'pandas.core.frame.DataFrame'>\n",
      "RangeIndex: 2889 entries, 0 to 2888\n",
      "Data columns (total 26 columns):\n",
      " #   Column                  Non-Null Count  Dtype  \n",
      "---  ------                  --------------  -----  \n",
      " 0   Season_End_Year         2889 non-null   int64  \n",
      " 1   Squad                   2889 non-null   object \n",
      " 2   Comp                    2889 non-null   object \n",
      " 3   Player                  2889 non-null   object \n",
      " 4   Nation                  2888 non-null   object \n",
      " 5   Pos                     2889 non-null   object \n",
      " 6   Age                     2889 non-null   int64  \n",
      " 7   Born                    2889 non-null   int64  \n",
      " 8   Mins_Per_90             2889 non-null   float64\n",
      " 9   Tkl_Tackles             2884 non-null   float64\n",
      " 10  TklW_Tackles            2889 non-null   int64  \n",
      " 11  Def 3rd_Tackles         2884 non-null   float64\n",
      " 12  Mid 3rd_Tackles         2884 non-null   float64\n",
      " 13  Att 3rd_Tackles         2884 non-null   float64\n",
      " 14  Tkl_Challenges          2884 non-null   float64\n",
      " 15  Att_Challenges          2884 non-null   float64\n",
      " 16  Tkl_percent_Challenges  2534 non-null   float64\n",
      " 17  Lost_Challenges         2884 non-null   float64\n",
      " 18  Blocks_Blocks           2884 non-null   float64\n",
      " 19  Sh_Blocks               2884 non-null   float64\n",
      " 20  Pass_Blocks             2884 non-null   float64\n",
      " 21  Int                     2889 non-null   int64  \n",
      " 22  Tkl+Int                 2884 non-null   float64\n",
      " 23  Clr                     2884 non-null   float64\n",
      " 24  Err                     2884 non-null   float64\n",
      " 25  Url                     2889 non-null   object \n",
      "dtypes: float64(15), int64(5), object(6)\n",
      "memory usage: 587.0+ KB\n"
     ]
    }
   ],
   "source": [
    "defense_stats.info()"
   ]
  },
  {
   "cell_type": "code",
   "execution_count": 140,
   "metadata": {},
   "outputs": [
    {
     "data": {
      "text/plain": [
       "Index(['Season_End_Year', 'Squad', 'Comp', 'Player', 'Nation', 'Pos', 'Age',\n",
       "       'Born', 'Mins_Per_90', 'Tkl_Tackles', 'TklW_Tackles', 'Def 3rd_Tackles',\n",
       "       'Mid 3rd_Tackles', 'Att 3rd_Tackles', 'Tkl_Challenges',\n",
       "       'Att_Challenges', 'Tkl_percent_Challenges', 'Lost_Challenges',\n",
       "       'Blocks_Blocks', 'Sh_Blocks', 'Pass_Blocks', 'Int', 'Tkl+Int', 'Clr',\n",
       "       'Err', 'Url'],\n",
       "      dtype='object')"
      ]
     },
     "execution_count": 140,
     "metadata": {},
     "output_type": "execute_result"
    }
   ],
   "source": [
    "defense_stats.columns"
   ]
  },
  {
   "cell_type": "code",
   "execution_count": 141,
   "metadata": {},
   "outputs": [],
   "source": [
    "defense_col_selection = ['Url', 'Tkl_Tackles', 'TklW_Tackles', 'Def 3rd_Tackles', 'Mid 3rd_Tackles', 'Att 3rd_Tackles', \n",
    "                         'Tkl_Challenges', 'Att_Challenges', 'Lost_Challenges', 'Blocks_Blocks', 'Sh_Blocks', \n",
    "                         'Pass_Blocks', 'Int', 'Tkl+Int', 'Clr', 'Err']"
   ]
  },
  {
   "cell_type": "code",
   "execution_count": 142,
   "metadata": {},
   "outputs": [
    {
     "name": "stdout",
     "output_type": "stream",
     "text": [
      "<class 'pandas.core.frame.DataFrame'>\n",
      "RangeIndex: 2889 entries, 0 to 2888\n",
      "Data columns (total 16 columns):\n",
      " #   Column           Non-Null Count  Dtype  \n",
      "---  ------           --------------  -----  \n",
      " 0   Url              2889 non-null   object \n",
      " 1   Tkl_Tackles      2884 non-null   float64\n",
      " 2   TklW_Tackles     2889 non-null   int64  \n",
      " 3   Def 3rd_Tackles  2884 non-null   float64\n",
      " 4   Mid 3rd_Tackles  2884 non-null   float64\n",
      " 5   Att 3rd_Tackles  2884 non-null   float64\n",
      " 6   Tkl_Challenges   2884 non-null   float64\n",
      " 7   Att_Challenges   2884 non-null   float64\n",
      " 8   Lost_Challenges  2884 non-null   float64\n",
      " 9   Blocks_Blocks    2884 non-null   float64\n",
      " 10  Sh_Blocks        2884 non-null   float64\n",
      " 11  Pass_Blocks      2884 non-null   float64\n",
      " 12  Int              2889 non-null   int64  \n",
      " 13  Tkl+Int          2884 non-null   float64\n",
      " 14  Clr              2884 non-null   float64\n",
      " 15  Err              2884 non-null   float64\n",
      "dtypes: float64(13), int64(2), object(1)\n",
      "memory usage: 361.2+ KB\n"
     ]
    }
   ],
   "source": [
    "new_defense_stats = defense_stats[defense_col_selection]\n",
    "new_defense_stats.info()"
   ]
  },
  {
   "cell_type": "code",
   "execution_count": 143,
   "metadata": {},
   "outputs": [],
   "source": [
    "# Group the data by the \"Url\" column and sum the statistics\n",
    "new_defense_stats = new_defense_stats.groupby(\"Url\").sum().reset_index()\n",
    "\n",
    "# Uppercase the column names of a DataFrame\n",
    "new_defense_stats.columns = new_defense_stats.columns.str.upper()\n",
    "\n",
    "# Save the DataFrame to a CSV file\n",
    "new_defense_stats.to_csv(\"datasets/aggregated/agg_defense_stats.csv\", index=False)"
   ]
  },
  {
   "cell_type": "markdown",
   "metadata": {},
   "source": [
    "POSSESSION STATS"
   ]
  },
  {
   "cell_type": "code",
   "execution_count": 144,
   "metadata": {},
   "outputs": [
    {
     "data": {
      "text/html": [
       "<div>\n",
       "<style scoped>\n",
       "    .dataframe tbody tr th:only-of-type {\n",
       "        vertical-align: middle;\n",
       "    }\n",
       "\n",
       "    .dataframe tbody tr th {\n",
       "        vertical-align: top;\n",
       "    }\n",
       "\n",
       "    .dataframe thead th {\n",
       "        text-align: right;\n",
       "    }\n",
       "</style>\n",
       "<table border=\"1\" class=\"dataframe\">\n",
       "  <thead>\n",
       "    <tr style=\"text-align: right;\">\n",
       "      <th></th>\n",
       "      <th>Season_End_Year</th>\n",
       "      <th>Squad</th>\n",
       "      <th>Comp</th>\n",
       "      <th>Player</th>\n",
       "      <th>Nation</th>\n",
       "      <th>Pos</th>\n",
       "      <th>Age</th>\n",
       "      <th>Born</th>\n",
       "      <th>Mins_Per_90</th>\n",
       "      <th>Touches_Touches</th>\n",
       "      <th>...</th>\n",
       "      <th>TotDist_Carries</th>\n",
       "      <th>PrgDist_Carries</th>\n",
       "      <th>PrgC_Carries</th>\n",
       "      <th>Final_Third_Carries</th>\n",
       "      <th>CPA_Carries</th>\n",
       "      <th>Mis_Carries</th>\n",
       "      <th>Dis_Carries</th>\n",
       "      <th>Rec_Receiving</th>\n",
       "      <th>PrgR_Receiving</th>\n",
       "      <th>Url</th>\n",
       "    </tr>\n",
       "  </thead>\n",
       "  <tbody>\n",
       "    <tr>\n",
       "      <th>0</th>\n",
       "      <td>2023</td>\n",
       "      <td>Ajaccio</td>\n",
       "      <td>Ligue 1</td>\n",
       "      <td>Mickaël Alphonse</td>\n",
       "      <td>GLP</td>\n",
       "      <td>DF</td>\n",
       "      <td>33</td>\n",
       "      <td>1989</td>\n",
       "      <td>15.1</td>\n",
       "      <td>879.0</td>\n",
       "      <td>...</td>\n",
       "      <td>2988.0</td>\n",
       "      <td>1528.0</td>\n",
       "      <td>30.0</td>\n",
       "      <td>25.0</td>\n",
       "      <td>0.0</td>\n",
       "      <td>15.0</td>\n",
       "      <td>14.0</td>\n",
       "      <td>403.0</td>\n",
       "      <td>34.0</td>\n",
       "      <td>https://fbref.com/en/players/0a63446f/Mickael-...</td>\n",
       "    </tr>\n",
       "    <tr>\n",
       "      <th>1</th>\n",
       "      <td>2023</td>\n",
       "      <td>Ajaccio</td>\n",
       "      <td>Ligue 1</td>\n",
       "      <td>Cédric Avinel</td>\n",
       "      <td>GLP</td>\n",
       "      <td>DF</td>\n",
       "      <td>35</td>\n",
       "      <td>1986</td>\n",
       "      <td>19.9</td>\n",
       "      <td>876.0</td>\n",
       "      <td>...</td>\n",
       "      <td>3235.0</td>\n",
       "      <td>1495.0</td>\n",
       "      <td>3.0</td>\n",
       "      <td>1.0</td>\n",
       "      <td>0.0</td>\n",
       "      <td>3.0</td>\n",
       "      <td>0.0</td>\n",
       "      <td>508.0</td>\n",
       "      <td>1.0</td>\n",
       "      <td>https://fbref.com/en/players/a94d93be/Cedric-A...</td>\n",
       "    </tr>\n",
       "  </tbody>\n",
       "</table>\n",
       "<p>2 rows × 32 columns</p>\n",
       "</div>"
      ],
      "text/plain": [
       "   Season_End_Year    Squad     Comp            Player Nation Pos  Age  Born  \\\n",
       "0             2023  Ajaccio  Ligue 1  Mickaël Alphonse    GLP  DF   33  1989   \n",
       "1             2023  Ajaccio  Ligue 1     Cédric Avinel    GLP  DF   35  1986   \n",
       "\n",
       "   Mins_Per_90  Touches_Touches  ...  TotDist_Carries  PrgDist_Carries  \\\n",
       "0         15.1            879.0  ...           2988.0           1528.0   \n",
       "1         19.9            876.0  ...           3235.0           1495.0   \n",
       "\n",
       "   PrgC_Carries  Final_Third_Carries  CPA_Carries  Mis_Carries  Dis_Carries  \\\n",
       "0          30.0                 25.0          0.0         15.0         14.0   \n",
       "1           3.0                  1.0          0.0          3.0          0.0   \n",
       "\n",
       "   Rec_Receiving  PrgR_Receiving  \\\n",
       "0          403.0            34.0   \n",
       "1          508.0             1.0   \n",
       "\n",
       "                                                 Url  \n",
       "0  https://fbref.com/en/players/0a63446f/Mickael-...  \n",
       "1  https://fbref.com/en/players/a94d93be/Cedric-A...  \n",
       "\n",
       "[2 rows x 32 columns]"
      ]
     },
     "execution_count": 144,
     "metadata": {},
     "output_type": "execute_result"
    }
   ],
   "source": [
    "# Load the player statistics dataset\n",
    "possession_stats = pd.read_csv(\"datasets/12_big5_player_possession_stats.csv\")\n",
    "possession_stats.head(2)"
   ]
  },
  {
   "cell_type": "code",
   "execution_count": 145,
   "metadata": {},
   "outputs": [
    {
     "name": "stdout",
     "output_type": "stream",
     "text": [
      "<class 'pandas.core.frame.DataFrame'>\n",
      "RangeIndex: 2889 entries, 0 to 2888\n",
      "Data columns (total 32 columns):\n",
      " #   Column               Non-Null Count  Dtype  \n",
      "---  ------               --------------  -----  \n",
      " 0   Season_End_Year      2889 non-null   int64  \n",
      " 1   Squad                2889 non-null   object \n",
      " 2   Comp                 2889 non-null   object \n",
      " 3   Player               2889 non-null   object \n",
      " 4   Nation               2888 non-null   object \n",
      " 5   Pos                  2889 non-null   object \n",
      " 6   Age                  2889 non-null   int64  \n",
      " 7   Born                 2889 non-null   int64  \n",
      " 8   Mins_Per_90          2889 non-null   float64\n",
      " 9   Touches_Touches      2884 non-null   float64\n",
      " 10  Def Pen_Touches      2884 non-null   float64\n",
      " 11  Def 3rd_Touches      2884 non-null   float64\n",
      " 12  Mid 3rd_Touches      2884 non-null   float64\n",
      " 13  Att 3rd_Touches      2884 non-null   float64\n",
      " 14  Att Pen_Touches      2884 non-null   float64\n",
      " 15  Live_Touches         2884 non-null   float64\n",
      " 16  Att_Take             2884 non-null   float64\n",
      " 17  Succ_Take            2884 non-null   float64\n",
      " 18  Succ_percent_Take    2463 non-null   float64\n",
      " 19  Tkld_Take            2884 non-null   float64\n",
      " 20  Tkld_percent_Take    2463 non-null   float64\n",
      " 21  Carries_Carries      2884 non-null   float64\n",
      " 22  TotDist_Carries      2884 non-null   float64\n",
      " 23  PrgDist_Carries      2884 non-null   float64\n",
      " 24  PrgC_Carries         2884 non-null   float64\n",
      " 25  Final_Third_Carries  2884 non-null   float64\n",
      " 26  CPA_Carries          2884 non-null   float64\n",
      " 27  Mis_Carries          2884 non-null   float64\n",
      " 28  Dis_Carries          2884 non-null   float64\n",
      " 29  Rec_Receiving        2884 non-null   float64\n",
      " 30  PrgR_Receiving       2884 non-null   float64\n",
      " 31  Url                  2889 non-null   object \n",
      "dtypes: float64(23), int64(3), object(6)\n",
      "memory usage: 722.4+ KB\n"
     ]
    }
   ],
   "source": [
    "possession_stats.info()"
   ]
  },
  {
   "cell_type": "code",
   "execution_count": 146,
   "metadata": {},
   "outputs": [
    {
     "data": {
      "text/plain": [
       "Index(['Season_End_Year', 'Squad', 'Comp', 'Player', 'Nation', 'Pos', 'Age',\n",
       "       'Born', 'Mins_Per_90', 'Touches_Touches', 'Def Pen_Touches',\n",
       "       'Def 3rd_Touches', 'Mid 3rd_Touches', 'Att 3rd_Touches',\n",
       "       'Att Pen_Touches', 'Live_Touches', 'Att_Take', 'Succ_Take',\n",
       "       'Succ_percent_Take', 'Tkld_Take', 'Tkld_percent_Take',\n",
       "       'Carries_Carries', 'TotDist_Carries', 'PrgDist_Carries', 'PrgC_Carries',\n",
       "       'Final_Third_Carries', 'CPA_Carries', 'Mis_Carries', 'Dis_Carries',\n",
       "       'Rec_Receiving', 'PrgR_Receiving', 'Url'],\n",
       "      dtype='object')"
      ]
     },
     "execution_count": 146,
     "metadata": {},
     "output_type": "execute_result"
    }
   ],
   "source": [
    "possession_stats.columns"
   ]
  },
  {
   "cell_type": "code",
   "execution_count": 147,
   "metadata": {},
   "outputs": [],
   "source": [
    "possession_col_selection = ['Url', 'Touches_Touches', 'Def Pen_Touches', 'Def 3rd_Touches', 'Mid 3rd_Touches', \n",
    "                            'Att 3rd_Touches', 'Att Pen_Touches', 'Live_Touches', 'Att_Take', 'Succ_Take', \n",
    "                            'Tkld_Take', 'Carries_Carries', 'TotDist_Carries', 'PrgDist_Carries', 'PrgC_Carries',\n",
    "                            'Final_Third_Carries', 'CPA_Carries', 'Mis_Carries', 'Dis_Carries', 'Rec_Receiving', 'PrgR_Receiving']"
   ]
  },
  {
   "cell_type": "code",
   "execution_count": 148,
   "metadata": {},
   "outputs": [
    {
     "name": "stdout",
     "output_type": "stream",
     "text": [
      "<class 'pandas.core.frame.DataFrame'>\n",
      "RangeIndex: 2889 entries, 0 to 2888\n",
      "Data columns (total 21 columns):\n",
      " #   Column               Non-Null Count  Dtype  \n",
      "---  ------               --------------  -----  \n",
      " 0   Url                  2889 non-null   object \n",
      " 1   Touches_Touches      2884 non-null   float64\n",
      " 2   Def Pen_Touches      2884 non-null   float64\n",
      " 3   Def 3rd_Touches      2884 non-null   float64\n",
      " 4   Mid 3rd_Touches      2884 non-null   float64\n",
      " 5   Att 3rd_Touches      2884 non-null   float64\n",
      " 6   Att Pen_Touches      2884 non-null   float64\n",
      " 7   Live_Touches         2884 non-null   float64\n",
      " 8   Att_Take             2884 non-null   float64\n",
      " 9   Succ_Take            2884 non-null   float64\n",
      " 10  Tkld_Take            2884 non-null   float64\n",
      " 11  Carries_Carries      2884 non-null   float64\n",
      " 12  TotDist_Carries      2884 non-null   float64\n",
      " 13  PrgDist_Carries      2884 non-null   float64\n",
      " 14  PrgC_Carries         2884 non-null   float64\n",
      " 15  Final_Third_Carries  2884 non-null   float64\n",
      " 16  CPA_Carries          2884 non-null   float64\n",
      " 17  Mis_Carries          2884 non-null   float64\n",
      " 18  Dis_Carries          2884 non-null   float64\n",
      " 19  Rec_Receiving        2884 non-null   float64\n",
      " 20  PrgR_Receiving       2884 non-null   float64\n",
      "dtypes: float64(20), object(1)\n",
      "memory usage: 474.1+ KB\n"
     ]
    }
   ],
   "source": [
    "new_possession_stats = possession_stats[possession_col_selection]\n",
    "new_possession_stats.info()"
   ]
  },
  {
   "cell_type": "code",
   "execution_count": 149,
   "metadata": {},
   "outputs": [],
   "source": [
    "# Group the data by the \"Url\" column and sum the statistics\n",
    "new_possession_stats = new_possession_stats.groupby(\"Url\").sum().reset_index()\n",
    "\n",
    "# Uppercase the column names of a DataFrame\n",
    "new_possession_stats.columns = new_possession_stats.columns.str.upper()\n",
    "\n",
    "# Save the DataFrame to a CSV file\n",
    "new_possession_stats.to_csv(\"datasets/aggregated/agg_possession_stats.csv\", index=False)"
   ]
  },
  {
   "cell_type": "markdown",
   "metadata": {},
   "source": [
    "PLAYING TIME STATS"
   ]
  },
  {
   "cell_type": "code",
   "execution_count": 150,
   "metadata": {},
   "outputs": [
    {
     "data": {
      "text/html": [
       "<div>\n",
       "<style scoped>\n",
       "    .dataframe tbody tr th:only-of-type {\n",
       "        vertical-align: middle;\n",
       "    }\n",
       "\n",
       "    .dataframe tbody tr th {\n",
       "        vertical-align: top;\n",
       "    }\n",
       "\n",
       "    .dataframe thead th {\n",
       "        text-align: right;\n",
       "    }\n",
       "</style>\n",
       "<table border=\"1\" class=\"dataframe\">\n",
       "  <thead>\n",
       "    <tr style=\"text-align: right;\">\n",
       "      <th></th>\n",
       "      <th>Season_End_Year</th>\n",
       "      <th>Squad</th>\n",
       "      <th>Comp</th>\n",
       "      <th>Player</th>\n",
       "      <th>Nation</th>\n",
       "      <th>Pos</th>\n",
       "      <th>Age</th>\n",
       "      <th>Born</th>\n",
       "      <th>MP_Playing.Time</th>\n",
       "      <th>Min_Playing.Time</th>\n",
       "      <th>...</th>\n",
       "      <th>onGA_Team.Success</th>\n",
       "      <th>plus_per__minus__Team.Success</th>\n",
       "      <th>plus_per__minus_90_Team.Success</th>\n",
       "      <th>On_minus_Off_Team.Success</th>\n",
       "      <th>onxG_Team.Success..xG.</th>\n",
       "      <th>onxGA_Team.Success..xG</th>\n",
       "      <th>xGplus_per__minus__Team.Success..xG</th>\n",
       "      <th>xGplus_per__minus_90_Team.Success..xG</th>\n",
       "      <th>On_minus_Off_Team.Success..xG</th>\n",
       "      <th>Url</th>\n",
       "    </tr>\n",
       "  </thead>\n",
       "  <tbody>\n",
       "    <tr>\n",
       "      <th>0</th>\n",
       "      <td>2023</td>\n",
       "      <td>Ajaccio</td>\n",
       "      <td>Ligue 1</td>\n",
       "      <td>Mickaël Alphonse</td>\n",
       "      <td>GLP</td>\n",
       "      <td>DF</td>\n",
       "      <td>33.0</td>\n",
       "      <td>1989.0</td>\n",
       "      <td>26</td>\n",
       "      <td>1361.0</td>\n",
       "      <td>...</td>\n",
       "      <td>30.0</td>\n",
       "      <td>-23.0</td>\n",
       "      <td>-1.52</td>\n",
       "      <td>-0.30</td>\n",
       "      <td>12.0</td>\n",
       "      <td>20.8</td>\n",
       "      <td>-8.8</td>\n",
       "      <td>-0.58</td>\n",
       "      <td>-0.19</td>\n",
       "      <td>https://fbref.com/en/players/0a63446f/Mickael-...</td>\n",
       "    </tr>\n",
       "    <tr>\n",
       "      <th>1</th>\n",
       "      <td>2023</td>\n",
       "      <td>Ajaccio</td>\n",
       "      <td>Ligue 1</td>\n",
       "      <td>Cédric Avinel</td>\n",
       "      <td>GLP</td>\n",
       "      <td>DF</td>\n",
       "      <td>35.0</td>\n",
       "      <td>1986.0</td>\n",
       "      <td>24</td>\n",
       "      <td>1794.0</td>\n",
       "      <td>...</td>\n",
       "      <td>40.0</td>\n",
       "      <td>-29.0</td>\n",
       "      <td>-1.45</td>\n",
       "      <td>-0.24</td>\n",
       "      <td>19.0</td>\n",
       "      <td>28.4</td>\n",
       "      <td>-9.4</td>\n",
       "      <td>-0.47</td>\n",
       "      <td>0.00</td>\n",
       "      <td>https://fbref.com/en/players/a94d93be/Cedric-A...</td>\n",
       "    </tr>\n",
       "  </tbody>\n",
       "</table>\n",
       "<p>2 rows × 31 columns</p>\n",
       "</div>"
      ],
      "text/plain": [
       "   Season_End_Year    Squad     Comp            Player Nation Pos   Age  \\\n",
       "0             2023  Ajaccio  Ligue 1  Mickaël Alphonse    GLP  DF  33.0   \n",
       "1             2023  Ajaccio  Ligue 1     Cédric Avinel    GLP  DF  35.0   \n",
       "\n",
       "     Born  MP_Playing.Time  Min_Playing.Time  ...  onGA_Team.Success  \\\n",
       "0  1989.0               26            1361.0  ...               30.0   \n",
       "1  1986.0               24            1794.0  ...               40.0   \n",
       "\n",
       "   plus_per__minus__Team.Success  plus_per__minus_90_Team.Success  \\\n",
       "0                          -23.0                            -1.52   \n",
       "1                          -29.0                            -1.45   \n",
       "\n",
       "   On_minus_Off_Team.Success  onxG_Team.Success..xG.  onxGA_Team.Success..xG  \\\n",
       "0                      -0.30                    12.0                    20.8   \n",
       "1                      -0.24                    19.0                    28.4   \n",
       "\n",
       "   xGplus_per__minus__Team.Success..xG  xGplus_per__minus_90_Team.Success..xG  \\\n",
       "0                                 -8.8                                  -0.58   \n",
       "1                                 -9.4                                  -0.47   \n",
       "\n",
       "   On_minus_Off_Team.Success..xG  \\\n",
       "0                          -0.19   \n",
       "1                           0.00   \n",
       "\n",
       "                                                 Url  \n",
       "0  https://fbref.com/en/players/0a63446f/Mickael-...  \n",
       "1  https://fbref.com/en/players/a94d93be/Cedric-A...  \n",
       "\n",
       "[2 rows x 31 columns]"
      ]
     },
     "execution_count": 150,
     "metadata": {},
     "output_type": "execute_result"
    }
   ],
   "source": [
    "# Load the player statistics dataset\n",
    "playing_time_stats = pd.read_csv(\"datasets/13_big5_player_playing_time_stats.csv\")\n",
    "playing_time_stats.head(2)"
   ]
  },
  {
   "cell_type": "code",
   "execution_count": 151,
   "metadata": {},
   "outputs": [
    {
     "name": "stdout",
     "output_type": "stream",
     "text": [
      "<class 'pandas.core.frame.DataFrame'>\n",
      "RangeIndex: 3527 entries, 0 to 3526\n",
      "Data columns (total 31 columns):\n",
      " #   Column                                 Non-Null Count  Dtype  \n",
      "---  ------                                 --------------  -----  \n",
      " 0   Season_End_Year                        3527 non-null   int64  \n",
      " 1   Squad                                  3527 non-null   object \n",
      " 2   Comp                                   3527 non-null   object \n",
      " 3   Player                                 3527 non-null   object \n",
      " 4   Nation                                 3523 non-null   object \n",
      " 5   Pos                                    3527 non-null   object \n",
      " 6   Age                                    3526 non-null   float64\n",
      " 7   Born                                   3526 non-null   float64\n",
      " 8   MP_Playing.Time                        3527 non-null   int64  \n",
      " 9   Min_Playing.Time                       2889 non-null   float64\n",
      " 10  Mn_per_MP_Playing.Time                 2889 non-null   float64\n",
      " 11  Min_percent_Playing.Time               2891 non-null   float64\n",
      " 12  Mins_Per_90_Playing.Time               2891 non-null   float64\n",
      " 13  Starts_Starts                          3527 non-null   int64  \n",
      " 14  Mn_per_Start_Starts                    2494 non-null   float64\n",
      " 15  Compl_Starts                           3527 non-null   int64  \n",
      " 16  Subs_Subs                              3527 non-null   int64  \n",
      " 17  Mn_per_Sub_Subs                        2500 non-null   float64\n",
      " 18  unSub_Subs                             3527 non-null   int64  \n",
      " 19  PPM_Team.Success                       2891 non-null   float64\n",
      " 20  onG_Team.Success                       2891 non-null   float64\n",
      " 21  onGA_Team.Success                      2891 non-null   float64\n",
      " 22  plus_per__minus__Team.Success          2891 non-null   float64\n",
      " 23  plus_per__minus_90_Team.Success        2889 non-null   float64\n",
      " 24  On_minus_Off_Team.Success              2869 non-null   float64\n",
      " 25  onxG_Team.Success..xG.                 2884 non-null   float64\n",
      " 26  onxGA_Team.Success..xG                 2884 non-null   float64\n",
      " 27  xGplus_per__minus__Team.Success..xG    2884 non-null   float64\n",
      " 28  xGplus_per__minus_90_Team.Success..xG  2884 non-null   float64\n",
      " 29  On_minus_Off_Team.Success..xG          2864 non-null   float64\n",
      " 30  Url                                    3527 non-null   object \n",
      "dtypes: float64(19), int64(6), object(6)\n",
      "memory usage: 854.3+ KB\n"
     ]
    }
   ],
   "source": [
    "playing_time_stats.info()"
   ]
  },
  {
   "cell_type": "code",
   "execution_count": 152,
   "metadata": {},
   "outputs": [
    {
     "data": {
      "text/plain": [
       "Index(['Season_End_Year', 'Squad', 'Comp', 'Player', 'Nation', 'Pos', 'Age',\n",
       "       'Born', 'MP_Playing.Time', 'Min_Playing.Time', 'Mn_per_MP_Playing.Time',\n",
       "       'Min_percent_Playing.Time', 'Mins_Per_90_Playing.Time', 'Starts_Starts',\n",
       "       'Mn_per_Start_Starts', 'Compl_Starts', 'Subs_Subs', 'Mn_per_Sub_Subs',\n",
       "       'unSub_Subs', 'PPM_Team.Success', 'onG_Team.Success',\n",
       "       'onGA_Team.Success', 'plus_per__minus__Team.Success',\n",
       "       'plus_per__minus_90_Team.Success', 'On_minus_Off_Team.Success',\n",
       "       'onxG_Team.Success..xG.', 'onxGA_Team.Success..xG',\n",
       "       'xGplus_per__minus__Team.Success..xG',\n",
       "       'xGplus_per__minus_90_Team.Success..xG',\n",
       "       'On_minus_Off_Team.Success..xG', 'Url'],\n",
       "      dtype='object')"
      ]
     },
     "execution_count": 152,
     "metadata": {},
     "output_type": "execute_result"
    }
   ],
   "source": [
    "playing_time_stats.columns"
   ]
  },
  {
   "cell_type": "code",
   "execution_count": 153,
   "metadata": {},
   "outputs": [],
   "source": [
    "playing_time_col_selection = ['Url', 'Compl_Starts', 'Subs_Subs', 'unSub_Subs', 'PPM_Team.Success', \n",
    "                              'onG_Team.Success', 'onGA_Team.Success', 'plus_per__minus__Team.Success']"
   ]
  },
  {
   "cell_type": "code",
   "execution_count": 154,
   "metadata": {},
   "outputs": [
    {
     "name": "stdout",
     "output_type": "stream",
     "text": [
      "<class 'pandas.core.frame.DataFrame'>\n",
      "RangeIndex: 3527 entries, 0 to 3526\n",
      "Data columns (total 8 columns):\n",
      " #   Column                         Non-Null Count  Dtype  \n",
      "---  ------                         --------------  -----  \n",
      " 0   Url                            3527 non-null   object \n",
      " 1   Compl_Starts                   3527 non-null   int64  \n",
      " 2   Subs_Subs                      3527 non-null   int64  \n",
      " 3   unSub_Subs                     3527 non-null   int64  \n",
      " 4   PPM_Team.Success               2891 non-null   float64\n",
      " 5   onG_Team.Success               2891 non-null   float64\n",
      " 6   onGA_Team.Success              2891 non-null   float64\n",
      " 7   plus_per__minus__Team.Success  2891 non-null   float64\n",
      "dtypes: float64(4), int64(3), object(1)\n",
      "memory usage: 220.6+ KB\n"
     ]
    }
   ],
   "source": [
    "new_playing_time_stats = playing_time_stats[playing_time_col_selection]\n",
    "new_playing_time_stats.info()"
   ]
  },
  {
   "cell_type": "code",
   "execution_count": 155,
   "metadata": {},
   "outputs": [],
   "source": [
    "# Define the aggregation methods for each column\n",
    "aggregation_methods = {\n",
    "    \"Compl_Starts\": \"sum\",\n",
    "    \"Subs_Subs\": \"sum\",\n",
    "    \"unSub_Subs\": \"sum\",\n",
    "    \"PPM_Team.Success\": \"mean\",\n",
    "    \"onG_Team.Success\": \"sum\",\n",
    "    \"onGA_Team.Success\": \"sum\",\n",
    "    \"plus_per__minus__Team.Success\": \"sum\"\n",
    "    # Add more columns and corresponding aggregation methods as needed\n",
    "}\n",
    "\n",
    "# Group the data by the \"Url\" column and apply the aggregation methods\n",
    "new_playing_time_stats = new_playing_time_stats.groupby(\"Url\").agg(aggregation_methods).reset_index()\n",
    "\n",
    "# Uppercase the column names of a DataFrame\n",
    "new_playing_time_stats.columns = new_playing_time_stats.columns.str.upper()\n",
    "\n",
    "# Save the DataFrame to a CSV file\n",
    "new_playing_time_stats.to_csv(\"datasets/aggregated/agg_playing_time_stats.csv\", index=False)"
   ]
  },
  {
   "cell_type": "markdown",
   "metadata": {},
   "source": [
    "MISCELLANEOUS STATS"
   ]
  },
  {
   "cell_type": "code",
   "execution_count": 156,
   "metadata": {},
   "outputs": [
    {
     "data": {
      "text/html": [
       "<div>\n",
       "<style scoped>\n",
       "    .dataframe tbody tr th:only-of-type {\n",
       "        vertical-align: middle;\n",
       "    }\n",
       "\n",
       "    .dataframe tbody tr th {\n",
       "        vertical-align: top;\n",
       "    }\n",
       "\n",
       "    .dataframe thead th {\n",
       "        text-align: right;\n",
       "    }\n",
       "</style>\n",
       "<table border=\"1\" class=\"dataframe\">\n",
       "  <thead>\n",
       "    <tr style=\"text-align: right;\">\n",
       "      <th></th>\n",
       "      <th>Season_End_Year</th>\n",
       "      <th>Squad</th>\n",
       "      <th>Comp</th>\n",
       "      <th>Player</th>\n",
       "      <th>Nation</th>\n",
       "      <th>Pos</th>\n",
       "      <th>Age</th>\n",
       "      <th>Born</th>\n",
       "      <th>Mins_Per_90</th>\n",
       "      <th>CrdY</th>\n",
       "      <th>...</th>\n",
       "      <th>Int</th>\n",
       "      <th>TklW</th>\n",
       "      <th>PKwon</th>\n",
       "      <th>PKcon</th>\n",
       "      <th>OG</th>\n",
       "      <th>Recov</th>\n",
       "      <th>Won_Aerial</th>\n",
       "      <th>Lost_Aerial</th>\n",
       "      <th>Won_percent_Aerial</th>\n",
       "      <th>Url</th>\n",
       "    </tr>\n",
       "  </thead>\n",
       "  <tbody>\n",
       "    <tr>\n",
       "      <th>0</th>\n",
       "      <td>2023</td>\n",
       "      <td>Ajaccio</td>\n",
       "      <td>Ligue 1</td>\n",
       "      <td>Mickaël Alphonse</td>\n",
       "      <td>GLP</td>\n",
       "      <td>DF</td>\n",
       "      <td>33</td>\n",
       "      <td>1989</td>\n",
       "      <td>15.1</td>\n",
       "      <td>2</td>\n",
       "      <td>...</td>\n",
       "      <td>35</td>\n",
       "      <td>23</td>\n",
       "      <td>0.0</td>\n",
       "      <td>1.0</td>\n",
       "      <td>1</td>\n",
       "      <td>89.0</td>\n",
       "      <td>32.0</td>\n",
       "      <td>27.0</td>\n",
       "      <td>54.2</td>\n",
       "      <td>https://fbref.com/en/players/0a63446f/Mickael-...</td>\n",
       "    </tr>\n",
       "    <tr>\n",
       "      <th>1</th>\n",
       "      <td>2023</td>\n",
       "      <td>Ajaccio</td>\n",
       "      <td>Ligue 1</td>\n",
       "      <td>Cédric Avinel</td>\n",
       "      <td>GLP</td>\n",
       "      <td>DF</td>\n",
       "      <td>35</td>\n",
       "      <td>1986</td>\n",
       "      <td>19.9</td>\n",
       "      <td>2</td>\n",
       "      <td>...</td>\n",
       "      <td>15</td>\n",
       "      <td>7</td>\n",
       "      <td>0.0</td>\n",
       "      <td>2.0</td>\n",
       "      <td>0</td>\n",
       "      <td>93.0</td>\n",
       "      <td>38.0</td>\n",
       "      <td>15.0</td>\n",
       "      <td>71.7</td>\n",
       "      <td>https://fbref.com/en/players/a94d93be/Cedric-A...</td>\n",
       "    </tr>\n",
       "  </tbody>\n",
       "</table>\n",
       "<p>2 rows × 26 columns</p>\n",
       "</div>"
      ],
      "text/plain": [
       "   Season_End_Year    Squad     Comp            Player Nation Pos  Age  Born  \\\n",
       "0             2023  Ajaccio  Ligue 1  Mickaël Alphonse    GLP  DF   33  1989   \n",
       "1             2023  Ajaccio  Ligue 1     Cédric Avinel    GLP  DF   35  1986   \n",
       "\n",
       "   Mins_Per_90  CrdY  ...  Int  TklW  PKwon  PKcon  OG  Recov  Won_Aerial  \\\n",
       "0         15.1     2  ...   35    23    0.0    1.0   1   89.0        32.0   \n",
       "1         19.9     2  ...   15     7    0.0    2.0   0   93.0        38.0   \n",
       "\n",
       "   Lost_Aerial  Won_percent_Aerial  \\\n",
       "0         27.0                54.2   \n",
       "1         15.0                71.7   \n",
       "\n",
       "                                                 Url  \n",
       "0  https://fbref.com/en/players/0a63446f/Mickael-...  \n",
       "1  https://fbref.com/en/players/a94d93be/Cedric-A...  \n",
       "\n",
       "[2 rows x 26 columns]"
      ]
     },
     "execution_count": 156,
     "metadata": {},
     "output_type": "execute_result"
    }
   ],
   "source": [
    "# Load the player statistics dataset\n",
    "misc_stats = pd.read_csv(\"datasets/14_big5_player_misc_stats.csv\")\n",
    "misc_stats.head(2)"
   ]
  },
  {
   "cell_type": "code",
   "execution_count": 157,
   "metadata": {},
   "outputs": [
    {
     "name": "stdout",
     "output_type": "stream",
     "text": [
      "<class 'pandas.core.frame.DataFrame'>\n",
      "RangeIndex: 2889 entries, 0 to 2888\n",
      "Data columns (total 26 columns):\n",
      " #   Column              Non-Null Count  Dtype  \n",
      "---  ------              --------------  -----  \n",
      " 0   Season_End_Year     2889 non-null   int64  \n",
      " 1   Squad               2889 non-null   object \n",
      " 2   Comp                2889 non-null   object \n",
      " 3   Player              2889 non-null   object \n",
      " 4   Nation              2888 non-null   object \n",
      " 5   Pos                 2889 non-null   object \n",
      " 6   Age                 2889 non-null   int64  \n",
      " 7   Born                2889 non-null   int64  \n",
      " 8   Mins_Per_90         2889 non-null   float64\n",
      " 9   CrdY                2889 non-null   int64  \n",
      " 10  CrdR                2889 non-null   int64  \n",
      " 11  2CrdY               2889 non-null   int64  \n",
      " 12  Fls                 2889 non-null   int64  \n",
      " 13  Fld                 2889 non-null   int64  \n",
      " 14  Off                 2889 non-null   int64  \n",
      " 15  Crs                 2889 non-null   int64  \n",
      " 16  Int                 2889 non-null   int64  \n",
      " 17  TklW                2889 non-null   int64  \n",
      " 18  PKwon               2884 non-null   float64\n",
      " 19  PKcon               2884 non-null   float64\n",
      " 20  OG                  2889 non-null   int64  \n",
      " 21  Recov               2884 non-null   float64\n",
      " 22  Won_Aerial          2884 non-null   float64\n",
      " 23  Lost_Aerial         2884 non-null   float64\n",
      " 24  Won_percent_Aerial  2652 non-null   float64\n",
      " 25  Url                 2889 non-null   object \n",
      "dtypes: float64(7), int64(13), object(6)\n",
      "memory usage: 587.0+ KB\n"
     ]
    }
   ],
   "source": [
    "misc_stats.info()"
   ]
  },
  {
   "cell_type": "code",
   "execution_count": 158,
   "metadata": {},
   "outputs": [
    {
     "data": {
      "text/plain": [
       "Index(['Season_End_Year', 'Squad', 'Comp', 'Player', 'Nation', 'Pos', 'Age',\n",
       "       'Born', 'Mins_Per_90', 'CrdY', 'CrdR', '2CrdY', 'Fls', 'Fld', 'Off',\n",
       "       'Crs', 'Int', 'TklW', 'PKwon', 'PKcon', 'OG', 'Recov', 'Won_Aerial',\n",
       "       'Lost_Aerial', 'Won_percent_Aerial', 'Url'],\n",
       "      dtype='object')"
      ]
     },
     "execution_count": 158,
     "metadata": {},
     "output_type": "execute_result"
    }
   ],
   "source": [
    "misc_stats.columns"
   ]
  },
  {
   "cell_type": "code",
   "execution_count": 159,
   "metadata": {},
   "outputs": [],
   "source": [
    "misc_col_selection = ['Url', '2CrdY', 'Fls', 'Fld', 'Off', 'Crs', 'TklW', 'PKwon', 'PKcon', \n",
    "                      'OG', 'Recov', 'Won_Aerial', 'Lost_Aerial']"
   ]
  },
  {
   "cell_type": "code",
   "execution_count": 160,
   "metadata": {},
   "outputs": [
    {
     "name": "stdout",
     "output_type": "stream",
     "text": [
      "<class 'pandas.core.frame.DataFrame'>\n",
      "RangeIndex: 2889 entries, 0 to 2888\n",
      "Data columns (total 13 columns):\n",
      " #   Column       Non-Null Count  Dtype  \n",
      "---  ------       --------------  -----  \n",
      " 0   Url          2889 non-null   object \n",
      " 1   2CrdY        2889 non-null   int64  \n",
      " 2   Fls          2889 non-null   int64  \n",
      " 3   Fld          2889 non-null   int64  \n",
      " 4   Off          2889 non-null   int64  \n",
      " 5   Crs          2889 non-null   int64  \n",
      " 6   TklW         2889 non-null   int64  \n",
      " 7   PKwon        2884 non-null   float64\n",
      " 8   PKcon        2884 non-null   float64\n",
      " 9   OG           2889 non-null   int64  \n",
      " 10  Recov        2884 non-null   float64\n",
      " 11  Won_Aerial   2884 non-null   float64\n",
      " 12  Lost_Aerial  2884 non-null   float64\n",
      "dtypes: float64(5), int64(7), object(1)\n",
      "memory usage: 293.5+ KB\n"
     ]
    }
   ],
   "source": [
    "new_misc_stats = misc_stats[misc_col_selection]\n",
    "new_misc_stats.info()"
   ]
  },
  {
   "cell_type": "code",
   "execution_count": 161,
   "metadata": {},
   "outputs": [],
   "source": [
    "# Group the data by the \"Url\" column and sum the statistics\n",
    "new_misc_stats = new_misc_stats.groupby(\"Url\").sum().reset_index()\n",
    "\n",
    "# Uppercase the column names of a DataFrame\n",
    "new_misc_stats.columns = new_misc_stats.columns.str.upper()\n",
    "\n",
    "# Save the DataFrame to a CSV file\n",
    "new_misc_stats.to_csv(\"datasets/aggregated/agg_misc_stats.csv\", index=False)"
   ]
  },
  {
   "cell_type": "markdown",
   "metadata": {},
   "source": [
    "KEEPER STATS"
   ]
  },
  {
   "cell_type": "code",
   "execution_count": 162,
   "metadata": {},
   "outputs": [
    {
     "data": {
      "text/html": [
       "<div>\n",
       "<style scoped>\n",
       "    .dataframe tbody tr th:only-of-type {\n",
       "        vertical-align: middle;\n",
       "    }\n",
       "\n",
       "    .dataframe tbody tr th {\n",
       "        vertical-align: top;\n",
       "    }\n",
       "\n",
       "    .dataframe thead th {\n",
       "        text-align: right;\n",
       "    }\n",
       "</style>\n",
       "<table border=\"1\" class=\"dataframe\">\n",
       "  <thead>\n",
       "    <tr style=\"text-align: right;\">\n",
       "      <th></th>\n",
       "      <th>Season_End_Year</th>\n",
       "      <th>Squad</th>\n",
       "      <th>Comp</th>\n",
       "      <th>Player</th>\n",
       "      <th>Nation</th>\n",
       "      <th>Pos</th>\n",
       "      <th>Age</th>\n",
       "      <th>Born</th>\n",
       "      <th>MP_Playing</th>\n",
       "      <th>Starts_Playing</th>\n",
       "      <th>...</th>\n",
       "      <th>D</th>\n",
       "      <th>L</th>\n",
       "      <th>CS</th>\n",
       "      <th>CS_percent</th>\n",
       "      <th>PKatt_Penalty</th>\n",
       "      <th>PKA_Penalty</th>\n",
       "      <th>PKsv_Penalty</th>\n",
       "      <th>PKm_Penalty</th>\n",
       "      <th>Save_percent_Penalty</th>\n",
       "      <th>Url</th>\n",
       "    </tr>\n",
       "  </thead>\n",
       "  <tbody>\n",
       "    <tr>\n",
       "      <th>0</th>\n",
       "      <td>2023</td>\n",
       "      <td>Ajaccio</td>\n",
       "      <td>Ligue 1</td>\n",
       "      <td>Benjamin Leroy</td>\n",
       "      <td>FRA</td>\n",
       "      <td>GK</td>\n",
       "      <td>33</td>\n",
       "      <td>1989</td>\n",
       "      <td>32</td>\n",
       "      <td>32</td>\n",
       "      <td>...</td>\n",
       "      <td>4.0</td>\n",
       "      <td>22.0</td>\n",
       "      <td>4.0</td>\n",
       "      <td>12.5</td>\n",
       "      <td>9.0</td>\n",
       "      <td>8.0</td>\n",
       "      <td>0.0</td>\n",
       "      <td>1.0</td>\n",
       "      <td>0.0</td>\n",
       "      <td>https://fbref.com/en/players/1e7aea56/Benjamin...</td>\n",
       "    </tr>\n",
       "    <tr>\n",
       "      <th>1</th>\n",
       "      <td>2023</td>\n",
       "      <td>Ajaccio</td>\n",
       "      <td>Ligue 1</td>\n",
       "      <td>Ghjuvanni Quilichini</td>\n",
       "      <td>FRA</td>\n",
       "      <td>GK</td>\n",
       "      <td>19</td>\n",
       "      <td>2002</td>\n",
       "      <td>1</td>\n",
       "      <td>0</td>\n",
       "      <td>...</td>\n",
       "      <td>0.0</td>\n",
       "      <td>0.0</td>\n",
       "      <td>1.0</td>\n",
       "      <td>NaN</td>\n",
       "      <td>0.0</td>\n",
       "      <td>0.0</td>\n",
       "      <td>0.0</td>\n",
       "      <td>0.0</td>\n",
       "      <td>NaN</td>\n",
       "      <td>https://fbref.com/en/players/1b729a98/Ghjuvann...</td>\n",
       "    </tr>\n",
       "  </tbody>\n",
       "</table>\n",
       "<p>2 rows × 28 columns</p>\n",
       "</div>"
      ],
      "text/plain": [
       "   Season_End_Year    Squad     Comp                Player Nation Pos  Age  \\\n",
       "0             2023  Ajaccio  Ligue 1        Benjamin Leroy    FRA  GK   33   \n",
       "1             2023  Ajaccio  Ligue 1  Ghjuvanni Quilichini    FRA  GK   19   \n",
       "\n",
       "   Born  MP_Playing  Starts_Playing  ...    D     L   CS  CS_percent  \\\n",
       "0  1989          32              32  ...  4.0  22.0  4.0        12.5   \n",
       "1  2002           1               0  ...  0.0   0.0  1.0         NaN   \n",
       "\n",
       "   PKatt_Penalty  PKA_Penalty  PKsv_Penalty  PKm_Penalty  \\\n",
       "0            9.0          8.0           0.0          1.0   \n",
       "1            0.0          0.0           0.0          0.0   \n",
       "\n",
       "   Save_percent_Penalty                                                Url  \n",
       "0                   0.0  https://fbref.com/en/players/1e7aea56/Benjamin...  \n",
       "1                   NaN  https://fbref.com/en/players/1b729a98/Ghjuvann...  \n",
       "\n",
       "[2 rows x 28 columns]"
      ]
     },
     "execution_count": 162,
     "metadata": {},
     "output_type": "execute_result"
    }
   ],
   "source": [
    "# Load the player statistics dataset\n",
    "keeper_stats = pd.read_csv(\"datasets/15_big5_player_keepers_stats.csv\")\n",
    "keeper_stats.head(2)"
   ]
  },
  {
   "cell_type": "code",
   "execution_count": 163,
   "metadata": {},
   "outputs": [
    {
     "name": "stdout",
     "output_type": "stream",
     "text": [
      "<class 'pandas.core.frame.DataFrame'>\n",
      "RangeIndex: 208 entries, 0 to 207\n",
      "Data columns (total 28 columns):\n",
      " #   Column                Non-Null Count  Dtype  \n",
      "---  ------                --------------  -----  \n",
      " 0   Season_End_Year       208 non-null    int64  \n",
      " 1   Squad                 208 non-null    object \n",
      " 2   Comp                  208 non-null    object \n",
      " 3   Player                208 non-null    object \n",
      " 4   Nation                208 non-null    object \n",
      " 5   Pos                   208 non-null    object \n",
      " 6   Age                   208 non-null    int64  \n",
      " 7   Born                  208 non-null    int64  \n",
      " 8   MP_Playing            208 non-null    int64  \n",
      " 9   Starts_Playing        208 non-null    int64  \n",
      " 10  Min_Playing           208 non-null    int64  \n",
      " 11  Mins_Per_90           208 non-null    float64\n",
      " 12  GA                    207 non-null    float64\n",
      " 13  GA90                  207 non-null    float64\n",
      " 14  SoTA                  207 non-null    float64\n",
      " 15  Saves                 207 non-null    float64\n",
      " 16  Save_percent          204 non-null    float64\n",
      " 17  W                     208 non-null    int64  \n",
      " 18  D                     207 non-null    float64\n",
      " 19  L                     207 non-null    float64\n",
      " 20  CS                    207 non-null    float64\n",
      " 21  CS_percent            195 non-null    float64\n",
      " 22  PKatt_Penalty         207 non-null    float64\n",
      " 23  PKA_Penalty           207 non-null    float64\n",
      " 24  PKsv_Penalty          207 non-null    float64\n",
      " 25  PKm_Penalty           207 non-null    float64\n",
      " 26  Save_percent_Penalty  148 non-null    float64\n",
      " 27  Url                   208 non-null    object \n",
      "dtypes: float64(15), int64(7), object(6)\n",
      "memory usage: 45.6+ KB\n"
     ]
    }
   ],
   "source": [
    "keeper_stats.info()"
   ]
  },
  {
   "cell_type": "code",
   "execution_count": 164,
   "metadata": {},
   "outputs": [
    {
     "data": {
      "text/plain": [
       "Index(['Season_End_Year', 'Squad', 'Comp', 'Player', 'Nation', 'Pos', 'Age',\n",
       "       'Born', 'MP_Playing', 'Starts_Playing', 'Min_Playing', 'Mins_Per_90',\n",
       "       'GA', 'GA90', 'SoTA', 'Saves', 'Save_percent', 'W', 'D', 'L', 'CS',\n",
       "       'CS_percent', 'PKatt_Penalty', 'PKA_Penalty', 'PKsv_Penalty',\n",
       "       'PKm_Penalty', 'Save_percent_Penalty', 'Url'],\n",
       "      dtype='object')"
      ]
     },
     "execution_count": 164,
     "metadata": {},
     "output_type": "execute_result"
    }
   ],
   "source": [
    "keeper_stats.columns"
   ]
  },
  {
   "cell_type": "code",
   "execution_count": 165,
   "metadata": {},
   "outputs": [],
   "source": [
    "keeper_col_selection = ['Url', 'GA', 'SoTA', 'Saves', 'W', 'D', 'L', 'CS', 'PKatt_Penalty', \n",
    "                        'PKA_Penalty', 'PKsv_Penalty', 'PKm_Penalty']"
   ]
  },
  {
   "cell_type": "code",
   "execution_count": 166,
   "metadata": {},
   "outputs": [
    {
     "name": "stdout",
     "output_type": "stream",
     "text": [
      "<class 'pandas.core.frame.DataFrame'>\n",
      "RangeIndex: 208 entries, 0 to 207\n",
      "Data columns (total 12 columns):\n",
      " #   Column         Non-Null Count  Dtype  \n",
      "---  ------         --------------  -----  \n",
      " 0   Url            208 non-null    object \n",
      " 1   GA             207 non-null    float64\n",
      " 2   SoTA           207 non-null    float64\n",
      " 3   Saves          207 non-null    float64\n",
      " 4   W              208 non-null    int64  \n",
      " 5   D              207 non-null    float64\n",
      " 6   L              207 non-null    float64\n",
      " 7   CS             207 non-null    float64\n",
      " 8   PKatt_Penalty  207 non-null    float64\n",
      " 9   PKA_Penalty    207 non-null    float64\n",
      " 10  PKsv_Penalty   207 non-null    float64\n",
      " 11  PKm_Penalty    207 non-null    float64\n",
      "dtypes: float64(10), int64(1), object(1)\n",
      "memory usage: 19.6+ KB\n"
     ]
    }
   ],
   "source": [
    "new_keeper_stats = keeper_stats[keeper_col_selection]\n",
    "new_keeper_stats.info()"
   ]
  },
  {
   "cell_type": "code",
   "execution_count": 167,
   "metadata": {},
   "outputs": [],
   "source": [
    "# Group the data by the \"Url\" column and sum the statistics\n",
    "new_keeper_stats = new_keeper_stats.groupby(\"Url\").sum().reset_index()\n",
    "\n",
    "# Uppercase the column names of a DataFrame\n",
    "new_keeper_stats.columns = new_keeper_stats.columns.str.upper()\n",
    "\n",
    "# Save the DataFrame to a CSV file\n",
    "new_keeper_stats.to_csv(\"datasets/aggregated/agg_keeper_stats.csv\", index=False)"
   ]
  }
 ],
 "metadata": {
  "kernelspec": {
   "display_name": "base",
   "language": "python",
   "name": "python3"
  },
  "language_info": {
   "codemirror_mode": {
    "name": "ipython",
    "version": 3
   },
   "file_extension": ".py",
   "mimetype": "text/x-python",
   "name": "python",
   "nbconvert_exporter": "python",
   "pygments_lexer": "ipython3",
   "version": "3.9.13"
  },
  "orig_nbformat": 4
 },
 "nbformat": 4,
 "nbformat_minor": 2
}
