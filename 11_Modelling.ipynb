{
 "cells": [
  {
   "cell_type": "markdown",
   "metadata": {},
   "source": [
    "# Modelling"
   ]
  },
  {
   "cell_type": "markdown",
   "metadata": {},
   "source": [
    "## Import necessary libraries"
   ]
  },
  {
   "cell_type": "code",
   "execution_count": 1,
   "metadata": {},
   "outputs": [],
   "source": [
    "import pandas as pd\n",
    "import numpy as np\n",
    "from sklearn.model_selection import train_test_split, cross_val_score, KFold\n",
    "from sklearn.linear_model import LinearRegression, Lasso\n",
    "from sklearn.tree import DecisionTreeRegressor\n",
    "from sklearn.metrics import mean_squared_error, r2_score, accuracy_score, roc_curve, roc_auc_score\n",
    "import matplotlib.pyplot as plt"
   ]
  },
  {
   "cell_type": "markdown",
   "metadata": {},
   "source": [
    "## Load and visualize features and output variable"
   ]
  },
  {
   "cell_type": "code",
   "execution_count": 2,
   "metadata": {},
   "outputs": [],
   "source": [
    "# Load the data\n",
    "X = pd.read_csv('datasets/raw_data_final/features_model.csv', index_col=0).drop(columns=['ID', 'YEAR_BIRTH'], axis=1)\n",
    "y = pd.read_csv('datasets/raw_data_final/output_variable_model.csv', index_col=0)"
   ]
  },
  {
   "cell_type": "code",
   "execution_count": 3,
   "metadata": {},
   "outputs": [
    {
     "data": {
      "text/html": [
       "<div>\n",
       "<style scoped>\n",
       "    .dataframe tbody tr th:only-of-type {\n",
       "        vertical-align: middle;\n",
       "    }\n",
       "\n",
       "    .dataframe tbody tr th {\n",
       "        vertical-align: top;\n",
       "    }\n",
       "\n",
       "    .dataframe thead th {\n",
       "        text-align: right;\n",
       "    }\n",
       "</style>\n",
       "<table border=\"1\" class=\"dataframe\">\n",
       "  <thead>\n",
       "    <tr style=\"text-align: right;\">\n",
       "      <th></th>\n",
       "      <th>CLUB_NAME</th>\n",
       "      <th>CURRENT_INTERNATIONAL</th>\n",
       "      <th>AGE</th>\n",
       "      <th>MIN_PLAYING</th>\n",
       "      <th>DIST_STANDARD</th>\n",
       "      <th>DEF 3RD_TOUCHES</th>\n",
       "      <th>ATT 3RD_TOUCHES</th>\n",
       "      <th>ATT PEN_TOUCHES</th>\n",
       "      <th>ATT_TAKE</th>\n",
       "      <th>TOTDIST_CARRIES</th>\n",
       "      <th>...</th>\n",
       "      <th>MACRO_POSITION_Attack</th>\n",
       "      <th>MACRO_POSITION_Defense</th>\n",
       "      <th>MACRO_POSITION_Midfield</th>\n",
       "      <th>FOOT_both</th>\n",
       "      <th>FOOT_left</th>\n",
       "      <th>FOOT_right</th>\n",
       "      <th>PLAYER_AGENT_False</th>\n",
       "      <th>PLAYER_AGENT_True</th>\n",
       "      <th>OUTFITTER_False</th>\n",
       "      <th>OUTFITTER_True</th>\n",
       "    </tr>\n",
       "  </thead>\n",
       "  <tbody>\n",
       "    <tr>\n",
       "      <th>0</th>\n",
       "      <td>52</td>\n",
       "      <td>78</td>\n",
       "      <td>0.409091</td>\n",
       "      <td>0.584089</td>\n",
       "      <td>0.215017</td>\n",
       "      <td>0.837452</td>\n",
       "      <td>0.101467</td>\n",
       "      <td>0.153846</td>\n",
       "      <td>0.082645</td>\n",
       "      <td>0.844829</td>\n",
       "      <td>...</td>\n",
       "      <td>0</td>\n",
       "      <td>1</td>\n",
       "      <td>0</td>\n",
       "      <td>0</td>\n",
       "      <td>0</td>\n",
       "      <td>1</td>\n",
       "      <td>0</td>\n",
       "      <td>1</td>\n",
       "      <td>0</td>\n",
       "      <td>1</td>\n",
       "    </tr>\n",
       "    <tr>\n",
       "      <th>1</th>\n",
       "      <td>52</td>\n",
       "      <td>68</td>\n",
       "      <td>0.500000</td>\n",
       "      <td>0.547529</td>\n",
       "      <td>0.262799</td>\n",
       "      <td>0.584601</td>\n",
       "      <td>0.312958</td>\n",
       "      <td>0.223776</td>\n",
       "      <td>0.041322</td>\n",
       "      <td>0.562429</td>\n",
       "      <td>...</td>\n",
       "      <td>0</td>\n",
       "      <td>1</td>\n",
       "      <td>0</td>\n",
       "      <td>0</td>\n",
       "      <td>1</td>\n",
       "      <td>0</td>\n",
       "      <td>0</td>\n",
       "      <td>1</td>\n",
       "      <td>0</td>\n",
       "      <td>1</td>\n",
       "    </tr>\n",
       "    <tr>\n",
       "      <th>2</th>\n",
       "      <td>52</td>\n",
       "      <td>32</td>\n",
       "      <td>0.545455</td>\n",
       "      <td>0.539631</td>\n",
       "      <td>0.361775</td>\n",
       "      <td>0.517110</td>\n",
       "      <td>0.256724</td>\n",
       "      <td>0.188811</td>\n",
       "      <td>0.082645</td>\n",
       "      <td>0.639344</td>\n",
       "      <td>...</td>\n",
       "      <td>0</td>\n",
       "      <td>1</td>\n",
       "      <td>0</td>\n",
       "      <td>0</td>\n",
       "      <td>0</td>\n",
       "      <td>1</td>\n",
       "      <td>0</td>\n",
       "      <td>1</td>\n",
       "      <td>0</td>\n",
       "      <td>1</td>\n",
       "    </tr>\n",
       "    <tr>\n",
       "      <th>3</th>\n",
       "      <td>52</td>\n",
       "      <td>91</td>\n",
       "      <td>0.454545</td>\n",
       "      <td>0.668617</td>\n",
       "      <td>0.447099</td>\n",
       "      <td>0.774715</td>\n",
       "      <td>0.215159</td>\n",
       "      <td>0.237762</td>\n",
       "      <td>0.099174</td>\n",
       "      <td>0.870502</td>\n",
       "      <td>...</td>\n",
       "      <td>0</td>\n",
       "      <td>1</td>\n",
       "      <td>0</td>\n",
       "      <td>0</td>\n",
       "      <td>0</td>\n",
       "      <td>1</td>\n",
       "      <td>0</td>\n",
       "      <td>1</td>\n",
       "      <td>0</td>\n",
       "      <td>1</td>\n",
       "    </tr>\n",
       "    <tr>\n",
       "      <th>4</th>\n",
       "      <td>52</td>\n",
       "      <td>88</td>\n",
       "      <td>0.545455</td>\n",
       "      <td>0.290143</td>\n",
       "      <td>0.412969</td>\n",
       "      <td>0.318441</td>\n",
       "      <td>0.202934</td>\n",
       "      <td>0.090909</td>\n",
       "      <td>0.033058</td>\n",
       "      <td>0.413960</td>\n",
       "      <td>...</td>\n",
       "      <td>0</td>\n",
       "      <td>1</td>\n",
       "      <td>0</td>\n",
       "      <td>0</td>\n",
       "      <td>1</td>\n",
       "      <td>0</td>\n",
       "      <td>1</td>\n",
       "      <td>0</td>\n",
       "      <td>0</td>\n",
       "      <td>1</td>\n",
       "    </tr>\n",
       "  </tbody>\n",
       "</table>\n",
       "<p>5 rows × 54 columns</p>\n",
       "</div>"
      ],
      "text/plain": [
       "   CLUB_NAME  CURRENT_INTERNATIONAL       AGE  MIN_PLAYING  DIST_STANDARD  \\\n",
       "0         52                     78  0.409091     0.584089       0.215017   \n",
       "1         52                     68  0.500000     0.547529       0.262799   \n",
       "2         52                     32  0.545455     0.539631       0.361775   \n",
       "3         52                     91  0.454545     0.668617       0.447099   \n",
       "4         52                     88  0.545455     0.290143       0.412969   \n",
       "\n",
       "   DEF 3RD_TOUCHES  ATT 3RD_TOUCHES  ATT PEN_TOUCHES  ATT_TAKE  \\\n",
       "0         0.837452         0.101467         0.153846  0.082645   \n",
       "1         0.584601         0.312958         0.223776  0.041322   \n",
       "2         0.517110         0.256724         0.188811  0.082645   \n",
       "3         0.774715         0.215159         0.237762  0.099174   \n",
       "4         0.318441         0.202934         0.090909  0.033058   \n",
       "\n",
       "   TOTDIST_CARRIES  ...  MACRO_POSITION_Attack  MACRO_POSITION_Defense  \\\n",
       "0         0.844829  ...                      0                       1   \n",
       "1         0.562429  ...                      0                       1   \n",
       "2         0.639344  ...                      0                       1   \n",
       "3         0.870502  ...                      0                       1   \n",
       "4         0.413960  ...                      0                       1   \n",
       "\n",
       "   MACRO_POSITION_Midfield  FOOT_both  FOOT_left  FOOT_right  \\\n",
       "0                        0          0          0           1   \n",
       "1                        0          0          1           0   \n",
       "2                        0          0          0           1   \n",
       "3                        0          0          0           1   \n",
       "4                        0          0          1           0   \n",
       "\n",
       "   PLAYER_AGENT_False  PLAYER_AGENT_True  OUTFITTER_False  OUTFITTER_True  \n",
       "0                   0                  1                0               1  \n",
       "1                   0                  1                0               1  \n",
       "2                   0                  1                0               1  \n",
       "3                   0                  1                0               1  \n",
       "4                   1                  0                0               1  \n",
       "\n",
       "[5 rows x 54 columns]"
      ]
     },
     "execution_count": 3,
     "metadata": {},
     "output_type": "execute_result"
    }
   ],
   "source": [
    "X.head(5)"
   ]
  },
  {
   "cell_type": "code",
   "execution_count": 4,
   "metadata": {},
   "outputs": [
    {
     "name": "stdout",
     "output_type": "stream",
     "text": [
      "<class 'pandas.core.frame.DataFrame'>\n",
      "Int64Index: 2384 entries, 0 to 2383\n",
      "Data columns (total 54 columns):\n",
      " #   Column                                  Non-Null Count  Dtype  \n",
      "---  ------                                  --------------  -----  \n",
      " 0   CLUB_NAME                               2384 non-null   int64  \n",
      " 1   CURRENT_INTERNATIONAL                   2384 non-null   int64  \n",
      " 2   AGE                                     2384 non-null   float64\n",
      " 3   MIN_PLAYING                             2384 non-null   float64\n",
      " 4   DIST_STANDARD                           2384 non-null   float64\n",
      " 5   DEF 3RD_TOUCHES                         2384 non-null   float64\n",
      " 6   ATT 3RD_TOUCHES                         2384 non-null   float64\n",
      " 7   ATT PEN_TOUCHES                         2384 non-null   float64\n",
      " 8   ATT_TAKE                                2384 non-null   float64\n",
      " 9   TOTDIST_CARRIES                         2384 non-null   float64\n",
      " 10  CPA_CARRIES                             2384 non-null   float64\n",
      " 11  MIS_CARRIES                             2384 non-null   float64\n",
      " 12  SUBS_SUBS                               2384 non-null   float64\n",
      " 13  UNSUB_SUBS                              2384 non-null   float64\n",
      " 14  PLUS_PER__MINUS__TEAM.SUCCESS           2384 non-null   float64\n",
      " 15  TOTDIST_TOTAL                           2384 non-null   float64\n",
      " 16  CRSPA                                   2384 non-null   float64\n",
      " 17  FLS                                     2384 non-null   float64\n",
      " 18  FLD                                     2384 non-null   float64\n",
      " 19  OFF                                     2384 non-null   float64\n",
      " 20  CRS                                     2384 non-null   float64\n",
      " 21  WON_AERIAL                              2384 non-null   float64\n",
      " 22  LOST_AERIAL                             2384 non-null   float64\n",
      " 23  ATT 3RD_TACKLES                         2384 non-null   float64\n",
      " 24  LOST_CHALLENGES                         2384 non-null   float64\n",
      " 25  PASS_BLOCKS                             2384 non-null   float64\n",
      " 26  TKL+INT                                 2384 non-null   float64\n",
      " 27  LEAGUE_COUNTRY_England                  2384 non-null   int64  \n",
      " 28  LEAGUE_COUNTRY_France                   2384 non-null   int64  \n",
      " 29  LEAGUE_COUNTRY_Germany                  2384 non-null   int64  \n",
      " 30  LEAGUE_COUNTRY_Italy                    2384 non-null   int64  \n",
      " 31  LEAGUE_COUNTRY_Spain                    2384 non-null   int64  \n",
      " 32  POSITION_Attack - Centre-Forward        2384 non-null   int64  \n",
      " 33  POSITION_Attack - Left Winger           2384 non-null   int64  \n",
      " 34  POSITION_Attack - Right Winger          2384 non-null   int64  \n",
      " 35  POSITION_Attack - Second Striker        2384 non-null   int64  \n",
      " 36  POSITION_Defender - Centre-Back         2384 non-null   int64  \n",
      " 37  POSITION_Defender - Left-Back           2384 non-null   int64  \n",
      " 38  POSITION_Defender - Right-Back          2384 non-null   int64  \n",
      " 39  POSITION_midfield - Attacking Midfield  2384 non-null   int64  \n",
      " 40  POSITION_midfield - Central Midfield    2384 non-null   int64  \n",
      " 41  POSITION_midfield - Defensive Midfield  2384 non-null   int64  \n",
      " 42  POSITION_midfield - Left Midfield       2384 non-null   int64  \n",
      " 43  POSITION_midfield - Right Midfield      2384 non-null   int64  \n",
      " 44  MACRO_POSITION_Attack                   2384 non-null   int64  \n",
      " 45  MACRO_POSITION_Defense                  2384 non-null   int64  \n",
      " 46  MACRO_POSITION_Midfield                 2384 non-null   int64  \n",
      " 47  FOOT_both                               2384 non-null   int64  \n",
      " 48  FOOT_left                               2384 non-null   int64  \n",
      " 49  FOOT_right                              2384 non-null   int64  \n",
      " 50  PLAYER_AGENT_False                      2384 non-null   int64  \n",
      " 51  PLAYER_AGENT_True                       2384 non-null   int64  \n",
      " 52  OUTFITTER_False                         2384 non-null   int64  \n",
      " 53  OUTFITTER_True                          2384 non-null   int64  \n",
      "dtypes: float64(25), int64(29)\n",
      "memory usage: 1.0 MB\n"
     ]
    }
   ],
   "source": [
    "X.info()"
   ]
  },
  {
   "cell_type": "code",
   "execution_count": 5,
   "metadata": {},
   "outputs": [
    {
     "data": {
      "text/html": [
       "<div>\n",
       "<style scoped>\n",
       "    .dataframe tbody tr th:only-of-type {\n",
       "        vertical-align: middle;\n",
       "    }\n",
       "\n",
       "    .dataframe tbody tr th {\n",
       "        vertical-align: top;\n",
       "    }\n",
       "\n",
       "    .dataframe thead th {\n",
       "        text-align: right;\n",
       "    }\n",
       "</style>\n",
       "<table border=\"1\" class=\"dataframe\">\n",
       "  <thead>\n",
       "    <tr style=\"text-align: right;\">\n",
       "      <th></th>\n",
       "      <th>PLAYER_VALUE</th>\n",
       "    </tr>\n",
       "  </thead>\n",
       "  <tbody>\n",
       "    <tr>\n",
       "      <th>2379</th>\n",
       "      <td>15.201805</td>\n",
       "    </tr>\n",
       "    <tr>\n",
       "      <th>2380</th>\n",
       "      <td>14.845130</td>\n",
       "    </tr>\n",
       "    <tr>\n",
       "      <th>2381</th>\n",
       "      <td>13.910821</td>\n",
       "    </tr>\n",
       "    <tr>\n",
       "      <th>2382</th>\n",
       "      <td>13.815511</td>\n",
       "    </tr>\n",
       "    <tr>\n",
       "      <th>2383</th>\n",
       "      <td>13.304685</td>\n",
       "    </tr>\n",
       "  </tbody>\n",
       "</table>\n",
       "</div>"
      ],
      "text/plain": [
       "      PLAYER_VALUE\n",
       "2379     15.201805\n",
       "2380     14.845130\n",
       "2381     13.910821\n",
       "2382     13.815511\n",
       "2383     13.304685"
      ]
     },
     "execution_count": 5,
     "metadata": {},
     "output_type": "execute_result"
    }
   ],
   "source": [
    "y.tail(5)"
   ]
  },
  {
   "cell_type": "code",
   "execution_count": 6,
   "metadata": {},
   "outputs": [
    {
     "name": "stdout",
     "output_type": "stream",
     "text": [
      "<class 'pandas.core.frame.DataFrame'>\n",
      "Int64Index: 2384 entries, 0 to 2383\n",
      "Data columns (total 1 columns):\n",
      " #   Column        Non-Null Count  Dtype  \n",
      "---  ------        --------------  -----  \n",
      " 0   PLAYER_VALUE  2384 non-null   float64\n",
      "dtypes: float64(1)\n",
      "memory usage: 37.2 KB\n"
     ]
    }
   ],
   "source": [
    "y.info()"
   ]
  },
  {
   "cell_type": "markdown",
   "metadata": {},
   "source": [
    "## Split data into training and testing"
   ]
  },
  {
   "cell_type": "code",
   "execution_count": 7,
   "metadata": {},
   "outputs": [],
   "source": [
    "# Split the data into training and testing sets using 40% for testing\n",
    "X_train, X_test, y_train, y_test = train_test_split(X, y, test_size=0.4, random_state=1)"
   ]
  },
  {
   "cell_type": "markdown",
   "metadata": {},
   "source": [
    "## Define evaluate model function"
   ]
  },
  {
   "cell_type": "code",
   "execution_count": 8,
   "metadata": {},
   "outputs": [],
   "source": [
    "# Function to evaluate and print model performance metrics\n",
    "def evaluate_model(y_true, y_pred):\n",
    "    rmse = np.sqrt(mean_squared_error(y_true, y_pred))\n",
    "    r2 = r2_score(y_true, y_pred)\n",
    "    print(f\"RMSE: {rmse:.2f}, R^2: {r2:.2f}\")"
   ]
  },
  {
   "cell_type": "markdown",
   "metadata": {},
   "source": [
    "## Modelling using train - test split"
   ]
  },
  {
   "cell_type": "code",
   "execution_count": 9,
   "metadata": {},
   "outputs": [
    {
     "name": "stdout",
     "output_type": "stream",
     "text": [
      "Linear Regression (Train Set):\n",
      "RMSE: 0.83, R^2: 0.66\n",
      "Linear Regression (Test Set):\n",
      "RMSE: 0.83, R^2: 0.64\n",
      "Decision Trees (Train Set):\n",
      "RMSE: 0.00, R^2: 1.00\n",
      "Decision Trees (Test Set):\n",
      "RMSE: 1.05, R^2: 0.42\n",
      "Lasso Regression (Train Set):\n",
      "RMSE: 1.42, R^2: 0.00\n",
      "Lasso Regression (Test Set):\n",
      "RMSE: 1.37, R^2: 0.00\n",
      "Decision Tree Regression (Train Set):\n",
      "RMSE: 0.00, R^2: 1.00\n",
      "Decision Tree Regression (Test Set):\n",
      "RMSE: 1.05, R^2: 0.42\n"
     ]
    }
   ],
   "source": [
    "# Linear Regression\n",
    "lr = LinearRegression()\n",
    "lr.fit(X_train, y_train)\n",
    "y_pred_lr_train = lr.predict(X_train)\n",
    "y_pred_lr_test = lr.predict(X_test)\n",
    "\n",
    "print(\"Linear Regression (Train Set):\")\n",
    "evaluate_model(y_train, y_pred_lr_train)\n",
    "\n",
    "print(\"Linear Regression (Test Set):\")\n",
    "evaluate_model(y_test, y_pred_lr_test)\n",
    "\n",
    "# Decision Trees\n",
    "dt = DecisionTreeRegressor(random_state=1)\n",
    "dt.fit(X_train, y_train)\n",
    "y_pred_dt_train = dt.predict(X_train)\n",
    "y_pred_dt_test = dt.predict(X_test)\n",
    "\n",
    "print(\"Decision Trees (Train Set):\")\n",
    "evaluate_model(y_train, y_pred_dt_train)\n",
    "\n",
    "print(\"Decision Trees (Test Set):\")\n",
    "evaluate_model(y_test, y_pred_dt_test)\n",
    "\n",
    "# Lasso Regression\n",
    "lasso = Lasso(random_state=1)\n",
    "lasso.fit(X_train, y_train)\n",
    "y_pred_lasso_train = lasso.predict(X_train)\n",
    "y_pred_lasso_test = lasso.predict(X_test)\n",
    "\n",
    "print(\"Lasso Regression (Train Set):\")\n",
    "evaluate_model(y_train, y_pred_lasso_train)\n",
    "\n",
    "print(\"Lasso Regression (Test Set):\")\n",
    "evaluate_model(y_test, y_pred_lasso_test)\n",
    "\n",
    "# Decision Tree Regression\n",
    "dt_regression = DecisionTreeRegressor(random_state=1)\n",
    "dt_regression.fit(X_train, y_train)\n",
    "y_pred_dt_regression_train = dt_regression.predict(X_train)\n",
    "y_pred_dt_regression_test = dt_regression.predict(X_test)\n",
    "\n",
    "print(\"Decision Tree Regression (Train Set):\")\n",
    "evaluate_model(y_train, y_pred_dt_regression_train)\n",
    "\n",
    "print(\"Decision Tree Regression (Test Set):\")\n",
    "evaluate_model(y_test, y_pred_dt_regression_test)"
   ]
  },
  {
   "cell_type": "code",
   "execution_count": 10,
   "metadata": {},
   "outputs": [],
   "source": [
    "coef_dict = {}\n",
    "for coef, feat in zip(lr.coef_[0,:],X.columns):\n",
    "    coef_dict[feat] = coef"
   ]
  },
  {
   "cell_type": "code",
   "execution_count": 11,
   "metadata": {},
   "outputs": [
    {
     "data": {
      "image/png": "[encoded data removed]",
      "text/plain": [
       "<Figure size 1000x600 with 1 Axes>"
      ]
     },
     "metadata": {},
     "output_type": "display_data"
    }
   ],
   "source": [
    "# Get the top 10 feature names and corresponding coefficients from coef_dict\n",
    "top_features = sorted(coef_dict, key=lambda k: abs(coef_dict[k]), reverse=True)[:10]\n",
    "top_coefficients = [coef_dict[feature] for feature in top_features]\n",
    "\n",
    "# Plot the top 10 coefficients\n",
    "plt.figure(figsize=(10, 6))\n",
    "plt.barh(top_features, top_coefficients)\n",
    "plt.xlabel(\"Coefficient Value\")\n",
    "plt.ylabel(\"Feature\")\n",
    "plt.title(\"Top 10 Linear Regression Coefficients\")\n",
    "plt.show()\n"
   ]
  },
  {
   "cell_type": "markdown",
   "metadata": {},
   "source": [
    "## Modelling using k-fold technique"
   ]
  },
  {
   "cell_type": "code",
   "execution_count": 12,
   "metadata": {},
   "outputs": [
    {
     "name": "stdout",
     "output_type": "stream",
     "text": [
      "Linear Regression (k-fold CV):\n",
      "RMSE: 0.84, R²: 0.65\n",
      "Decision Trees (k-fold CV):\n",
      "RMSE: 1.04, R²: 0.78\n",
      "Lasso Regression (k-fold CV):\n",
      "RMSE: 1.40, R²: 0.00\n",
      "Decision Tree Regression (k-fold CV):\n",
      "RMSE: 1.04, R²: 0.78\n"
     ]
    }
   ],
   "source": [
    "from sklearn.model_selection import KFold, cross_val_score\n",
    "from sklearn.metrics import r2_score\n",
    "\n",
    "# Cross-validation using k-fold technique\n",
    "kf = KFold(n_splits=5, random_state=1, shuffle=True)\n",
    "\n",
    "# Linear Regression\n",
    "lr_scores = cross_val_score(lr, X, y.values.ravel(), cv=kf, scoring='neg_mean_squared_error')\n",
    "lr_rmse_cv = np.sqrt(-lr_scores.mean())\n",
    "lr_r2_cv = r2_score(y.values.ravel(), lr.predict(X))\n",
    "print(\"Linear Regression (k-fold CV):\")\n",
    "print(f\"RMSE: {lr_rmse_cv:.2f}, R²: {lr_r2_cv:.2f}\")\n",
    "\n",
    "# Decision Trees\n",
    "dt_scores = cross_val_score(dt, X, y.values.ravel(), cv=kf, scoring='neg_mean_squared_error')\n",
    "dt_rmse_cv = np.sqrt(-dt_scores.mean())\n",
    "dt_r2_cv = r2_score(y.values.ravel(), dt.predict(X))\n",
    "print(\"Decision Trees (k-fold CV):\")\n",
    "print(f\"RMSE: {dt_rmse_cv:.2f}, R²: {dt_r2_cv:.2f}\")\n",
    "\n",
    "# Lasso Regression\n",
    "lasso_scores = cross_val_score(lasso, X, y.values.ravel(), cv=kf, scoring='neg_mean_squared_error')\n",
    "lasso_rmse_cv = np.sqrt(-lasso_scores.mean())\n",
    "lasso_r2_cv = r2_score(y.values.ravel(), lasso.predict(X))\n",
    "print(\"Lasso Regression (k-fold CV):\")\n",
    "print(f\"RMSE: {lasso_rmse_cv:.2f}, R²: {lasso_r2_cv:.2f}\")\n",
    "\n",
    "# Decision Tree Regression\n",
    "dt_regression_scores = cross_val_score(dt_regression, X, y.values.ravel(), cv=kf, scoring='neg_mean_squared_error')\n",
    "dt_regression_rmse_cv = np.sqrt(-dt_regression_scores.mean())\n",
    "dt_regression_r2_cv = r2_score(y.values.ravel(), dt_regression.predict(X))\n",
    "print(\"Decision Tree Regression (k-fold CV):\")\n",
    "print(f\"RMSE: {dt_regression_rmse_cv:.2f}, R²: {dt_regression_r2_cv:.2f}\")"
   ]
  },
  {
   "cell_type": "markdown",
   "metadata": {},
   "source": [
    "### Optimizing the Decision Tree Regressor"
   ]
  },
  {
   "cell_type": "code",
   "execution_count": 13,
   "metadata": {},
   "outputs": [
    {
     "name": "stdout",
     "output_type": "stream",
     "text": [
      "Optimal Decision Tree Model:\n",
      "Best Hyperparameters: {'max_depth': 5, 'min_samples_leaf': 2, 'min_samples_split': 5}\n",
      "RMSE: 0.91\n",
      "R²: 0.56\n",
      "Train RMSE: 0.79, Train R²: 0.69\n"
     ]
    }
   ],
   "source": [
    "from sklearn.model_selection import train_test_split, GridSearchCV\n",
    "from sklearn.tree import DecisionTreeRegressor\n",
    "from sklearn.metrics import mean_squared_error, r2_score\n",
    "\n",
    "# Step 1: Split Data\n",
    "X_train, X_test, y_train, y_test = train_test_split(X, y, test_size=0.4, random_state=1)\n",
    "\n",
    "# Step 2: Hyperparameter Tuning\n",
    "param_grid = {\n",
    "    'max_depth': [None, 5, 10, 15],\n",
    "    'min_samples_split': [2, 5, 10],\n",
    "    'min_samples_leaf': [1, 2, 4]\n",
    "}\n",
    "\n",
    "grid_search = GridSearchCV(DecisionTreeRegressor(random_state=1), param_grid, cv=5, scoring='neg_mean_squared_error')\n",
    "grid_search.fit(X_train, y_train)\n",
    "\n",
    "best_params = grid_search.best_params_\n",
    "\n",
    "# Step 3: Fit and Evaluate\n",
    "best_dt = grid_search.best_estimator_\n",
    "y_pred = best_dt.predict(X_test)\n",
    "rmse = np.sqrt(mean_squared_error(y_test, y_pred))\n",
    "r2 = r2_score(y_test, y_pred)\n",
    "\n",
    "print(\"Optimal Decision Tree Model:\")\n",
    "print(f\"Best Hyperparameters: {best_params}\")\n",
    "print(f\"RMSE: {rmse:.2f}\")\n",
    "print(f\"R²: {r2:.2f}\")\n",
    "\n",
    "# Step 4: Check for Overfitting\n",
    "train_rmse = np.sqrt(mean_squared_error(y_train, best_dt.predict(X_train)))\n",
    "train_r2 = r2_score(y_train, best_dt.predict(X_train))\n",
    "print(f\"Train RMSE: {train_rmse:.2f}, Train R²: {train_r2:.2f}\")"
   ]
  },
  {
   "cell_type": "code",
   "execution_count": 14,
   "metadata": {},
   "outputs": [
    {
     "data": {
      "application/vnd.plotly.v1+json": {
       "config": {
        "plotlyServerURL": "https://plot.ly"
       },
       "data": [
        {
         "alignmentgroup": "True",
         "hovertemplate": "Feature Importance=%{x}<br>Feature=%{y}<br>text=%{text}<extra></extra>",
         "legendgroup": "",
         "marker": {
          "color": "#636efa",
          "pattern": {
           "shape": ""
          }
         },
         "name": "",
         "offsetgroup": "",
         "orientation": "h",
         "showlegend": false,
         "text": [
          0.4263418084304685,
          0.17569146780869493,
          0.14990222183296828,
          0.13634626161223326,
          0.03605134341715784,
          0.014958082841336475,
          0.012366145527956056,
          0.01118709490239511,
          0.008888887995001815,
          0.008816808806993573
         ],
         "textposition": "outside",
         "texttemplate": "%{text:.2f}",
         "type": "bar",
         "x": [
          0.4263418084304685,
          0.17569146780869493,
          0.14990222183296828,
          0.13634626161223326,
          0.03605134341715784,
          0.014958082841336475,
          0.012366145527956056,
          0.01118709490239511,
          0.008888887995001815,
          0.008816808806993573
         ],
         "xaxis": "x",
         "y": [
          "TOTDIST_CARRIES",
          "PLUS_PER__MINUS__TEAM.SUCCESS",
          "AGE",
          "LEAGUE_COUNTRY_England",
          "MIN_PLAYING",
          "FLD",
          "ATT PEN_TOUCHES",
          "LEAGUE_COUNTRY_France",
          "ATT_TAKE",
          "UNSUB_SUBS"
         ],
         "yaxis": "y"
        }
       ],
       "layout": {
        "barmode": "relative",
        "legend": {
         "tracegroupgap": 0
        },
        "showlegend": false,
        "template": {
         "data": {
          "bar": [
           {
            "error_x": {
             "color": "#2a3f5f"
            },
            "error_y": {
             "color": "#2a3f5f"
            },
            "marker": {
             "line": {
              "color": "#E5ECF6",
              "width": 0.5
             },
             "pattern": {
              "fillmode": "overlay",
              "size": 10,
              "solidity": 0.2
             }
            },
            "type": "bar"
           }
          ],
          "barpolar": [
           {
            "marker": {
             "line": {
              "color": "#E5ECF6",
              "width": 0.5
             },
             "pattern": {
              "fillmode": "overlay",
              "size": 10,
              "solidity": 0.2
             }
            },
            "type": "barpolar"
           }
          ],
          "carpet": [
           {
            "aaxis": {
             "endlinecolor": "#2a3f5f",
             "gridcolor": "white",
             "linecolor": "white",
             "minorgridcolor": "white",
             "startlinecolor": "#2a3f5f"
            },
            "baxis": {
             "endlinecolor": "#2a3f5f",
             "gridcolor": "white",
             "linecolor": "white",
             "minorgridcolor": "white",
             "startlinecolor": "#2a3f5f"
            },
            "type": "carpet"
           }
          ],
          "choropleth": [
           {
            "colorbar": {
             "outlinewidth": 0,
             "ticks": ""
            },
            "type": "choropleth"
           }
          ],
          "contour": [
           {
            "colorbar": {
             "outlinewidth": 0,
             "ticks": ""
            },
            "colorscale": [
             [
              0,
              "#0d0887"
             ],
             [
              0.1111111111111111,
              "#46039f"
             ],
             [
              0.2222222222222222,
              "#7201a8"
             ],
             [
              0.3333333333333333,
              "#9c179e"
             ],
             [
              0.4444444444444444,
              "#bd3786"
             ],
             [
              0.5555555555555556,
              "#d8576b"
             ],
             [
              0.6666666666666666,
              "#ed7953"
             ],
             [
              0.7777777777777778,
              "#fb9f3a"
             ],
             [
              0.8888888888888888,
              "#fdca26"
             ],
             [
              1,
              "#f0f921"
             ]
            ],
            "type": "contour"
           }
          ],
          "contourcarpet": [
           {
            "colorbar": {
             "outlinewidth": 0,
             "ticks": ""
            },
            "type": "contourcarpet"
           }
          ],
          "heatmap": [
           {
            "colorbar": {
             "outlinewidth": 0,
             "ticks": ""
            },
            "colorscale": [
             [
              0,
              "#0d0887"
             ],
             [
              0.1111111111111111,
              "#46039f"
             ],
             [
              0.2222222222222222,
              "#7201a8"
             ],
             [
              0.3333333333333333,
              "#9c179e"
             ],
             [
              0.4444444444444444,
              "#bd3786"
             ],
             [
              0.5555555555555556,
              "#d8576b"
             ],
             [
              0.6666666666666666,
              "#ed7953"
             ],
             [
              0.7777777777777778,
              "#fb9f3a"
             ],
             [
              0.8888888888888888,
              "#fdca26"
             ],
             [
              1,
              "#f0f921"
             ]
            ],
            "type": "heatmap"
           }
          ],
          "heatmapgl": [
           {
            "colorbar": {
             "outlinewidth": 0,
             "ticks": ""
            },
            "colorscale": [
             [
              0,
              "#0d0887"
             ],
             [
              0.1111111111111111,
              "#46039f"
             ],
             [
              0.2222222222222222,
              "#7201a8"
             ],
             [
              0.3333333333333333,
              "#9c179e"
             ],
             [
              0.4444444444444444,
              "#bd3786"
             ],
             [
              0.5555555555555556,
              "#d8576b"
             ],
             [
              0.6666666666666666,
              "#ed7953"
             ],
             [
              0.7777777777777778,
              "#fb9f3a"
             ],
             [
              0.8888888888888888,
              "#fdca26"
             ],
             [
              1,
              "#f0f921"
             ]
            ],
            "type": "heatmapgl"
           }
          ],
          "histogram": [
           {
            "marker": {
             "pattern": {
              "fillmode": "overlay",
              "size": 10,
              "solidity": 0.2
             }
            },
            "type": "histogram"
           }
          ],
          "histogram2d": [
           {
            "colorbar": {
             "outlinewidth": 0,
             "ticks": ""
            },
            "colorscale": [
             [
              0,
              "#0d0887"
             ],
             [
              0.1111111111111111,
              "#46039f"
             ],
             [
              0.2222222222222222,
              "#7201a8"
             ],
             [
              0.3333333333333333,
              "#9c179e"
             ],
             [
              0.4444444444444444,
              "#bd3786"
             ],
             [
              0.5555555555555556,
              "#d8576b"
             ],
             [
              0.6666666666666666,
              "#ed7953"
             ],
             [
              0.7777777777777778,
              "#fb9f3a"
             ],
             [
              0.8888888888888888,
              "#fdca26"
             ],
             [
              1,
              "#f0f921"
             ]
            ],
            "type": "histogram2d"
           }
          ],
          "histogram2dcontour": [
           {
            "colorbar": {
             "outlinewidth": 0,
             "ticks": ""
            },
            "colorscale": [
             [
              0,
              "#0d0887"
             ],
             [
              0.1111111111111111,
              "#46039f"
             ],
             [
              0.2222222222222222,
              "#7201a8"
             ],
             [
              0.3333333333333333,
              "#9c179e"
             ],
             [
              0.4444444444444444,
              "#bd3786"
             ],
             [
              0.5555555555555556,
              "#d8576b"
             ],
             [
              0.6666666666666666,
              "#ed7953"
             ],
             [
              0.7777777777777778,
              "#fb9f3a"
             ],
             [
              0.8888888888888888,
              "#fdca26"
             ],
             [
              1,
              "#f0f921"
             ]
            ],
            "type": "histogram2dcontour"
           }
          ],
          "mesh3d": [
           {
            "colorbar": {
             "outlinewidth": 0,
             "ticks": ""
            },
            "type": "mesh3d"
           }
          ],
          "parcoords": [
           {
            "line": {
             "colorbar": {
              "outlinewidth": 0,
              "ticks": ""
             }
            },
            "type": "parcoords"
           }
          ],
          "pie": [
           {
            "automargin": true,
            "type": "pie"
           }
          ],
          "scatter": [
           {
            "fillpattern": {
             "fillmode": "overlay",
             "size": 10,
             "solidity": 0.2
            },
            "type": "scatter"
           }
          ],
          "scatter3d": [
           {
            "line": {
             "colorbar": {
              "outlinewidth": 0,
              "ticks": ""
             }
            },
            "marker": {
             "colorbar": {
              "outlinewidth": 0,
              "ticks": ""
             }
            },
            "type": "scatter3d"
           }
          ],
          "scattercarpet": [
           {
            "marker": {
             "colorbar": {
              "outlinewidth": 0,
              "ticks": ""
             }
            },
            "type": "scattercarpet"
           }
          ],
          "scattergeo": [
           {
            "marker": {
             "colorbar": {
              "outlinewidth": 0,
              "ticks": ""
             }
            },
            "type": "scattergeo"
           }
          ],
          "scattergl": [
           {
            "marker": {
             "colorbar": {
              "outlinewidth": 0,
              "ticks": ""
             }
            },
            "type": "scattergl"
           }
          ],
          "scattermapbox": [
           {
            "marker": {
             "colorbar": {
              "outlinewidth": 0,
              "ticks": ""
             }
            },
            "type": "scattermapbox"
           }
          ],
          "scatterpolar": [
           {
            "marker": {
             "colorbar": {
              "outlinewidth": 0,
              "ticks": ""
             }
            },
            "type": "scatterpolar"
           }
          ],
          "scatterpolargl": [
           {
            "marker": {
             "colorbar": {
              "outlinewidth": 0,
              "ticks": ""
             }
            },
            "type": "scatterpolargl"
           }
          ],
          "scatterternary": [
           {
            "marker": {
             "colorbar": {
              "outlinewidth": 0,
              "ticks": ""
             }
            },
            "type": "scatterternary"
           }
          ],
          "surface": [
           {
            "colorbar": {
             "outlinewidth": 0,
             "ticks": ""
            },
            "colorscale": [
             [
              0,
              "#0d0887"
             ],
             [
              0.1111111111111111,
              "#46039f"
             ],
             [
              0.2222222222222222,
              "#7201a8"
             ],
             [
              0.3333333333333333,
              "#9c179e"
             ],
             [
              0.4444444444444444,
              "#bd3786"
             ],
             [
              0.5555555555555556,
              "#d8576b"
             ],
             [
              0.6666666666666666,
              "#ed7953"
             ],
             [
              0.7777777777777778,
              "#fb9f3a"
             ],
             [
              0.8888888888888888,
              "#fdca26"
             ],
             [
              1,
              "#f0f921"
             ]
            ],
            "type": "surface"
           }
          ],
          "table": [
           {
            "cells": {
             "fill": {
              "color": "#EBF0F8"
             },
             "line": {
              "color": "white"
             }
            },
            "header": {
             "fill": {
              "color": "#C8D4E3"
             },
             "line": {
              "color": "white"
             }
            },
            "type": "table"
           }
          ]
         },
         "layout": {
          "annotationdefaults": {
           "arrowcolor": "#2a3f5f",
           "arrowhead": 0,
           "arrowwidth": 1
          },
          "autotypenumbers": "strict",
          "coloraxis": {
           "colorbar": {
            "outlinewidth": 0,
            "ticks": ""
           }
          },
          "colorscale": {
           "diverging": [
            [
             0,
             "#8e0152"
            ],
            [
             0.1,
             "#c51b7d"
            ],
            [
             0.2,
             "#de77ae"
            ],
            [
             0.3,
             "#f1b6da"
            ],
            [
             0.4,
             "#fde0ef"
            ],
            [
             0.5,
             "#f7f7f7"
            ],
            [
             0.6,
             "#e6f5d0"
            ],
            [
             0.7,
             "#b8e186"
            ],
            [
             0.8,
             "#7fbc41"
            ],
            [
             0.9,
             "#4d9221"
            ],
            [
             1,
             "#276419"
            ]
           ],
           "sequential": [
            [
             0,
             "#0d0887"
            ],
            [
             0.1111111111111111,
             "#46039f"
            ],
            [
             0.2222222222222222,
             "#7201a8"
            ],
            [
             0.3333333333333333,
             "#9c179e"
            ],
            [
             0.4444444444444444,
             "#bd3786"
            ],
            [
             0.5555555555555556,
             "#d8576b"
            ],
            [
             0.6666666666666666,
             "#ed7953"
            ],
            [
             0.7777777777777778,
             "#fb9f3a"
            ],
            [
             0.8888888888888888,
             "#fdca26"
            ],
            [
             1,
             "#f0f921"
            ]
           ],
           "sequentialminus": [
            [
             0,
             "#0d0887"
            ],
            [
             0.1111111111111111,
             "#46039f"
            ],
            [
             0.2222222222222222,
             "#7201a8"
            ],
            [
             0.3333333333333333,
             "#9c179e"
            ],
            [
             0.4444444444444444,
             "#bd3786"
            ],
            [
             0.5555555555555556,
             "#d8576b"
            ],
            [
             0.6666666666666666,
             "#ed7953"
            ],
            [
             0.7777777777777778,
             "#fb9f3a"
            ],
            [
             0.8888888888888888,
             "#fdca26"
            ],
            [
             1,
             "#f0f921"
            ]
           ]
          },
          "colorway": [
           "#636efa",
           "#EF553B",
           "#00cc96",
           "#ab63fa",
           "#FFA15A",
           "#19d3f3",
           "#FF6692",
           "#B6E880",
           "#FF97FF",
           "#FECB52"
          ],
          "font": {
           "color": "#2a3f5f"
          },
          "geo": {
           "bgcolor": "white",
           "lakecolor": "white",
           "landcolor": "#E5ECF6",
           "showlakes": true,
           "showland": true,
           "subunitcolor": "white"
          },
          "hoverlabel": {
           "align": "left"
          },
          "hovermode": "closest",
          "mapbox": {
           "style": "light"
          },
          "paper_bgcolor": "white",
          "plot_bgcolor": "#E5ECF6",
          "polar": {
           "angularaxis": {
            "gridcolor": "white",
            "linecolor": "white",
            "ticks": ""
           },
           "bgcolor": "#E5ECF6",
           "radialaxis": {
            "gridcolor": "white",
            "linecolor": "white",
            "ticks": ""
           }
          },
          "scene": {
           "xaxis": {
            "backgroundcolor": "#E5ECF6",
            "gridcolor": "white",
            "gridwidth": 2,
            "linecolor": "white",
            "showbackground": true,
            "ticks": "",
            "zerolinecolor": "white"
           },
           "yaxis": {
            "backgroundcolor": "#E5ECF6",
            "gridcolor": "white",
            "gridwidth": 2,
            "linecolor": "white",
            "showbackground": true,
            "ticks": "",
            "zerolinecolor": "white"
           },
           "zaxis": {
            "backgroundcolor": "#E5ECF6",
            "gridcolor": "white",
            "gridwidth": 2,
            "linecolor": "white",
            "showbackground": true,
            "ticks": "",
            "zerolinecolor": "white"
           }
          },
          "shapedefaults": {
           "line": {
            "color": "#2a3f5f"
           }
          },
          "ternary": {
           "aaxis": {
            "gridcolor": "white",
            "linecolor": "white",
            "ticks": ""
           },
           "baxis": {
            "gridcolor": "white",
            "linecolor": "white",
            "ticks": ""
           },
           "bgcolor": "#E5ECF6",
           "caxis": {
            "gridcolor": "white",
            "linecolor": "white",
            "ticks": ""
           }
          },
          "title": {
           "x": 0.05
          },
          "xaxis": {
           "automargin": true,
           "gridcolor": "white",
           "linecolor": "white",
           "ticks": "",
           "title": {
            "standoff": 15
           },
           "zerolinecolor": "white",
           "zerolinewidth": 2
          },
          "yaxis": {
           "automargin": true,
           "gridcolor": "white",
           "linecolor": "white",
           "ticks": "",
           "title": {
            "standoff": 15
           },
           "zerolinecolor": "white",
           "zerolinewidth": 2
          }
         }
        },
        "title": {
         "text": "Top 10 Feature Importance of Decision Tree Model"
        },
        "xaxis": {
         "anchor": "y",
         "domain": [
          0,
          1
         ],
         "range": [
          0,
          0.47634180843046847
         ],
         "tickformat": ".2",
         "title": {
          "text": "Feature Importance"
         }
        },
        "yaxis": {
         "anchor": "x",
         "autorange": "reversed",
         "domain": [
          0,
          1
         ],
         "title": {
          "text": "Feature"
         }
        }
       }
      }
     },
     "metadata": {},
     "output_type": "display_data"
    }
   ],
   "source": [
    "import plotly.express as px\n",
    "\n",
    "# Get feature importances from the best_dt model\n",
    "feature_importances = best_dt.feature_importances_\n",
    "\n",
    "# Get feature names\n",
    "feature_names = X.columns\n",
    "\n",
    "# Sort indices based on feature importances in descending order\n",
    "sorted_indices = feature_importances.argsort()[::-1]\n",
    "\n",
    "# Select top 10 most important features\n",
    "top_features = [feature_names[i] for i in sorted_indices[:10]]\n",
    "top_importances = feature_importances[sorted_indices][:10]\n",
    "\n",
    "# Create a Plotly bar plot for feature importance\n",
    "fig = px.bar(x=top_importances, y=top_features, orientation='h', text=top_importances,\n",
    "             labels={'x': 'Feature Importance', 'y': 'Feature'},\n",
    "             title='Top 10 Feature Importance of Decision Tree Model')\n",
    "\n",
    "# Customize the layout\n",
    "fig.update_layout(yaxis_autorange='reversed', xaxis_title='Feature Importance', yaxis_title='Feature',\n",
    "                  showlegend=False, xaxis_tickformat=\".2\", xaxis_range=[0, max(top_importances) + 0.05])\n",
    "\n",
    "# Add text labels at the end of each bar\n",
    "fig.update_traces(texttemplate='%{text:.2f}', textposition='outside')\n",
    "\n",
    "# Show the interactive Plotly plot\n",
    "fig.show()"
   ]
  },
  {
   "cell_type": "markdown",
   "metadata": {},
   "source": [
    "## Optimizing the Linear Regression Model"
   ]
  },
  {
   "cell_type": "markdown",
   "metadata": {},
   "source": [
    "### Bagging (Bootstrap Aggregating)"
   ]
  },
  {
   "cell_type": "code",
   "execution_count": 15,
   "metadata": {},
   "outputs": [
    {
     "name": "stdout",
     "output_type": "stream",
     "text": [
      "Bagging (Linear Regression) (k-fold CV):\n",
      "RMSE: 0.85\n"
     ]
    }
   ],
   "source": [
    "from sklearn.ensemble import BaggingRegressor\n",
    "\n",
    "# Create a bagging regressor using Linear Regression as the base estimator\n",
    "bagging_lr = BaggingRegressor(base_estimator=lr, n_estimators=10, random_state=1)\n",
    "\n",
    "# Perform cross-validation and calculate RMSE\n",
    "bagging_lr_scores = cross_val_score(bagging_lr, X, y.values.ravel(), cv=kf, scoring='neg_mean_squared_error')\n",
    "bagging_lr_rmse_cv = np.sqrt(-bagging_lr_scores.mean())\n",
    "\n",
    "print(\"Bagging (Linear Regression) (k-fold CV):\")\n",
    "print(f\"RMSE: {bagging_lr_rmse_cv:.2f}\")"
   ]
  },
  {
   "cell_type": "markdown",
   "metadata": {},
   "source": [
    "### Boosting"
   ]
  },
  {
   "cell_type": "code",
   "execution_count": 16,
   "metadata": {},
   "outputs": [
    {
     "name": "stdout",
     "output_type": "stream",
     "text": [
      "Gradient Boosting (k-fold CV):\n",
      "RMSE: 0.68\n"
     ]
    }
   ],
   "source": [
    "from sklearn.ensemble import GradientBoostingRegressor\n",
    "\n",
    "# Create a Gradient Boosting Regressor\n",
    "gb_regressor = GradientBoostingRegressor(n_estimators=100, learning_rate=0.1, random_state=1)\n",
    "\n",
    "# Perform cross-validation and calculate RMSE\n",
    "gb_scores = cross_val_score(gb_regressor, X, y.values.ravel(), cv=kf, scoring='neg_mean_squared_error')\n",
    "gb_rmse_cv = np.sqrt(-gb_scores.mean())\n",
    "\n",
    "print(\"Gradient Boosting (k-fold CV):\")\n",
    "print(f\"RMSE: {gb_rmse_cv:.2f}\")"
   ]
  },
  {
   "cell_type": "markdown",
   "metadata": {},
   "source": [
    "### Hyperparameter Optimization"
   ]
  },
  {
   "cell_type": "code",
   "execution_count": 17,
   "metadata": {},
   "outputs": [
    {
     "name": "stdout",
     "output_type": "stream",
     "text": [
      "Best Hyperparameters: {'learning_rate': 0.2, 'max_depth': 3, 'n_estimators': 200}\n",
      "Best RMSE: 0.6527793204881664\n",
      "Best R-squared: 0.9304604540636039\n"
     ]
    }
   ],
   "source": [
    "from sklearn.model_selection import GridSearchCV\n",
    "from sklearn.metrics import r2_score\n",
    "\n",
    "# Define hyperparameters to search over\n",
    "param_grid = {\n",
    "    'n_estimators': [50, 100, 200],\n",
    "    'learning_rate': [0.05, 0.1, 0.2],\n",
    "    'max_depth': [3],\n",
    "    # Add other hyperparameters specific to the chosen model\n",
    "}\n",
    "\n",
    "# Create a GridSearchCV object\n",
    "grid_search = GridSearchCV(GradientBoostingRegressor(random_state=1), param_grid, cv=kf, scoring='neg_mean_squared_error')\n",
    "\n",
    "# Perform the grid search\n",
    "grid_search.fit(X, y.values.ravel())\n",
    "\n",
    "# Print the best hyperparameters, RMSE, and R-squared\n",
    "best_params = grid_search.best_params_\n",
    "best_rmse = np.sqrt(-grid_search.best_score_)\n",
    "best_model = grid_search.best_estimator_\n",
    "y_pred = best_model.predict(X)\n",
    "best_r2 = r2_score(y, y_pred)\n",
    "\n",
    "print(\"Best Hyperparameters:\", best_params)\n",
    "print(\"Best RMSE:\", best_rmse)\n",
    "print(\"Best R-squared:\", best_r2)"
   ]
  },
  {
   "cell_type": "code",
   "execution_count": 18,
   "metadata": {},
   "outputs": [
    {
     "name": "stdout",
     "output_type": "stream",
     "text": [
      "Top 10 Most Important Features:\n",
      "TOTDIST_CARRIES: 0.1874\n",
      "AGE: 0.1426\n",
      "ATT PEN_TOUCHES: 0.1323\n",
      "PLUS_PER__MINUS__TEAM.SUCCESS: 0.1318\n",
      "LEAGUE_COUNTRY_England: 0.0964\n",
      "MIN_PLAYING: 0.0590\n",
      "ATT 3RD_TOUCHES: 0.0442\n",
      "CLUB_NAME: 0.0426\n",
      "TOTDIST_TOTAL: 0.0317\n",
      "LEAGUE_COUNTRY_France: 0.0186\n"
     ]
    }
   ],
   "source": [
    "# Use the best hyperparameters from the grid search\n",
    "best_params = {'learning_rate': 0.2, 'max_depth': 3, 'n_estimators': 200}\n",
    "\n",
    "# Create the Gradient Boosting Regressor with the best hyperparameters\n",
    "best_gb_regressor = GradientBoostingRegressor(**best_params, random_state=1)\n",
    "\n",
    "# Train the model on the entire dataset\n",
    "best_gb_regressor.fit(X, y.values.ravel())\n",
    "\n",
    "# Get feature importances\n",
    "feature_importances = best_gb_regressor.feature_importances_\n",
    "\n",
    "# Create a list of (feature_name, importance) tuples\n",
    "feature_importance_list = [(feature_name, importance) for feature_name, importance in zip(X.columns, feature_importances)]\n",
    "\n",
    "# Sort the list by importance (descending)\n",
    "feature_importance_list = sorted(feature_importance_list, key=lambda x: x[1], reverse=True)\n",
    "\n",
    "# Print the top 10 most important features\n",
    "print(\"Top 10 Most Important Features:\")\n",
    "for feature_name, importance in feature_importance_list[:10]:\n",
    "    print(f\"{feature_name}: {importance:.4f}\")"
   ]
  },
  {
   "cell_type": "code",
   "execution_count": 19,
   "metadata": {},
   "outputs": [
    {
     "data": {
      "application/vnd.plotly.v1+json": {
       "config": {
        "plotlyServerURL": "https://plot.ly"
       },
       "data": [
        {
         "alignmentgroup": "True",
         "hovertemplate": "Feature Importance=%{x}<br>Feature=%{y}<br>text=%{text}<extra></extra>",
         "legendgroup": "",
         "marker": {
          "color": "#636efa",
          "pattern": {
           "shape": ""
          }
         },
         "name": "",
         "offsetgroup": "",
         "orientation": "h",
         "showlegend": false,
         "text": [
          0.18739098368063933,
          0.14256430742778198,
          0.13232191601752955,
          0.1317706293216104,
          0.0963724966896702,
          0.05895016520155801,
          0.04419159634098128,
          0.04263717681751976,
          0.03172551618714402,
          0.018608866287320034
         ],
         "textposition": "outside",
         "texttemplate": "%{text:.2f}",
         "type": "bar",
         "x": [
          0.18739098368063933,
          0.14256430742778198,
          0.13232191601752955,
          0.1317706293216104,
          0.0963724966896702,
          0.05895016520155801,
          0.04419159634098128,
          0.04263717681751976,
          0.03172551618714402,
          0.018608866287320034
         ],
         "xaxis": "x",
         "y": [
          "TOTDIST_CARRIES",
          "AGE",
          "ATT PEN_TOUCHES",
          "PLUS_PER__MINUS__TEAM.SUCCESS",
          "LEAGUE_COUNTRY_England",
          "MIN_PLAYING",
          "ATT 3RD_TOUCHES",
          "CLUB_NAME",
          "TOTDIST_TOTAL",
          "LEAGUE_COUNTRY_France"
         ],
         "yaxis": "y"
        }
       ],
       "layout": {
        "barmode": "relative",
        "legend": {
         "tracegroupgap": 0
        },
        "showlegend": false,
        "template": {
         "data": {
          "bar": [
           {
            "error_x": {
             "color": "#2a3f5f"
            },
            "error_y": {
             "color": "#2a3f5f"
            },
            "marker": {
             "line": {
              "color": "#E5ECF6",
              "width": 0.5
             },
             "pattern": {
              "fillmode": "overlay",
              "size": 10,
              "solidity": 0.2
             }
            },
            "type": "bar"
           }
          ],
          "barpolar": [
           {
            "marker": {
             "line": {
              "color": "#E5ECF6",
              "width": 0.5
             },
             "pattern": {
              "fillmode": "overlay",
              "size": 10,
              "solidity": 0.2
             }
            },
            "type": "barpolar"
           }
          ],
          "carpet": [
           {
            "aaxis": {
             "endlinecolor": "#2a3f5f",
             "gridcolor": "white",
             "linecolor": "white",
             "minorgridcolor": "white",
             "startlinecolor": "#2a3f5f"
            },
            "baxis": {
             "endlinecolor": "#2a3f5f",
             "gridcolor": "white",
             "linecolor": "white",
             "minorgridcolor": "white",
             "startlinecolor": "#2a3f5f"
            },
            "type": "carpet"
           }
          ],
          "choropleth": [
           {
            "colorbar": {
             "outlinewidth": 0,
             "ticks": ""
            },
            "type": "choropleth"
           }
          ],
          "contour": [
           {
            "colorbar": {
             "outlinewidth": 0,
             "ticks": ""
            },
            "colorscale": [
             [
              0,
              "#0d0887"
             ],
             [
              0.1111111111111111,
              "#46039f"
             ],
             [
              0.2222222222222222,
              "#7201a8"
             ],
             [
              0.3333333333333333,
              "#9c179e"
             ],
             [
              0.4444444444444444,
              "#bd3786"
             ],
             [
              0.5555555555555556,
              "#d8576b"
             ],
             [
              0.6666666666666666,
              "#ed7953"
             ],
             [
              0.7777777777777778,
              "#fb9f3a"
             ],
             [
              0.8888888888888888,
              "#fdca26"
             ],
             [
              1,
              "#f0f921"
             ]
            ],
            "type": "contour"
           }
          ],
          "contourcarpet": [
           {
            "colorbar": {
             "outlinewidth": 0,
             "ticks": ""
            },
            "type": "contourcarpet"
           }
          ],
          "heatmap": [
           {
            "colorbar": {
             "outlinewidth": 0,
             "ticks": ""
            },
            "colorscale": [
             [
              0,
              "#0d0887"
             ],
             [
              0.1111111111111111,
              "#46039f"
             ],
             [
              0.2222222222222222,
              "#7201a8"
             ],
             [
              0.3333333333333333,
              "#9c179e"
             ],
             [
              0.4444444444444444,
              "#bd3786"
             ],
             [
              0.5555555555555556,
              "#d8576b"
             ],
             [
              0.6666666666666666,
              "#ed7953"
             ],
             [
              0.7777777777777778,
              "#fb9f3a"
             ],
             [
              0.8888888888888888,
              "#fdca26"
             ],
             [
              1,
              "#f0f921"
             ]
            ],
            "type": "heatmap"
           }
          ],
          "heatmapgl": [
           {
            "colorbar": {
             "outlinewidth": 0,
             "ticks": ""
            },
            "colorscale": [
             [
              0,
              "#0d0887"
             ],
             [
              0.1111111111111111,
              "#46039f"
             ],
             [
              0.2222222222222222,
              "#7201a8"
             ],
             [
              0.3333333333333333,
              "#9c179e"
             ],
             [
              0.4444444444444444,
              "#bd3786"
             ],
             [
              0.5555555555555556,
              "#d8576b"
             ],
             [
              0.6666666666666666,
              "#ed7953"
             ],
             [
              0.7777777777777778,
              "#fb9f3a"
             ],
             [
              0.8888888888888888,
              "#fdca26"
             ],
             [
              1,
              "#f0f921"
             ]
            ],
            "type": "heatmapgl"
           }
          ],
          "histogram": [
           {
            "marker": {
             "pattern": {
              "fillmode": "overlay",
              "size": 10,
              "solidity": 0.2
             }
            },
            "type": "histogram"
           }
          ],
          "histogram2d": [
           {
            "colorbar": {
             "outlinewidth": 0,
             "ticks": ""
            },
            "colorscale": [
             [
              0,
              "#0d0887"
             ],
             [
              0.1111111111111111,
              "#46039f"
             ],
             [
              0.2222222222222222,
              "#7201a8"
             ],
             [
              0.3333333333333333,
              "#9c179e"
             ],
             [
              0.4444444444444444,
              "#bd3786"
             ],
             [
              0.5555555555555556,
              "#d8576b"
             ],
             [
              0.6666666666666666,
              "#ed7953"
             ],
             [
              0.7777777777777778,
              "#fb9f3a"
             ],
             [
              0.8888888888888888,
              "#fdca26"
             ],
             [
              1,
              "#f0f921"
             ]
            ],
            "type": "histogram2d"
           }
          ],
          "histogram2dcontour": [
           {
            "colorbar": {
             "outlinewidth": 0,
             "ticks": ""
            },
            "colorscale": [
             [
              0,
              "#0d0887"
             ],
             [
              0.1111111111111111,
              "#46039f"
             ],
             [
              0.2222222222222222,
              "#7201a8"
             ],
             [
              0.3333333333333333,
              "#9c179e"
             ],
             [
              0.4444444444444444,
              "#bd3786"
             ],
             [
              0.5555555555555556,
              "#d8576b"
             ],
             [
              0.6666666666666666,
              "#ed7953"
             ],
             [
              0.7777777777777778,
              "#fb9f3a"
             ],
             [
              0.8888888888888888,
              "#fdca26"
             ],
             [
              1,
              "#f0f921"
             ]
            ],
            "type": "histogram2dcontour"
           }
          ],
          "mesh3d": [
           {
            "colorbar": {
             "outlinewidth": 0,
             "ticks": ""
            },
            "type": "mesh3d"
           }
          ],
          "parcoords": [
           {
            "line": {
             "colorbar": {
              "outlinewidth": 0,
              "ticks": ""
             }
            },
            "type": "parcoords"
           }
          ],
          "pie": [
           {
            "automargin": true,
            "type": "pie"
           }
          ],
          "scatter": [
           {
            "fillpattern": {
             "fillmode": "overlay",
             "size": 10,
             "solidity": 0.2
            },
            "type": "scatter"
           }
          ],
          "scatter3d": [
           {
            "line": {
             "colorbar": {
              "outlinewidth": 0,
              "ticks": ""
             }
            },
            "marker": {
             "colorbar": {
              "outlinewidth": 0,
              "ticks": ""
             }
            },
            "type": "scatter3d"
           }
          ],
          "scattercarpet": [
           {
            "marker": {
             "colorbar": {
              "outlinewidth": 0,
              "ticks": ""
             }
            },
            "type": "scattercarpet"
           }
          ],
          "scattergeo": [
           {
            "marker": {
             "colorbar": {
              "outlinewidth": 0,
              "ticks": ""
             }
            },
            "type": "scattergeo"
           }
          ],
          "scattergl": [
           {
            "marker": {
             "colorbar": {
              "outlinewidth": 0,
              "ticks": ""
             }
            },
            "type": "scattergl"
           }
          ],
          "scattermapbox": [
           {
            "marker": {
             "colorbar": {
              "outlinewidth": 0,
              "ticks": ""
             }
            },
            "type": "scattermapbox"
           }
          ],
          "scatterpolar": [
           {
            "marker": {
             "colorbar": {
              "outlinewidth": 0,
              "ticks": ""
             }
            },
            "type": "scatterpolar"
           }
          ],
          "scatterpolargl": [
           {
            "marker": {
             "colorbar": {
              "outlinewidth": 0,
              "ticks": ""
             }
            },
            "type": "scatterpolargl"
           }
          ],
          "scatterternary": [
           {
            "marker": {
             "colorbar": {
              "outlinewidth": 0,
              "ticks": ""
             }
            },
            "type": "scatterternary"
           }
          ],
          "surface": [
           {
            "colorbar": {
             "outlinewidth": 0,
             "ticks": ""
            },
            "colorscale": [
             [
              0,
              "#0d0887"
             ],
             [
              0.1111111111111111,
              "#46039f"
             ],
             [
              0.2222222222222222,
              "#7201a8"
             ],
             [
              0.3333333333333333,
              "#9c179e"
             ],
             [
              0.4444444444444444,
              "#bd3786"
             ],
             [
              0.5555555555555556,
              "#d8576b"
             ],
             [
              0.6666666666666666,
              "#ed7953"
             ],
             [
              0.7777777777777778,
              "#fb9f3a"
             ],
             [
              0.8888888888888888,
              "#fdca26"
             ],
             [
              1,
              "#f0f921"
             ]
            ],
            "type": "surface"
           }
          ],
          "table": [
           {
            "cells": {
             "fill": {
              "color": "#EBF0F8"
             },
             "line": {
              "color": "white"
             }
            },
            "header": {
             "fill": {
              "color": "#C8D4E3"
             },
             "line": {
              "color": "white"
             }
            },
            "type": "table"
           }
          ]
         },
         "layout": {
          "annotationdefaults": {
           "arrowcolor": "#2a3f5f",
           "arrowhead": 0,
           "arrowwidth": 1
          },
          "autotypenumbers": "strict",
          "coloraxis": {
           "colorbar": {
            "outlinewidth": 0,
            "ticks": ""
           }
          },
          "colorscale": {
           "diverging": [
            [
             0,
             "#8e0152"
            ],
            [
             0.1,
             "#c51b7d"
            ],
            [
             0.2,
             "#de77ae"
            ],
            [
             0.3,
             "#f1b6da"
            ],
            [
             0.4,
             "#fde0ef"
            ],
            [
             0.5,
             "#f7f7f7"
            ],
            [
             0.6,
             "#e6f5d0"
            ],
            [
             0.7,
             "#b8e186"
            ],
            [
             0.8,
             "#7fbc41"
            ],
            [
             0.9,
             "#4d9221"
            ],
            [
             1,
             "#276419"
            ]
           ],
           "sequential": [
            [
             0,
             "#0d0887"
            ],
            [
             0.1111111111111111,
             "#46039f"
            ],
            [
             0.2222222222222222,
             "#7201a8"
            ],
            [
             0.3333333333333333,
             "#9c179e"
            ],
            [
             0.4444444444444444,
             "#bd3786"
            ],
            [
             0.5555555555555556,
             "#d8576b"
            ],
            [
             0.6666666666666666,
             "#ed7953"
            ],
            [
             0.7777777777777778,
             "#fb9f3a"
            ],
            [
             0.8888888888888888,
             "#fdca26"
            ],
            [
             1,
             "#f0f921"
            ]
           ],
           "sequentialminus": [
            [
             0,
             "#0d0887"
            ],
            [
             0.1111111111111111,
             "#46039f"
            ],
            [
             0.2222222222222222,
             "#7201a8"
            ],
            [
             0.3333333333333333,
             "#9c179e"
            ],
            [
             0.4444444444444444,
             "#bd3786"
            ],
            [
             0.5555555555555556,
             "#d8576b"
            ],
            [
             0.6666666666666666,
             "#ed7953"
            ],
            [
             0.7777777777777778,
             "#fb9f3a"
            ],
            [
             0.8888888888888888,
             "#fdca26"
            ],
            [
             1,
             "#f0f921"
            ]
           ]
          },
          "colorway": [
           "#636efa",
           "#EF553B",
           "#00cc96",
           "#ab63fa",
           "#FFA15A",
           "#19d3f3",
           "#FF6692",
           "#B6E880",
           "#FF97FF",
           "#FECB52"
          ],
          "font": {
           "color": "#2a3f5f"
          },
          "geo": {
           "bgcolor": "white",
           "lakecolor": "white",
           "landcolor": "#E5ECF6",
           "showlakes": true,
           "showland": true,
           "subunitcolor": "white"
          },
          "hoverlabel": {
           "align": "left"
          },
          "hovermode": "closest",
          "mapbox": {
           "style": "light"
          },
          "paper_bgcolor": "white",
          "plot_bgcolor": "#E5ECF6",
          "polar": {
           "angularaxis": {
            "gridcolor": "white",
            "linecolor": "white",
            "ticks": ""
           },
           "bgcolor": "#E5ECF6",
           "radialaxis": {
            "gridcolor": "white",
            "linecolor": "white",
            "ticks": ""
           }
          },
          "scene": {
           "xaxis": {
            "backgroundcolor": "#E5ECF6",
            "gridcolor": "white",
            "gridwidth": 2,
            "linecolor": "white",
            "showbackground": true,
            "ticks": "",
            "zerolinecolor": "white"
           },
           "yaxis": {
            "backgroundcolor": "#E5ECF6",
            "gridcolor": "white",
            "gridwidth": 2,
            "linecolor": "white",
            "showbackground": true,
            "ticks": "",
            "zerolinecolor": "white"
           },
           "zaxis": {
            "backgroundcolor": "#E5ECF6",
            "gridcolor": "white",
            "gridwidth": 2,
            "linecolor": "white",
            "showbackground": true,
            "ticks": "",
            "zerolinecolor": "white"
           }
          },
          "shapedefaults": {
           "line": {
            "color": "#2a3f5f"
           }
          },
          "ternary": {
           "aaxis": {
            "gridcolor": "white",
            "linecolor": "white",
            "ticks": ""
           },
           "baxis": {
            "gridcolor": "white",
            "linecolor": "white",
            "ticks": ""
           },
           "bgcolor": "#E5ECF6",
           "caxis": {
            "gridcolor": "white",
            "linecolor": "white",
            "ticks": ""
           }
          },
          "title": {
           "x": 0.05
          },
          "xaxis": {
           "automargin": true,
           "gridcolor": "white",
           "linecolor": "white",
           "ticks": "",
           "title": {
            "standoff": 15
           },
           "zerolinecolor": "white",
           "zerolinewidth": 2
          },
          "yaxis": {
           "automargin": true,
           "gridcolor": "white",
           "linecolor": "white",
           "ticks": "",
           "title": {
            "standoff": 15
           },
           "zerolinecolor": "white",
           "zerolinewidth": 2
          }
         }
        },
        "title": {
         "text": "Top 10 Feature Importance of Gradient Boosting Regressor Model"
        },
        "xaxis": {
         "anchor": "y",
         "domain": [
          0,
          1
         ],
         "range": [
          0,
          0.23739098368063932
         ],
         "tickformat": ".2",
         "title": {
          "text": "Feature Importance"
         }
        },
        "yaxis": {
         "anchor": "x",
         "autorange": "reversed",
         "domain": [
          0,
          1
         ],
         "title": {
          "text": "Feature"
         }
        }
       }
      }
     },
     "metadata": {},
     "output_type": "display_data"
    }
   ],
   "source": [
    "import plotly.express as px\n",
    "\n",
    "# Get feature importances from the best_gb_regressor model\n",
    "feature_importances = best_gb_regressor.feature_importances_\n",
    "\n",
    "# Get feature names\n",
    "feature_names = X.columns\n",
    "\n",
    "# Sort indices based on feature importances in descending order\n",
    "sorted_indices = feature_importances.argsort()[::-1]\n",
    "\n",
    "# Select top 10 most important features\n",
    "top_features = [feature_names[i] for i in sorted_indices[:10]]\n",
    "top_importances = feature_importances[sorted_indices][:10]\n",
    "\n",
    "# Create a Plotly bar plot for feature importance\n",
    "fig = px.bar(x=top_importances, y=top_features, orientation='h', text=top_importances,\n",
    "             labels={'x': 'Feature Importance', 'y': 'Feature'},\n",
    "             title='Top 10 Feature Importance of Gradient Boosting Regressor Model')\n",
    "\n",
    "# Customize the layout\n",
    "fig.update_layout(yaxis_autorange='reversed', xaxis_title='Feature Importance', yaxis_title='Feature',\n",
    "                  showlegend=False, xaxis_tickformat=\".2\", xaxis_range=[0, max(top_importances) + 0.05])\n",
    "\n",
    "# Add text labels at the end of each bar\n",
    "fig.update_traces(texttemplate='%{text:.2f}', textposition='outside')\n",
    "\n",
    "# Show the interactive Plotly plot\n",
    "fig.show()"
   ]
  },
  {
   "cell_type": "code",
   "execution_count": 20,
   "metadata": {},
   "outputs": [
    {
     "name": "stdout",
     "output_type": "stream",
     "text": [
      "Average R-squared on Validation Sets: 0.782943751767603\n",
      "Average RMSE on Validation Sets: 0.6525208911742464\n",
      "R-squared on Training Set: 0.9304604540636039\n",
      "RMSE on Training Set: 0.3700564665303097\n",
      "The model may be overfitting but has lower RMSE.\n"
     ]
    }
   ],
   "source": [
    "from sklearn.model_selection import cross_val_score\n",
    "from sklearn.metrics import mean_squared_error\n",
    "\n",
    "# Perform cross-validation using k-fold technique\n",
    "kf = KFold(n_splits=5, random_state=1, shuffle=True)\n",
    "\n",
    "# Calculate R-squared and RMSE for the entire dataset\n",
    "r2_scores = cross_val_score(best_gb_regressor, X, y.values.ravel(), cv=kf, scoring='r2')\n",
    "average_r2 = r2_scores.mean()\n",
    "\n",
    "rmse_scores = np.sqrt(-cross_val_score(best_gb_regressor, X, y.values.ravel(), cv=kf, scoring='neg_mean_squared_error'))\n",
    "average_rmse = rmse_scores.mean()\n",
    "\n",
    "print(\"Average R-squared on Validation Sets:\", average_r2)\n",
    "print(\"Average RMSE on Validation Sets:\", average_rmse)\n",
    "\n",
    "# Calculate R-squared and RMSE for the training set\n",
    "best_gb_regressor.fit(X, y.values.ravel())\n",
    "y_pred_train = best_gb_regressor.predict(X)\n",
    "r2_train = r2_score(y, y_pred_train)\n",
    "rmse_train = np.sqrt(mean_squared_error(y, y_pred_train))\n",
    "\n",
    "print(\"R-squared on Training Set:\", r2_train)\n",
    "print(\"RMSE on Training Set:\", rmse_train)\n",
    "\n",
    "# Compare R-squared and RMSE values to detect overfitting\n",
    "if r2_train > average_r2 and rmse_train < average_rmse:\n",
    "    print(\"The model may be overfitting but has lower RMSE.\")\n",
    "else:\n",
    "    print(\"The model appears to be performing reasonably.\")"
   ]
  },
  {
   "cell_type": "code",
   "execution_count": 21,
   "metadata": {},
   "outputs": [
    {
     "name": "stdout",
     "output_type": "stream",
     "text": [
      "Training RMSE: 0.83\n",
      "Training R2: 0.66\n",
      "Test RMSE: 0.83\n",
      "Test R2: 0.64\n"
     ]
    }
   ],
   "source": [
    "import numpy as np\n",
    "from sklearn.model_selection import train_test_split, cross_val_score\n",
    "from sklearn.linear_model import Ridge\n",
    "from sklearn.metrics import mean_squared_error, r2_score\n",
    "\n",
    "# Assuming you have your features X and output variable y\n",
    "\n",
    "# Splitting the data into train and test sets\n",
    "X_train, X_test, y_train, y_test = train_test_split(X, y, test_size=0.4, random_state=1)\n",
    "\n",
    "# Creating a Ridge Regressor\n",
    "ridge = Ridge()\n",
    "\n",
    "# Fitting the model on the training data\n",
    "ridge.fit(X_train, y_train)\n",
    "\n",
    "# Predicting on the training data\n",
    "y_train_pred = ridge.predict(X_train)\n",
    "\n",
    "# Predicting on the test data\n",
    "y_test_pred = ridge.predict(X_test)\n",
    "\n",
    "# Calculating RMSE and R2 for the training data\n",
    "rmse_train = np.sqrt(mean_squared_error(y_train, y_train_pred))\n",
    "r2_train = r2_score(y_train, y_train_pred)\n",
    "\n",
    "# Calculating RMSE and R2 for the test data\n",
    "rmse_test = np.sqrt(mean_squared_error(y_test, y_test_pred))\n",
    "r2_test = r2_score(y_test, y_test_pred)\n",
    "\n",
    "print(f\"Training RMSE: {rmse_train:.2f}\")\n",
    "print(f\"Training R2: {r2_train:.2f}\")\n",
    "print(f\"Test RMSE: {rmse_test:.2f}\")\n",
    "print(f\"Test R2: {r2_test:.2f}\")"
   ]
  },
  {
   "cell_type": "code",
   "execution_count": 22,
   "metadata": {},
   "outputs": [],
   "source": [
    "coef_dict_ridge = {}\n",
    "for coef, feat in zip(ridge.coef_[0,:],X.columns):\n",
    "    coef_dict_ridge[feat] = coef"
   ]
  },
  {
   "cell_type": "code",
   "execution_count": 28,
   "metadata": {},
   "outputs": [
    {
     "data": {
      "application/vnd.plotly.v1+json": {
       "config": {
        "plotlyServerURL": "https://plot.ly"
       },
       "data": [
        {
         "alignmentgroup": "True",
         "hovertemplate": "Coefficient=%{x}<br>index=%{y}<extra></extra>",
         "legendgroup": "",
         "marker": {
          "color": "#636efa",
          "pattern": {
           "shape": ""
          }
         },
         "name": "",
         "offsetgroup": "",
         "orientation": "h",
         "showlegend": false,
         "textposition": "auto",
         "type": "bar",
         "x": [
          2.1910158079833466,
          -1.6909507079919006,
          1.142562876992368,
          0.962916041010838,
          0.8183118029890644,
          0.7953268338056759,
          0.6644475870727506,
          -0.6152613414643372,
          -0.5140217559013459,
          0.34502669543712516
         ],
         "xaxis": "x",
         "y": [
          "PLUS_PER__MINUS__TEAM.SUCCESS",
          "AGE",
          "MIN_PLAYING",
          "TOTDIST_CARRIES",
          "LEAGUE_COUNTRY_England",
          "SUBS_SUBS",
          "ATT 3RD_TOUCHES",
          "LEAGUE_COUNTRY_France",
          "POSITION_midfield - Left Midfield",
          "ATT PEN_TOUCHES"
         ],
         "yaxis": "y"
        }
       ],
       "layout": {
        "barmode": "relative",
        "legend": {
         "tracegroupgap": 0
        },
        "template": {
         "data": {
          "bar": [
           {
            "error_x": {
             "color": "#2a3f5f"
            },
            "error_y": {
             "color": "#2a3f5f"
            },
            "marker": {
             "line": {
              "color": "#E5ECF6",
              "width": 0.5
             },
             "pattern": {
              "fillmode": "overlay",
              "size": 10,
              "solidity": 0.2
             }
            },
            "type": "bar"
           }
          ],
          "barpolar": [
           {
            "marker": {
             "line": {
              "color": "#E5ECF6",
              "width": 0.5
             },
             "pattern": {
              "fillmode": "overlay",
              "size": 10,
              "solidity": 0.2
             }
            },
            "type": "barpolar"
           }
          ],
          "carpet": [
           {
            "aaxis": {
             "endlinecolor": "#2a3f5f",
             "gridcolor": "white",
             "linecolor": "white",
             "minorgridcolor": "white",
             "startlinecolor": "#2a3f5f"
            },
            "baxis": {
             "endlinecolor": "#2a3f5f",
             "gridcolor": "white",
             "linecolor": "white",
             "minorgridcolor": "white",
             "startlinecolor": "#2a3f5f"
            },
            "type": "carpet"
           }
          ],
          "choropleth": [
           {
            "colorbar": {
             "outlinewidth": 0,
             "ticks": ""
            },
            "type": "choropleth"
           }
          ],
          "contour": [
           {
            "colorbar": {
             "outlinewidth": 0,
             "ticks": ""
            },
            "colorscale": [
             [
              0,
              "#0d0887"
             ],
             [
              0.1111111111111111,
              "#46039f"
             ],
             [
              0.2222222222222222,
              "#7201a8"
             ],
             [
              0.3333333333333333,
              "#9c179e"
             ],
             [
              0.4444444444444444,
              "#bd3786"
             ],
             [
              0.5555555555555556,
              "#d8576b"
             ],
             [
              0.6666666666666666,
              "#ed7953"
             ],
             [
              0.7777777777777778,
              "#fb9f3a"
             ],
             [
              0.8888888888888888,
              "#fdca26"
             ],
             [
              1,
              "#f0f921"
             ]
            ],
            "type": "contour"
           }
          ],
          "contourcarpet": [
           {
            "colorbar": {
             "outlinewidth": 0,
             "ticks": ""
            },
            "type": "contourcarpet"
           }
          ],
          "heatmap": [
           {
            "colorbar": {
             "outlinewidth": 0,
             "ticks": ""
            },
            "colorscale": [
             [
              0,
              "#0d0887"
             ],
             [
              0.1111111111111111,
              "#46039f"
             ],
             [
              0.2222222222222222,
              "#7201a8"
             ],
             [
              0.3333333333333333,
              "#9c179e"
             ],
             [
              0.4444444444444444,
              "#bd3786"
             ],
             [
              0.5555555555555556,
              "#d8576b"
             ],
             [
              0.6666666666666666,
              "#ed7953"
             ],
             [
              0.7777777777777778,
              "#fb9f3a"
             ],
             [
              0.8888888888888888,
              "#fdca26"
             ],
             [
              1,
              "#f0f921"
             ]
            ],
            "type": "heatmap"
           }
          ],
          "heatmapgl": [
           {
            "colorbar": {
             "outlinewidth": 0,
             "ticks": ""
            },
            "colorscale": [
             [
              0,
              "#0d0887"
             ],
             [
              0.1111111111111111,
              "#46039f"
             ],
             [
              0.2222222222222222,
              "#7201a8"
             ],
             [
              0.3333333333333333,
              "#9c179e"
             ],
             [
              0.4444444444444444,
              "#bd3786"
             ],
             [
              0.5555555555555556,
              "#d8576b"
             ],
             [
              0.6666666666666666,
              "#ed7953"
             ],
             [
              0.7777777777777778,
              "#fb9f3a"
             ],
             [
              0.8888888888888888,
              "#fdca26"
             ],
             [
              1,
              "#f0f921"
             ]
            ],
            "type": "heatmapgl"
           }
          ],
          "histogram": [
           {
            "marker": {
             "pattern": {
              "fillmode": "overlay",
              "size": 10,
              "solidity": 0.2
             }
            },
            "type": "histogram"
           }
          ],
          "histogram2d": [
           {
            "colorbar": {
             "outlinewidth": 0,
             "ticks": ""
            },
            "colorscale": [
             [
              0,
              "#0d0887"
             ],
             [
              0.1111111111111111,
              "#46039f"
             ],
             [
              0.2222222222222222,
              "#7201a8"
             ],
             [
              0.3333333333333333,
              "#9c179e"
             ],
             [
              0.4444444444444444,
              "#bd3786"
             ],
             [
              0.5555555555555556,
              "#d8576b"
             ],
             [
              0.6666666666666666,
              "#ed7953"
             ],
             [
              0.7777777777777778,
              "#fb9f3a"
             ],
             [
              0.8888888888888888,
              "#fdca26"
             ],
             [
              1,
              "#f0f921"
             ]
            ],
            "type": "histogram2d"
           }
          ],
          "histogram2dcontour": [
           {
            "colorbar": {
             "outlinewidth": 0,
             "ticks": ""
            },
            "colorscale": [
             [
              0,
              "#0d0887"
             ],
             [
              0.1111111111111111,
              "#46039f"
             ],
             [
              0.2222222222222222,
              "#7201a8"
             ],
             [
              0.3333333333333333,
              "#9c179e"
             ],
             [
              0.4444444444444444,
              "#bd3786"
             ],
             [
              0.5555555555555556,
              "#d8576b"
             ],
             [
              0.6666666666666666,
              "#ed7953"
             ],
             [
              0.7777777777777778,
              "#fb9f3a"
             ],
             [
              0.8888888888888888,
              "#fdca26"
             ],
             [
              1,
              "#f0f921"
             ]
            ],
            "type": "histogram2dcontour"
           }
          ],
          "mesh3d": [
           {
            "colorbar": {
             "outlinewidth": 0,
             "ticks": ""
            },
            "type": "mesh3d"
           }
          ],
          "parcoords": [
           {
            "line": {
             "colorbar": {
              "outlinewidth": 0,
              "ticks": ""
             }
            },
            "type": "parcoords"
           }
          ],
          "pie": [
           {
            "automargin": true,
            "type": "pie"
           }
          ],
          "scatter": [
           {
            "fillpattern": {
             "fillmode": "overlay",
             "size": 10,
             "solidity": 0.2
            },
            "type": "scatter"
           }
          ],
          "scatter3d": [
           {
            "line": {
             "colorbar": {
              "outlinewidth": 0,
              "ticks": ""
             }
            },
            "marker": {
             "colorbar": {
              "outlinewidth": 0,
              "ticks": ""
             }
            },
            "type": "scatter3d"
           }
          ],
          "scattercarpet": [
           {
            "marker": {
             "colorbar": {
              "outlinewidth": 0,
              "ticks": ""
             }
            },
            "type": "scattercarpet"
           }
          ],
          "scattergeo": [
           {
            "marker": {
             "colorbar": {
              "outlinewidth": 0,
              "ticks": ""
             }
            },
            "type": "scattergeo"
           }
          ],
          "scattergl": [
           {
            "marker": {
             "colorbar": {
              "outlinewidth": 0,
              "ticks": ""
             }
            },
            "type": "scattergl"
           }
          ],
          "scattermapbox": [
           {
            "marker": {
             "colorbar": {
              "outlinewidth": 0,
              "ticks": ""
             }
            },
            "type": "scattermapbox"
           }
          ],
          "scatterpolar": [
           {
            "marker": {
             "colorbar": {
              "outlinewidth": 0,
              "ticks": ""
             }
            },
            "type": "scatterpolar"
           }
          ],
          "scatterpolargl": [
           {
            "marker": {
             "colorbar": {
              "outlinewidth": 0,
              "ticks": ""
             }
            },
            "type": "scatterpolargl"
           }
          ],
          "scatterternary": [
           {
            "marker": {
             "colorbar": {
              "outlinewidth": 0,
              "ticks": ""
             }
            },
            "type": "scatterternary"
           }
          ],
          "surface": [
           {
            "colorbar": {
             "outlinewidth": 0,
             "ticks": ""
            },
            "colorscale": [
             [
              0,
              "#0d0887"
             ],
             [
              0.1111111111111111,
              "#46039f"
             ],
             [
              0.2222222222222222,
              "#7201a8"
             ],
             [
              0.3333333333333333,
              "#9c179e"
             ],
             [
              0.4444444444444444,
              "#bd3786"
             ],
             [
              0.5555555555555556,
              "#d8576b"
             ],
             [
              0.6666666666666666,
              "#ed7953"
             ],
             [
              0.7777777777777778,
              "#fb9f3a"
             ],
             [
              0.8888888888888888,
              "#fdca26"
             ],
             [
              1,
              "#f0f921"
             ]
            ],
            "type": "surface"
           }
          ],
          "table": [
           {
            "cells": {
             "fill": {
              "color": "#EBF0F8"
             },
             "line": {
              "color": "white"
             }
            },
            "header": {
             "fill": {
              "color": "#C8D4E3"
             },
             "line": {
              "color": "white"
             }
            },
            "type": "table"
           }
          ]
         },
         "layout": {
          "annotationdefaults": {
           "arrowcolor": "#2a3f5f",
           "arrowhead": 0,
           "arrowwidth": 1
          },
          "autotypenumbers": "strict",
          "coloraxis": {
           "colorbar": {
            "outlinewidth": 0,
            "ticks": ""
           }
          },
          "colorscale": {
           "diverging": [
            [
             0,
             "#8e0152"
            ],
            [
             0.1,
             "#c51b7d"
            ],
            [
             0.2,
             "#de77ae"
            ],
            [
             0.3,
             "#f1b6da"
            ],
            [
             0.4,
             "#fde0ef"
            ],
            [
             0.5,
             "#f7f7f7"
            ],
            [
             0.6,
             "#e6f5d0"
            ],
            [
             0.7,
             "#b8e186"
            ],
            [
             0.8,
             "#7fbc41"
            ],
            [
             0.9,
             "#4d9221"
            ],
            [
             1,
             "#276419"
            ]
           ],
           "sequential": [
            [
             0,
             "#0d0887"
            ],
            [
             0.1111111111111111,
             "#46039f"
            ],
            [
             0.2222222222222222,
             "#7201a8"
            ],
            [
             0.3333333333333333,
             "#9c179e"
            ],
            [
             0.4444444444444444,
             "#bd3786"
            ],
            [
             0.5555555555555556,
             "#d8576b"
            ],
            [
             0.6666666666666666,
             "#ed7953"
            ],
            [
             0.7777777777777778,
             "#fb9f3a"
            ],
            [
             0.8888888888888888,
             "#fdca26"
            ],
            [
             1,
             "#f0f921"
            ]
           ],
           "sequentialminus": [
            [
             0,
             "#0d0887"
            ],
            [
             0.1111111111111111,
             "#46039f"
            ],
            [
             0.2222222222222222,
             "#7201a8"
            ],
            [
             0.3333333333333333,
             "#9c179e"
            ],
            [
             0.4444444444444444,
             "#bd3786"
            ],
            [
             0.5555555555555556,
             "#d8576b"
            ],
            [
             0.6666666666666666,
             "#ed7953"
            ],
            [
             0.7777777777777778,
             "#fb9f3a"
            ],
            [
             0.8888888888888888,
             "#fdca26"
            ],
            [
             1,
             "#f0f921"
            ]
           ]
          },
          "colorway": [
           "#636efa",
           "#EF553B",
           "#00cc96",
           "#ab63fa",
           "#FFA15A",
           "#19d3f3",
           "#FF6692",
           "#B6E880",
           "#FF97FF",
           "#FECB52"
          ],
          "font": {
           "color": "#2a3f5f"
          },
          "geo": {
           "bgcolor": "white",
           "lakecolor": "white",
           "landcolor": "#E5ECF6",
           "showlakes": true,
           "showland": true,
           "subunitcolor": "white"
          },
          "hoverlabel": {
           "align": "left"
          },
          "hovermode": "closest",
          "mapbox": {
           "style": "light"
          },
          "paper_bgcolor": "white",
          "plot_bgcolor": "#E5ECF6",
          "polar": {
           "angularaxis": {
            "gridcolor": "white",
            "linecolor": "white",
            "ticks": ""
           },
           "bgcolor": "#E5ECF6",
           "radialaxis": {
            "gridcolor": "white",
            "linecolor": "white",
            "ticks": ""
           }
          },
          "scene": {
           "xaxis": {
            "backgroundcolor": "#E5ECF6",
            "gridcolor": "white",
            "gridwidth": 2,
            "linecolor": "white",
            "showbackground": true,
            "ticks": "",
            "zerolinecolor": "white"
           },
           "yaxis": {
            "backgroundcolor": "#E5ECF6",
            "gridcolor": "white",
            "gridwidth": 2,
            "linecolor": "white",
            "showbackground": true,
            "ticks": "",
            "zerolinecolor": "white"
           },
           "zaxis": {
            "backgroundcolor": "#E5ECF6",
            "gridcolor": "white",
            "gridwidth": 2,
            "linecolor": "white",
            "showbackground": true,
            "ticks": "",
            "zerolinecolor": "white"
           }
          },
          "shapedefaults": {
           "line": {
            "color": "#2a3f5f"
           }
          },
          "ternary": {
           "aaxis": {
            "gridcolor": "white",
            "linecolor": "white",
            "ticks": ""
           },
           "baxis": {
            "gridcolor": "white",
            "linecolor": "white",
            "ticks": ""
           },
           "bgcolor": "#E5ECF6",
           "caxis": {
            "gridcolor": "white",
            "linecolor": "white",
            "ticks": ""
           }
          },
          "title": {
           "x": 0.05
          },
          "xaxis": {
           "automargin": true,
           "gridcolor": "white",
           "linecolor": "white",
           "ticks": "",
           "title": {
            "standoff": 15
           },
           "zerolinecolor": "white",
           "zerolinewidth": 2
          },
          "yaxis": {
           "automargin": true,
           "gridcolor": "white",
           "linecolor": "white",
           "ticks": "",
           "title": {
            "standoff": 15
           },
           "zerolinecolor": "white",
           "zerolinewidth": 2
          }
         }
        },
        "title": {
         "text": "Top 10 Ridge Regressor Coefficients (Descending Order)"
        },
        "xaxis": {
         "anchor": "y",
         "domain": [
          0,
          1
         ],
         "title": {
          "text": "Coefficient"
         }
        },
        "yaxis": {
         "anchor": "x",
         "autorange": "reversed",
         "domain": [
          0,
          1
         ],
         "title": {
          "text": "index"
         }
        }
       }
      }
     },
     "metadata": {},
     "output_type": "display_data"
    }
   ],
   "source": [
    "import numpy as np\n",
    "import plotly.express as px\n",
    "import matplotlib.pyplot as plt\n",
    "from sklearn.linear_model import Ridge\n",
    "from sklearn.datasets import make_regression\n",
    "\n",
    "# Sort the coefficients in descending order\n",
    "sorted_coef_dict = dict(sorted(coef_dict_ridge.items(), key=lambda item: abs(item[1]), reverse=True))\n",
    "\n",
    "# Select only the top 10 coefficients\n",
    "top_coef_dict = {k: v for k, v in sorted_coef_dict.items() if k in list(sorted_coef_dict.keys())[:10]}\n",
    "\n",
    "# Create a DataFrame for Plotly Express\n",
    "coef_df = pd.DataFrame.from_dict(top_coef_dict, orient='index', columns=['Coefficient'])\n",
    "\n",
    "# Create a bar plot using Plotly Express\n",
    "fig = px.bar(coef_df, y=coef_df.index, x='Coefficient', orientation='h', title='Top 10 Ridge Regressor Coefficients (Descending Order)')\n",
    "fig.update_layout(yaxis_autorange='reversed')  # Invert the y-axis\n",
    "fig.show()"
   ]
  },
  {
   "cell_type": "markdown",
   "metadata": {},
   "source": [
    "## Modelling based on the player's position"
   ]
  },
  {
   "cell_type": "code",
   "execution_count": null,
   "metadata": {},
   "outputs": [],
   "source": [
    "# Separate the data based on 'MACRO_POSITION' columns\n",
    "attack_indices = X['MACRO_POSITION_Attack'] == 1\n",
    "defense_indices = X['MACRO_POSITION_Defense'] == 1\n",
    "midfield_indices = X['MACRO_POSITION_Midfield'] == 1"
   ]
  },
  {
   "cell_type": "markdown",
   "metadata": {},
   "source": [
    "### Gradient Boosting"
   ]
  },
  {
   "cell_type": "code",
   "execution_count": null,
   "metadata": {},
   "outputs": [],
   "source": [
    "import joblib\n",
    "import statsmodels.api as sm\n",
    "\n",
    "# Initialize lists to store RMSE values for each model\n",
    "rmse_attack = []\n",
    "rmse_defense = []\n",
    "rmse_midfield = []\n",
    "\n",
    "# Initialize lists to store R-squared values for each model\n",
    "r2_attack = []\n",
    "r2_defense = []\n",
    "r2_midfield = []\n",
    "\n",
    "# Initialize lists to store feature importances for each model\n",
    "feature_importance_attack = []\n",
    "feature_importance_defense = []\n",
    "feature_importance_midfield = []\n",
    "\n",
    "# Perform hyperparameter optimization and train models for each subset\n",
    "for indices, position in zip([attack_indices, defense_indices, midfield_indices], ['Attack', 'Defense', 'Midfield']):\n",
    "    X_subset = X[indices]\n",
    "    y_subset = y[indices]\n",
    "\n",
    "    # Split data into train and test sets\n",
    "    X_train, X_test, y_train, y_test = train_test_split(X_subset, y_subset, test_size=0.4, random_state=1)\n",
    "\n",
    "    # Create a Gradient Boosting Regressor\n",
    "    gb_regressor = GradientBoostingRegressor(n_estimators=200, learning_rate=0.2, max_depth=3, random_state=1)\n",
    "\n",
    "    # Fit the model\n",
    "    gb_regressor.fit(X_train, y_train.values.ravel())\n",
    "\n",
    "    # Predict on the test set\n",
    "    y_pred = gb_regressor.predict(X_test)\n",
    "\n",
    "    # Calculate R-squared for the current subset\n",
    "    r2 = r2_score(y_test, y_pred)\n",
    "\n",
    "    if position == 'Attack':\n",
    "        r2_attack.append(r2)\n",
    "        feature_importance_attack.append(gb_regressor.feature_importances_)\n",
    "    elif position == 'Defense':\n",
    "        r2_defense.append(r2)\n",
    "        feature_importance_defense.append(gb_regressor.feature_importances_)\n",
    "    elif position == 'Midfield':\n",
    "        r2_midfield.append(r2)\n",
    "        feature_importance_midfield.append(gb_regressor.feature_importances_)\n",
    "    \n",
    "    # Calculate RMSE for the current subset\n",
    "    rmse = mean_squared_error(y_test, y_pred, squared=False)\n",
    "\n",
    "    if position == 'Attack':\n",
    "        rmse_attack.append(rmse)\n",
    "    elif position == 'Defense':\n",
    "        rmse_defense.append(rmse)\n",
    "    elif position == 'Midfield':\n",
    "        rmse_midfield.append(rmse)\n",
    "        \n",
    "    # Save the model\n",
    "    model_filename = f'models/model_{position}.joblib'\n",
    "    joblib.dump(gb_regressor, model_filename)"
   ]
  },
  {
   "cell_type": "code",
   "execution_count": null,
   "metadata": {},
   "outputs": [],
   "source": [
    "import matplotlib.pyplot as plt\n",
    "\n",
    "# Show the top 5 most important features for each model\n",
    "def plot_feature_importance(position, feature_importance):\n",
    "    top_features = X.columns[np.argsort(feature_importance)[::-1]][:10]\n",
    "    top_importance = feature_importance[np.argsort(feature_importance)[::-1]][:10]\n",
    "\n",
    "    plt.figure(figsize=(10, 8))\n",
    "    plt.barh(top_features, top_importance, color='skyblue')\n",
    "    plt.xlabel('Feature Importance')\n",
    "    plt.ylabel('Feature')\n",
    "    plt.title(f'Top 10 Most Important Features for {position} players')\n",
    "    plt.gca().invert_yaxis()\n",
    "\n",
    "    for i, (feature, importance) in enumerate(zip(top_features, top_importance)):\n",
    "        plt.text(importance + 0.005, i, f'{importance:.4f}', va='center', color='black', fontsize=10)\n",
    "\n",
    "    plt.show()\n",
    "\n",
    "plot_feature_importance('Attack', np.mean(feature_importance_attack, axis=0))\n",
    "plot_feature_importance('Defense', np.mean(feature_importance_defense, axis=0))\n",
    "plot_feature_importance('Midfield', np.mean(feature_importance_midfield, axis=0))"
   ]
  },
  {
   "cell_type": "markdown",
   "metadata": {},
   "source": [
    "#### Overfitting Analysis"
   ]
  },
  {
   "cell_type": "code",
   "execution_count": null,
   "metadata": {},
   "outputs": [],
   "source": [
    "from sklearn.metrics import mean_squared_error\n",
    "\n",
    "# Initialize lists to store RMSE values for each model\n",
    "rmse_attack_train = []\n",
    "rmse_attack_test = []\n",
    "\n",
    "rmse_defense_train = []\n",
    "rmse_defense_test = []\n",
    "\n",
    "rmse_midfield_train = []\n",
    "rmse_midfield_test = []\n",
    "\n",
    "# Perform hyperparameter optimization and train models for each subset\n",
    "for indices, position in zip([attack_indices, defense_indices, midfield_indices], ['Attack', 'Defense', 'Midfield']):\n",
    "    X_subset = X[indices]\n",
    "    y_subset = y[indices]\n",
    "\n",
    "    # Split data into train and test sets\n",
    "    X_train, X_test, y_train, y_test = train_test_split(X_subset, y_subset, test_size=0.4, random_state=1)\n",
    "\n",
    "    # Create a Gradient Boosting Regressor\n",
    "    gb_regressor = GradientBoostingRegressor(n_estimators=200, learning_rate=0.2, max_depth=3, random_state=1)\n",
    "\n",
    "    # Fit the model\n",
    "    gb_regressor.fit(X_train, y_train.values.ravel())\n",
    "\n",
    "    # Predict on training data\n",
    "    y_train_pred = gb_regressor.predict(X_train)\n",
    "\n",
    "    # Predict on test data\n",
    "    y_test_pred = gb_regressor.predict(X_test)\n",
    "\n",
    "    # Calculate RMSE for training and test data\n",
    "    rmse_train = np.sqrt(mean_squared_error(y_train, y_train_pred))\n",
    "    rmse_test = np.sqrt(mean_squared_error(y_test, y_test_pred))\n",
    "\n",
    "    if position == 'Attack':\n",
    "        rmse_attack_train.append(rmse_train)\n",
    "        rmse_attack_test.append(rmse_test)\n",
    "    elif position == 'Defense':\n",
    "        rmse_defense_train.append(rmse_train)\n",
    "        rmse_defense_test.append(rmse_test)\n",
    "    elif position == 'Midfield':\n",
    "        rmse_midfield_train.append(rmse_train)\n",
    "        rmse_midfield_test.append(rmse_test)\n",
    "\n",
    "# Print RMSE values for each model\n",
    "print(\"Overfitting Analysis - Attack:\")\n",
    "print(f\"  RMSE (Train): {np.mean(rmse_attack_train):.4f}\")\n",
    "print(f\"  RMSE (Test): {np.mean(rmse_attack_test):.4f}\")\n",
    "print()\n",
    "\n",
    "print(\"Overfitting Analysis - Defense:\")\n",
    "print(f\"  RMSE (Train): {np.mean(rmse_defense_train):.4f}\")\n",
    "print(f\"  RMSE (Test): {np.mean(rmse_defense_test):.4f}\")\n",
    "print()\n",
    "\n",
    "print(\"Overfitting Analysis - Midfield:\")\n",
    "print(f\"  RMSE (Train): {np.mean(rmse_midfield_train):.4f}\")\n",
    "print(f\"  RMSE (Test): {np.mean(rmse_midfield_test):.4f}\")"
   ]
  },
  {
   "cell_type": "markdown",
   "metadata": {},
   "source": [
    "### Ridge Regressor"
   ]
  },
  {
   "cell_type": "code",
   "execution_count": null,
   "metadata": {},
   "outputs": [],
   "source": [
    "from sklearn.model_selection import GridSearchCV\n",
    "from sklearn.metrics import r2_score\n",
    "from sklearn.linear_model import Ridge\n",
    "\n",
    "# Initialize lists to store RMSE values for each model\n",
    "rmse_attack_train = []\n",
    "rmse_attack_test = []\n",
    "r2_attack_scores = []\n",
    "best_params_attack = []\n",
    "\n",
    "rmse_defense_train = []\n",
    "rmse_defense_test = []\n",
    "r2_defense_scores = []\n",
    "best_params_defense = []\n",
    "\n",
    "rmse_midfield_train = []\n",
    "rmse_midfield_test = []\n",
    "r2_midfield_scores = []\n",
    "best_params_midfield = []\n",
    "\n",
    "# Initialize lists to store feature importances for each model\n",
    "feature_importance_attack = []\n",
    "feature_importance_defense = []\n",
    "feature_importance_midfield = []\n",
    "\n",
    "# Parameters for grid search\n",
    "param_grid = {'alpha': [0.01, 0.1, 1, 10]}\n",
    "\n",
    "# Perform hyperparameter optimization and train models for each subset\n",
    "for indices, position in zip([attack_indices, defense_indices, midfield_indices], ['Attack', 'Defense', 'Midfield']):\n",
    "    X_subset = X[indices]\n",
    "    y_subset = y[indices]\n",
    "\n",
    "    # Split data into train and test sets\n",
    "    X_train, X_test, y_train, y_test = train_test_split(X_subset, y_subset, test_size=0.4, random_state=1)\n",
    "\n",
    "    # Create Ridge regressor\n",
    "    ridge = Ridge()\n",
    "\n",
    "    # Perform GridSearchCV\n",
    "    grid_search = GridSearchCV(ridge, param_grid, cv=5)\n",
    "    grid_search.fit(X_train, y_train)\n",
    "\n",
    "    # Get best parameters and best estimator\n",
    "    best_params = grid_search.best_params_\n",
    "    best_estimator = grid_search.best_estimator_\n",
    "\n",
    "    # Predict on training data\n",
    "    y_train_pred = best_estimator.predict(X_train)\n",
    "\n",
    "    # Predict on test data\n",
    "    y_test_pred = best_estimator.predict(X_test)\n",
    "\n",
    "    # Calculate RMSE for training and test data\n",
    "    rmse_train = np.sqrt(mean_squared_error(y_train, y_train_pred))\n",
    "    rmse_test = np.sqrt(mean_squared_error(y_test, y_test_pred))\n",
    "\n",
    "    # Calculate R-squared score for test data\n",
    "    r2_score_test = r2_score(y_test, y_test_pred)\n",
    "\n",
    "    if position == 'Attack':\n",
    "        rmse_attack_train.append(rmse_train)\n",
    "        rmse_attack_test.append(rmse_test)\n",
    "        r2_attack_scores.append(r2_score_test)\n",
    "        feature_importance_attack = best_estimator.coef_\n",
    "        best_params_attack.append(best_params)\n",
    "    elif position == 'Defense':\n",
    "        rmse_defense_train.append(rmse_train)\n",
    "        rmse_defense_test.append(rmse_test)\n",
    "        r2_defense_scores.append(r2_score_test)\n",
    "        feature_importance_defense = best_estimator.coef_\n",
    "        best_params_defense.append(best_params)\n",
    "    elif position == 'Midfield':\n",
    "        rmse_midfield_train.append(rmse_train)\n",
    "        rmse_midfield_test.append(rmse_test)\n",
    "        r2_midfield_scores.append(r2_score_test)\n",
    "        feature_importance_midfield = best_estimator.coef_\n",
    "        best_params_midfield.append(best_params)\n",
    "\n",
    "# Print overfitting analysis and R-squared scores for each model\n",
    "print(\"Overfitting Analysis with Regularization - Attack:\")\n",
    "print(f\"  RMSE (Train): {np.mean(rmse_attack_train):.4f}\")\n",
    "print(f\"  RMSE (Test): {np.mean(rmse_attack_test):.4f}\")\n",
    "print(f\"  R-squared (Test): {np.mean(r2_attack_scores):.4f}\")\n",
    "print(f\"  Best Parameters: {best_params_attack}\")\n",
    "\n",
    "print(\"\\nOverfitting Analysis with Regularization - Defense:\")\n",
    "print(f\"  RMSE (Train): {np.mean(rmse_defense_train):.4f}\")\n",
    "print(f\"  RMSE (Test): {np.mean(rmse_defense_test):.4f}\")\n",
    "print(f\"  R-squared (Test): {np.mean(r2_defense_scores):.4f}\")\n",
    "print(f\"  Best Parameters: {best_params_defense}\")\n",
    "\n",
    "print(\"\\nOverfitting Analysis with Regularization - Midfield:\")\n",
    "print(f\"  RMSE (Train): {np.mean(rmse_midfield_train):.4f}\")\n",
    "print(f\"  RMSE (Test): {np.mean(rmse_midfield_test):.4f}\")\n",
    "print(f\"  R-squared (Test): {np.mean(r2_midfield_scores):.4f}\")\n",
    "print(f\"  Best Parameters: {best_params_midfield}\")"
   ]
  }
 ],
 "metadata": {
  "kernelspec": {
   "display_name": "base",
   "language": "python",
   "name": "python3"
  },
  "language_info": {
   "codemirror_mode": {
    "name": "ipython",
    "version": 3
   },
   "file_extension": ".py",
   "mimetype": "text/x-python",
   "name": "python",
   "nbconvert_exporter": "python",
   "pygments_lexer": "ipython3",
   "version": "3.9.13"
  },
  "orig_nbformat": 4
 },
 "nbformat": 4,
 "nbformat_minor": 2
}
