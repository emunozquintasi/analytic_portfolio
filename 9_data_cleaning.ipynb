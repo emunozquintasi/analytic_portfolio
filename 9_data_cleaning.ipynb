{
 "cells": [
  {
   "cell_type": "markdown",
   "metadata": {},
   "source": [
    "# DATA CLEANING"
   ]
  },
  {
   "cell_type": "markdown",
   "metadata": {},
   "source": [
    "## Import packages and explore raw data"
   ]
  },
  {
   "cell_type": "code",
   "execution_count": 1,
   "metadata": {},
   "outputs": [],
   "source": [
    "#Import initial packages\n",
    "import pandas as pd"
   ]
  },
  {
   "cell_type": "code",
   "execution_count": 2,
   "metadata": {},
   "outputs": [],
   "source": [
    "#Load raw dataset\n",
    "data = pd.read_csv(\"datasets/raw_data_final/raw_final_dataset.csv\")"
   ]
  },
  {
   "cell_type": "code",
   "execution_count": 3,
   "metadata": {},
   "outputs": [
    {
     "data": {
      "text/plain": [
       "(3555, 113)"
      ]
     },
     "execution_count": 3,
     "metadata": {},
     "output_type": "execute_result"
    }
   ],
   "source": [
    "#Get the dimensions (rows, columns) of the dataframe\n",
    "data.shape\n",
    "#The dataset contains 3555 records and 113 records"
   ]
  },
  {
   "cell_type": "code",
   "execution_count": 4,
   "metadata": {},
   "outputs": [
    {
     "data": {
      "text/html": [
       "<div>\n",
       "<style scoped>\n",
       "    .dataframe tbody tr th:only-of-type {\n",
       "        vertical-align: middle;\n",
       "    }\n",
       "\n",
       "    .dataframe tbody tr th {\n",
       "        vertical-align: top;\n",
       "    }\n",
       "\n",
       "    .dataframe thead th {\n",
       "        text-align: right;\n",
       "    }\n",
       "</style>\n",
       "<table border=\"1\" class=\"dataframe\">\n",
       "  <thead>\n",
       "    <tr style=\"text-align: right;\">\n",
       "      <th></th>\n",
       "      <th>CLUB_NAME</th>\n",
       "      <th>PLAYER_NAME</th>\n",
       "      <th>PLAYER_VALUE</th>\n",
       "      <th>PLAYER_HREF</th>\n",
       "      <th>CLUB_HREF</th>\n",
       "      <th>LEAGUE_NAME</th>\n",
       "      <th>LEAGUE_COUNTRY</th>\n",
       "      <th>UrlFBref</th>\n",
       "      <th>CURRENT_INTERNATIONAL</th>\n",
       "      <th>DATE_OF_BIRTH</th>\n",
       "      <th>...</th>\n",
       "      <th>TKL_CHALLENGES</th>\n",
       "      <th>ATT_CHALLENGES</th>\n",
       "      <th>LOST_CHALLENGES</th>\n",
       "      <th>BLOCKS_BLOCKS</th>\n",
       "      <th>SH_BLOCKS</th>\n",
       "      <th>PASS_BLOCKS</th>\n",
       "      <th>INT</th>\n",
       "      <th>TKL+INT</th>\n",
       "      <th>CLR</th>\n",
       "      <th>ERR</th>\n",
       "    </tr>\n",
       "  </thead>\n",
       "  <tbody>\n",
       "    <tr>\n",
       "      <th>0</th>\n",
       "      <td>Manchester City</td>\n",
       "      <td>Ederson</td>\n",
       "      <td>€40.00m</td>\n",
       "      <td>https://www.transfermarkt.com/ederson/profil/s...</td>\n",
       "      <td>https://www.transfermarkt.us/manchester-city/s...</td>\n",
       "      <td>Premier League</td>\n",
       "      <td>England</td>\n",
       "      <td>https://fbref.com/en/players/3bb7b8b4/Ederson</td>\n",
       "      <td>Brazil</td>\n",
       "      <td>1993-08-17</td>\n",
       "      <td>...</td>\n",
       "      <td>1.0</td>\n",
       "      <td>2.0</td>\n",
       "      <td>1.0</td>\n",
       "      <td>0.0</td>\n",
       "      <td>0.0</td>\n",
       "      <td>0.0</td>\n",
       "      <td>1.0</td>\n",
       "      <td>4.0</td>\n",
       "      <td>10.0</td>\n",
       "      <td>2.0</td>\n",
       "    </tr>\n",
       "    <tr>\n",
       "      <th>1</th>\n",
       "      <td>Manchester City</td>\n",
       "      <td>S. Ortega</td>\n",
       "      <td>€9.00m</td>\n",
       "      <td>https://www.transfermarkt.com/stefan-ortega/pr...</td>\n",
       "      <td>https://www.transfermarkt.us/manchester-city/s...</td>\n",
       "      <td>Premier League</td>\n",
       "      <td>England</td>\n",
       "      <td>https://fbref.com/en/players/c1242d4e/Stefan-O...</td>\n",
       "      <td>Germany</td>\n",
       "      <td>1992-11-06</td>\n",
       "      <td>...</td>\n",
       "      <td>0.0</td>\n",
       "      <td>0.0</td>\n",
       "      <td>0.0</td>\n",
       "      <td>0.0</td>\n",
       "      <td>0.0</td>\n",
       "      <td>0.0</td>\n",
       "      <td>0.0</td>\n",
       "      <td>0.0</td>\n",
       "      <td>0.0</td>\n",
       "      <td>0.0</td>\n",
       "    </tr>\n",
       "    <tr>\n",
       "      <th>2</th>\n",
       "      <td>Manchester City</td>\n",
       "      <td>Z. Steffen</td>\n",
       "      <td>€3.50m</td>\n",
       "      <td>https://www.transfermarkt.com/zack-steffen/pro...</td>\n",
       "      <td>https://www.transfermarkt.us/manchester-city/s...</td>\n",
       "      <td>Premier League</td>\n",
       "      <td>England</td>\n",
       "      <td>https://fbref.com/en/players/42130443/Zack-Ste...</td>\n",
       "      <td>United States</td>\n",
       "      <td>1995-04-02</td>\n",
       "      <td>...</td>\n",
       "      <td>NaN</td>\n",
       "      <td>NaN</td>\n",
       "      <td>NaN</td>\n",
       "      <td>NaN</td>\n",
       "      <td>NaN</td>\n",
       "      <td>NaN</td>\n",
       "      <td>NaN</td>\n",
       "      <td>NaN</td>\n",
       "      <td>NaN</td>\n",
       "      <td>NaN</td>\n",
       "    </tr>\n",
       "    <tr>\n",
       "      <th>3</th>\n",
       "      <td>Manchester City</td>\n",
       "      <td>S. Carson</td>\n",
       "      <td>€200k</td>\n",
       "      <td>https://www.transfermarkt.com/scott-carson/pro...</td>\n",
       "      <td>https://www.transfermarkt.us/manchester-city/s...</td>\n",
       "      <td>Premier League</td>\n",
       "      <td>England</td>\n",
       "      <td>https://fbref.com/en/players/3e1550ee/Scott-Ca...</td>\n",
       "      <td>England</td>\n",
       "      <td>1985-09-03</td>\n",
       "      <td>...</td>\n",
       "      <td>NaN</td>\n",
       "      <td>NaN</td>\n",
       "      <td>NaN</td>\n",
       "      <td>NaN</td>\n",
       "      <td>NaN</td>\n",
       "      <td>NaN</td>\n",
       "      <td>NaN</td>\n",
       "      <td>NaN</td>\n",
       "      <td>NaN</td>\n",
       "      <td>NaN</td>\n",
       "    </tr>\n",
       "    <tr>\n",
       "      <th>4</th>\n",
       "      <td>Manchester City</td>\n",
       "      <td>R. Dias</td>\n",
       "      <td>€80.00m</td>\n",
       "      <td>https://www.transfermarkt.com/ruben-dias/profi...</td>\n",
       "      <td>https://www.transfermarkt.us/manchester-city/s...</td>\n",
       "      <td>Premier League</td>\n",
       "      <td>England</td>\n",
       "      <td>https://fbref.com/en/players/31c69ef1/Ruben-Dias</td>\n",
       "      <td>Portugal</td>\n",
       "      <td>1997-05-14</td>\n",
       "      <td>...</td>\n",
       "      <td>11.0</td>\n",
       "      <td>18.0</td>\n",
       "      <td>7.0</td>\n",
       "      <td>21.0</td>\n",
       "      <td>13.0</td>\n",
       "      <td>8.0</td>\n",
       "      <td>18.0</td>\n",
       "      <td>39.0</td>\n",
       "      <td>56.0</td>\n",
       "      <td>1.0</td>\n",
       "    </tr>\n",
       "  </tbody>\n",
       "</table>\n",
       "<p>5 rows × 113 columns</p>\n",
       "</div>"
      ],
      "text/plain": [
       "         CLUB_NAME PLAYER_NAME PLAYER_VALUE  \\\n",
       "0  Manchester City     Ederson      €40.00m   \n",
       "1  Manchester City   S. Ortega       €9.00m   \n",
       "2  Manchester City  Z. Steffen       €3.50m   \n",
       "3  Manchester City   S. Carson        €200k   \n",
       "4  Manchester City     R. Dias      €80.00m   \n",
       "\n",
       "                                         PLAYER_HREF  \\\n",
       "0  https://www.transfermarkt.com/ederson/profil/s...   \n",
       "1  https://www.transfermarkt.com/stefan-ortega/pr...   \n",
       "2  https://www.transfermarkt.com/zack-steffen/pro...   \n",
       "3  https://www.transfermarkt.com/scott-carson/pro...   \n",
       "4  https://www.transfermarkt.com/ruben-dias/profi...   \n",
       "\n",
       "                                           CLUB_HREF     LEAGUE_NAME  \\\n",
       "0  https://www.transfermarkt.us/manchester-city/s...  Premier League   \n",
       "1  https://www.transfermarkt.us/manchester-city/s...  Premier League   \n",
       "2  https://www.transfermarkt.us/manchester-city/s...  Premier League   \n",
       "3  https://www.transfermarkt.us/manchester-city/s...  Premier League   \n",
       "4  https://www.transfermarkt.us/manchester-city/s...  Premier League   \n",
       "\n",
       "  LEAGUE_COUNTRY                                           UrlFBref  \\\n",
       "0        England      https://fbref.com/en/players/3bb7b8b4/Ederson   \n",
       "1        England  https://fbref.com/en/players/c1242d4e/Stefan-O...   \n",
       "2        England  https://fbref.com/en/players/42130443/Zack-Ste...   \n",
       "3        England  https://fbref.com/en/players/3e1550ee/Scott-Ca...   \n",
       "4        England   https://fbref.com/en/players/31c69ef1/Ruben-Dias   \n",
       "\n",
       "  CURRENT_INTERNATIONAL DATE_OF_BIRTH  ...  TKL_CHALLENGES  ATT_CHALLENGES  \\\n",
       "0                Brazil    1993-08-17  ...             1.0             2.0   \n",
       "1               Germany    1992-11-06  ...             0.0             0.0   \n",
       "2         United States    1995-04-02  ...             NaN             NaN   \n",
       "3               England    1985-09-03  ...             NaN             NaN   \n",
       "4              Portugal    1997-05-14  ...            11.0            18.0   \n",
       "\n",
       "  LOST_CHALLENGES BLOCKS_BLOCKS SH_BLOCKS PASS_BLOCKS   INT TKL+INT   CLR  ERR  \n",
       "0             1.0           0.0       0.0         0.0   1.0     4.0  10.0  2.0  \n",
       "1             0.0           0.0       0.0         0.0   0.0     0.0   0.0  0.0  \n",
       "2             NaN           NaN       NaN         NaN   NaN     NaN   NaN  NaN  \n",
       "3             NaN           NaN       NaN         NaN   NaN     NaN   NaN  NaN  \n",
       "4             7.0          21.0      13.0         8.0  18.0    39.0  56.0  1.0  \n",
       "\n",
       "[5 rows x 113 columns]"
      ]
     },
     "execution_count": 4,
     "metadata": {},
     "output_type": "execute_result"
    }
   ],
   "source": [
    "#View the first few rows of the dataframe\n",
    "data.head()"
   ]
  },
  {
   "cell_type": "code",
   "execution_count": 5,
   "metadata": {},
   "outputs": [
    {
     "name": "stdout",
     "output_type": "stream",
     "text": [
      "<class 'pandas.core.frame.DataFrame'>\n",
      "RangeIndex: 3555 entries, 0 to 3554\n",
      "Columns: 113 entries, CLUB_NAME to ERR\n",
      "dtypes: float64(96), object(17)\n",
      "memory usage: 3.1+ MB\n"
     ]
    }
   ],
   "source": [
    "#Get general information about the dataframe, like data types and missing values\n",
    "data.info()"
   ]
  },
  {
   "cell_type": "markdown",
   "metadata": {},
   "source": [
    "## Remove Rows with Incomplete Information"
   ]
  },
  {
   "cell_type": "code",
   "execution_count": 6,
   "metadata": {},
   "outputs": [],
   "source": [
    "#Remove players who does not have PLAYER_VALUE\n",
    "data = data.dropna(subset=['PLAYER_VALUE'])"
   ]
  },
  {
   "cell_type": "code",
   "execution_count": 7,
   "metadata": {},
   "outputs": [],
   "source": [
    "#Remove Players who does not have player statistics\n",
    "data = data.dropna(subset=['UrlFBref'])"
   ]
  },
  {
   "cell_type": "code",
   "execution_count": 8,
   "metadata": {},
   "outputs": [],
   "source": [
    "#Remove Players who have MP_Playing as null\n",
    "#This players does not have statistics as well\n",
    "data = data.dropna(subset=['MP_PLAYING'])"
   ]
  },
  {
   "cell_type": "markdown",
   "metadata": {},
   "source": [
    "## Remove unnecesary columns"
   ]
  },
  {
   "cell_type": "code",
   "execution_count": 9,
   "metadata": {},
   "outputs": [],
   "source": [
    "to_drop = [\n",
    "    'CURRENT_CLUB', #this club information was after the completion of the 2022-2023 season\n",
    "    'PLAYER_NAME', #the player ID is going to be the identifier\n",
    "]\n",
    "data.drop(columns=to_drop, inplace=True)"
   ]
  },
  {
   "cell_type": "markdown",
   "metadata": {},
   "source": [
    "## Handle Missing Values"
   ]
  },
  {
   "cell_type": "markdown",
   "metadata": {},
   "source": [
    "*Handle missing values: Identify columns with missing values and decide how to handle them. You can either drop rows with missing values, impute missing values using techniques like mean, median, or mode.*"
   ]
  },
  {
   "cell_type": "code",
   "execution_count": 10,
   "metadata": {},
   "outputs": [],
   "source": [
    "#Get missing values and percentage statistics\n",
    "missing_values = data.isnull().sum()  # Count the missing values in each column\n",
    "missing_percentage = (data.isnull().sum() / len(data)) * 100  # Calculate the percentage of missing values in each column\n",
    "\n",
    "# Create a DataFrame to display the missing value information\n",
    "missing_data = pd.DataFrame({'Missing Values': missing_values, 'Missing Percentage': missing_percentage})\n",
    "missing_data = missing_data.sort_values(by='Missing Values', ascending=False)\n",
    "\n",
    "#Save the dataframe in a temp folder\n",
    "missing_data.to_csv(\"datasets/temp/TEMP_missing_data.csv\")\n",
    "#The missing_data head shows that the columns with highest percentage of missing values are the goalkeeper statistics, so to simplify the analysis, goalkeeper players (rows) and goalkeeper statistics will be dropped."
   ]
  },
  {
   "cell_type": "code",
   "execution_count": 11,
   "metadata": {},
   "outputs": [],
   "source": [
    "#Remove goalkeeper players and goalkeeper stats\n",
    "goalkeeper_stats_columns = ['GA', 'SOTA', 'SAVES', 'W', 'D', 'L', 'CS', 'PKATT_PENALTY', 'PKA_PENALTY', 'PKSV_PENALTY', 'PKM_PENALTY']\n",
    "data.drop(columns=goalkeeper_stats_columns, inplace=True)\n",
    "data = data[data['POSITION'] != 'Goalkeeper']"
   ]
  },
  {
   "cell_type": "code",
   "execution_count": 12,
   "metadata": {},
   "outputs": [
    {
     "data": {
      "text/plain": [
       "False    1457\n",
       "True      927\n",
       "Name: OUTFITTER, dtype: int64"
      ]
     },
     "execution_count": 12,
     "metadata": {},
     "output_type": "execute_result"
    }
   ],
   "source": [
    "#Transform \"OUTFITTER\" column to True if the value is not null\n",
    "data['OUTFITTER'] = data['OUTFITTER'].apply(lambda x: True if pd.notna(x) else False)\n",
    "data['OUTFITTER'].value_counts()"
   ]
  },
  {
   "cell_type": "code",
   "execution_count": 13,
   "metadata": {},
   "outputs": [],
   "source": [
    "#Impute \"DIST_STANDARD\" column with the median value\n",
    "median_dist = data['DIST_STANDARD'].median()\n",
    "data['DIST_STANDARD'] = data['DIST_STANDARD'].fillna(median_dist)"
   ]
  },
  {
   "cell_type": "code",
   "execution_count": 14,
   "metadata": {},
   "outputs": [
    {
     "data": {
      "text/plain": [
       "True     2153\n",
       "False     231\n",
       "Name: PLAYER_AGENT, dtype: int64"
      ]
     },
     "execution_count": 14,
     "metadata": {},
     "output_type": "execute_result"
    }
   ],
   "source": [
    "#Transform \"PLAYER_AGENT\" column to True if the value is not null\n",
    "data['PLAYER_AGENT'] = data['PLAYER_AGENT'].apply(lambda x: True if pd.notna(x) else False)\n",
    "data['PLAYER_AGENT'].value_counts()"
   ]
  },
  {
   "cell_type": "code",
   "execution_count": 15,
   "metadata": {},
   "outputs": [],
   "source": [
    "#Impute \"HEIGHT\" column with the median value\n",
    "median_height = data['HEIGHT'].median()\n",
    "data['HEIGHT'] = data['HEIGHT'].fillna(median_height)"
   ]
  },
  {
   "cell_type": "code",
   "execution_count": 16,
   "metadata": {},
   "outputs": [
    {
     "name": "stdout",
     "output_type": "stream",
     "text": [
      "right    1634\n",
      "left      624\n",
      "both       90\n",
      "Name: FOOT, dtype: int64\n"
     ]
    }
   ],
   "source": [
    "#Impute \"FOOT\" column with \"right\" value\n",
    "foot_values = data['FOOT'].value_counts()\n",
    "print(foot_values)\n",
    "#Most of the players are right-footed players, so the null values are imputed with this value (\"right\")\n",
    "data['FOOT'] = data['FOOT'].fillna('right')"
   ]
  },
  {
   "cell_type": "code",
   "execution_count": 17,
   "metadata": {},
   "outputs": [],
   "source": [
    "#Impute \"JOINED\" column with the start of the season date\n",
    "imputed_value = '2022-08-01' #This date is the start date of the 2022-2023 season\n",
    "data['JOINED'] = data['JOINED'].fillna(imputed_value)"
   ]
  },
  {
   "cell_type": "code",
   "execution_count": 18,
   "metadata": {},
   "outputs": [],
   "source": [
    "#CREATE \"YEAR_BIRTH\" column from \"DATE_OF_BIRTH\" column\n",
    "#Import datetime library\n",
    "import datetime as dt\n",
    "\n",
    "# Extract year from the \"DATE_OF_BIRTH\" column and create the \"YEAR_BIRTH\" column\n",
    "data['YEAR_BIRTH'] = pd.to_datetime(data['DATE_OF_BIRTH']).dt.year\n",
    "\n",
    "# Impute missing values in \"YEAR_BIRTH\" using \"AGE\" column\n",
    "current_year = 2023\n",
    "data['YEAR_BIRTH'] = data['YEAR_BIRTH'].fillna(current_year - data['AGE'])\n",
    "data.drop(columns=['DATE_OF_BIRTH'], inplace=True)"
   ]
  },
  {
   "cell_type": "code",
   "execution_count": 19,
   "metadata": {},
   "outputs": [],
   "source": [
    "# Function to convert the string values to numeric values in the \"PLAYER_VALUE\" column\n",
    "def convert_player_value(value):\n",
    "    multipliers = {'k': 1000, 'm': 1000000}\n",
    "    value = value.strip('€')\n",
    "    currency = value[-1]\n",
    "    number = value[:-1]\n",
    "    return float(number) * multipliers[currency]\n",
    "\n",
    "# Apply the conversion function to the \"PLAYER_VALUE\" column\n",
    "data['PLAYER_VALUE'] = data['PLAYER_VALUE'].apply(convert_player_value)"
   ]
  },
  {
   "cell_type": "code",
   "execution_count": 20,
   "metadata": {},
   "outputs": [],
   "source": [
    "# Impute \"MAX_PLAYER_VALUATION\" with the corresponding value from \"PLAYER_VALUE\"\n",
    "data['MAX_PLAYER_VALUATION'] = data['MAX_PLAYER_VALUATION'].fillna(data['PLAYER_VALUE'])"
   ]
  },
  {
   "cell_type": "markdown",
   "metadata": {},
   "source": [
    "## Extract player id from Transfermarkt URL using regular expressions"
   ]
  },
  {
   "cell_type": "code",
   "execution_count": 21,
   "metadata": {},
   "outputs": [],
   "source": [
    "#Import regular expression library\n",
    "import re\n",
    "data['ID'] = data['PLAYER_HREF'].apply(lambda x: re.findall(r\"/(\\d+)$\", x)[0])"
   ]
  },
  {
   "cell_type": "markdown",
   "metadata": {},
   "source": [
    "## Drop identifier columns: players' link, club's link"
   ]
  },
  {
   "cell_type": "code",
   "execution_count": 22,
   "metadata": {},
   "outputs": [],
   "source": [
    "#Select and drop columns\n",
    "columns_to_drop = ['PLAYER_HREF', 'CLUB_HREF', 'UrlFBref', 'JOINED', 'MAX_PLAYER_VALUATION_DATE', 'MAX_PLAYER_VALUATION', 'LEAGUE_NAME']\n",
    "data.drop(columns=columns_to_drop, inplace=True)"
   ]
  },
  {
   "cell_type": "code",
   "execution_count": 23,
   "metadata": {},
   "outputs": [
    {
     "data": {
      "text/plain": [
       "(2384, 94)"
      ]
     },
     "execution_count": 23,
     "metadata": {},
     "output_type": "execute_result"
    }
   ],
   "source": [
    "#View data shape\n",
    "data.shape"
   ]
  },
  {
   "cell_type": "code",
   "execution_count": 24,
   "metadata": {},
   "outputs": [],
   "source": [
    "#View columns data types\n",
    "data_types_df = pd.DataFrame(data.dtypes, columns=['Data Types'])\n",
    "data_types_df.to_csv(\"datasets/temp/TEMP_data_types.csv\")"
   ]
  },
  {
   "cell_type": "markdown",
   "metadata": {},
   "source": [
    "## Save cleaned dataframe"
   ]
  },
  {
   "cell_type": "code",
   "execution_count": 25,
   "metadata": {},
   "outputs": [],
   "source": [
    "#Save the \"data\" DataFrame as a CSV file named \"cleaned_dataset.csv\"\n",
    "data.to_csv('datasets/raw_data_final/cleaned_dataset.csv', index=False)"
   ]
  }
 ],
 "metadata": {
  "kernelspec": {
   "display_name": "base",
   "language": "python",
   "name": "python3"
  },
  "language_info": {
   "codemirror_mode": {
    "name": "ipython",
    "version": 3
   },
   "file_extension": ".py",
   "mimetype": "text/x-python",
   "name": "python",
   "nbconvert_exporter": "python",
   "pygments_lexer": "ipython3",
   "version": "3.9.13"
  },
  "orig_nbformat": 4
 },
 "nbformat": 4,
 "nbformat_minor": 2
}
