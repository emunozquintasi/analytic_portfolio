{
 "cells": [
  {
   "cell_type": "code",
   "execution_count": 9,
   "metadata": {},
   "outputs": [],
   "source": [
    "import requests\n",
    "from bs4 import BeautifulSoup\n",
    "import pandas as pd\n",
    "import numpy as np"
   ]
  },
  {
   "cell_type": "code",
   "execution_count": 10,
   "metadata": {},
   "outputs": [],
   "source": [
    "# List of leagues with their respective URL, league name, and country\n",
    "leagues = [\n",
    "    (\"https://www.transfermarkt.us/premier-league/startseite/wettbewerb/GB1/saison_id/2022\", \"Premier League\", \"England\"),\n",
    "    (\"https://www.transfermarkt.us/ligue-1/startseite/wettbewerb/FR1/saison_id/2022\", \"Ligue 1\", \"France\"),\n",
    "    (\"https://www.transfermarkt.us/laliga/startseite/wettbewerb/ES1/plus/?saison_id=2022\", \"La Liga\", \"Spain\"),\n",
    "    (\"https://www.transfermarkt.us/serie-a/startseite/wettbewerb/IT1/plus/?saison_id=2022\", \"Serie A\", \"Italy\"),\n",
    "    (\"https://www.transfermarkt.us/bundesliga/startseite/wettbewerb/L1/plus/?saison_id=2022\", \"Bundesliga\", \"Germany\")\n",
    "]"
   ]
  },
  {
   "cell_type": "code",
   "execution_count": 11,
   "metadata": {},
   "outputs": [],
   "source": [
    "#Set a user agent string in the request headers to mimic a web browser and make the request appear more like a legitimate user.\n",
    "headers = {\n",
    "    \"User-Agent\": \"Mozilla/5.0 (Windows NT 10.0; Win64; x64) AppleWebKit/537.36 (KHTML, like Gecko) Chrome/91.0.4472.124 Safari/537.36\"\n",
    "}"
   ]
  },
  {
   "cell_type": "code",
   "execution_count": 12,
   "metadata": {},
   "outputs": [],
   "source": [
    "def scrape_leagues(leagues):\n",
    "    club_data = []\n",
    "\n",
    "    for league in leagues:\n",
    "        url, league_name, country = league\n",
    "\n",
    "        # Send a GET request to the URL\n",
    "        response = requests.get(url, headers=headers)\n",
    "\n",
    "        # Create a BeautifulSoup object to parse the HTML content\n",
    "        soup = BeautifulSoup(response.content, \"html.parser\")\n",
    "\n",
    "        # Find all the club elements\n",
    "        club_elements = soup.find_all(\"td\", class_=\"hauptlink no-border-links\")\n",
    "\n",
    "        # Iterate over the club elements and extract the club name and href\n",
    "        for club in club_elements:\n",
    "            # Extract the club name\n",
    "            club_name = club.text.strip()\n",
    "\n",
    "            # Extract the href link\n",
    "            club_href = club.find(\"a\")[\"href\"]\n",
    "\n",
    "            club_data.append((league_name, country, club_name, club_href))\n",
    "\n",
    "    # Create a DataFrame from the extracted club data\n",
    "    df = pd.DataFrame(club_data, columns=[\"LEAGUE_NAME\", \"COUNTRY\", \"CLUB\", \"CLUB_HREF\"])\n",
    "\n",
    "    return df"
   ]
  },
  {
   "cell_type": "code",
   "execution_count": 13,
   "metadata": {},
   "outputs": [],
   "source": [
    "# Call the function to scrape the leagues and store the data in a DataFrame\n",
    "result_df = scrape_leagues(leagues)"
   ]
  },
  {
   "cell_type": "code",
   "execution_count": 14,
   "metadata": {},
   "outputs": [
    {
     "data": {
      "text/html": [
       "<div>\n",
       "<style scoped>\n",
       "    .dataframe tbody tr th:only-of-type {\n",
       "        vertical-align: middle;\n",
       "    }\n",
       "\n",
       "    .dataframe tbody tr th {\n",
       "        vertical-align: top;\n",
       "    }\n",
       "\n",
       "    .dataframe thead th {\n",
       "        text-align: right;\n",
       "    }\n",
       "</style>\n",
       "<table border=\"1\" class=\"dataframe\">\n",
       "  <thead>\n",
       "    <tr style=\"text-align: right;\">\n",
       "      <th></th>\n",
       "      <th>LEAGUE_NAME</th>\n",
       "      <th>COUNTRY</th>\n",
       "      <th>CLUB</th>\n",
       "      <th>CLUB_HREF</th>\n",
       "    </tr>\n",
       "  </thead>\n",
       "  <tbody>\n",
       "    <tr>\n",
       "      <th>0</th>\n",
       "      <td>Premier League</td>\n",
       "      <td>England</td>\n",
       "      <td>Manchester City</td>\n",
       "      <td>/manchester-city/startseite/verein/281/saison_...</td>\n",
       "    </tr>\n",
       "    <tr>\n",
       "      <th>1</th>\n",
       "      <td>Premier League</td>\n",
       "      <td>England</td>\n",
       "      <td>Arsenal FC</td>\n",
       "      <td>/fc-arsenal/startseite/verein/11/saison_id/2022</td>\n",
       "    </tr>\n",
       "    <tr>\n",
       "      <th>2</th>\n",
       "      <td>Premier League</td>\n",
       "      <td>England</td>\n",
       "      <td>Chelsea FC</td>\n",
       "      <td>/fc-chelsea/startseite/verein/631/saison_id/2022</td>\n",
       "    </tr>\n",
       "    <tr>\n",
       "      <th>3</th>\n",
       "      <td>Premier League</td>\n",
       "      <td>England</td>\n",
       "      <td>Manchester United</td>\n",
       "      <td>/manchester-united/startseite/verein/985/saiso...</td>\n",
       "    </tr>\n",
       "    <tr>\n",
       "      <th>4</th>\n",
       "      <td>Premier League</td>\n",
       "      <td>England</td>\n",
       "      <td>Liverpool FC</td>\n",
       "      <td>/fc-liverpool/startseite/verein/31/saison_id/2022</td>\n",
       "    </tr>\n",
       "  </tbody>\n",
       "</table>\n",
       "</div>"
      ],
      "text/plain": [
       "      LEAGUE_NAME  COUNTRY               CLUB  \\\n",
       "0  Premier League  England    Manchester City   \n",
       "1  Premier League  England         Arsenal FC   \n",
       "2  Premier League  England         Chelsea FC   \n",
       "3  Premier League  England  Manchester United   \n",
       "4  Premier League  England       Liverpool FC   \n",
       "\n",
       "                                           CLUB_HREF  \n",
       "0  /manchester-city/startseite/verein/281/saison_...  \n",
       "1    /fc-arsenal/startseite/verein/11/saison_id/2022  \n",
       "2   /fc-chelsea/startseite/verein/631/saison_id/2022  \n",
       "3  /manchester-united/startseite/verein/985/saiso...  \n",
       "4  /fc-liverpool/startseite/verein/31/saison_id/2022  "
      ]
     },
     "execution_count": 14,
     "metadata": {},
     "output_type": "execute_result"
    }
   ],
   "source": [
    "# Print the resulting DataFrame\n",
    "result_df.head()"
   ]
  },
  {
   "cell_type": "code",
   "execution_count": 15,
   "metadata": {},
   "outputs": [
    {
     "data": {
      "text/plain": [
       "(98, 4)"
      ]
     },
     "execution_count": 15,
     "metadata": {},
     "output_type": "execute_result"
    }
   ],
   "source": [
    "result_df.shape"
   ]
  },
  {
   "cell_type": "code",
   "execution_count": 16,
   "metadata": {},
   "outputs": [],
   "source": [
    "# Save the DataFrame to a CSV file\n",
    "result_df.to_csv(\"datasets/1_top_5_leagues_clubs_2223_season.csv\", index=False)"
   ]
  }
 ],
 "metadata": {
  "kernelspec": {
   "display_name": "base",
   "language": "python",
   "name": "python3"
  },
  "language_info": {
   "codemirror_mode": {
    "name": "ipython",
    "version": 3
   },
   "file_extension": ".py",
   "mimetype": "text/x-python",
   "name": "python",
   "nbconvert_exporter": "python",
   "pygments_lexer": "ipython3",
   "version": "3.9.13"
  },
  "orig_nbformat": 4
 },
 "nbformat": 4,
 "nbformat_minor": 2
}
